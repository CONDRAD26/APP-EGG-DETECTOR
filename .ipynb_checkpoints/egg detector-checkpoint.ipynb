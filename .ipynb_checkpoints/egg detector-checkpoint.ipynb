{
 "cells": [
  {
   "cell_type": "markdown",
   "id": "c3dffd99-49fd-4c9f-b84d-b6b2f0d5886d",
   "metadata": {},
   "source": [
    "## Import Libraries"
   ]
  },
  {
   "cell_type": "code",
   "execution_count": 7,
   "id": "2889c229-ef3b-40f5-b67a-b71ba50169fc",
   "metadata": {},
   "outputs": [],
   "source": [
    "import tensorflow as tf\n",
    "import matplotlib.pyplot as plt\n",
    "import pandas as pd\n",
    "import seaborn as sns\n"
   ]
  },
  {
   "cell_type": "markdown",
   "id": "1e3bc267-adc5-4220-b46d-04307a18c593",
   "metadata": {},
   "source": [
    "## Data Preprocessing"
   ]
  },
  {
   "cell_type": "markdown",
   "id": "bc070ed9-5f7a-432c-8929-356b6a213e32",
   "metadata": {},
   "source": [
    "## Training Image Preprocessing"
   ]
  },
  {
   "cell_type": "code",
   "execution_count": 10,
   "id": "755e237e-690d-4b9c-8b7f-68d478c1cb5b",
   "metadata": {},
   "outputs": [
    {
     "name": "stdout",
     "output_type": "stream",
     "text": [
      "Found 95 files belonging to 4 classes.\n"
     ]
    }
   ],
   "source": [
    "training_set = tf.keras.utils.image_dataset_from_directory(\n",
    "    'train',\n",
    "    labels=\"inferred\",\n",
    "    label_mode=\"categorical\",\n",
    "    class_names=None,\n",
    "    color_mode=\"rgb\",\n",
    "    batch_size=32,\n",
    "    image_size=(128, 128),\n",
    "    shuffle=True,\n",
    "    seed=None,\n",
    "    validation_split=None,\n",
    "    subset=None,\n",
    "    interpolation=\"bilinear\",\n",
    "    follow_links=False,\n",
    "    crop_to_aspect_ratio=False, \n",
    "    \n",
    ")"
   ]
  },
  {
   "cell_type": "markdown",
   "id": "0971ebd1-2e6b-428a-a4f4-78f060832a36",
   "metadata": {},
   "source": [
    "### Validation Image Preprocessing"
   ]
  },
  {
   "cell_type": "code",
   "execution_count": 12,
   "id": "a9897733-2cda-4c2c-82b2-5b89157b5c48",
   "metadata": {},
   "outputs": [
    {
     "name": "stdout",
     "output_type": "stream",
     "text": [
      "Found 95 files belonging to 4 classes.\n"
     ]
    }
   ],
   "source": [
    "validation_set = tf.keras.utils.image_dataset_from_directory(\n",
    "    'valid',\n",
    "    labels=\"inferred\",\n",
    "    label_mode=\"categorical\",\n",
    "    class_names=None,\n",
    "    color_mode=\"rgb\",\n",
    "    batch_size=32,\n",
    "    image_size=(128, 128),\n",
    "    shuffle=True,\n",
    "    seed=None,\n",
    "    validation_split=None,\n",
    "    subset=None,\n",
    "    interpolation=\"bilinear\",\n",
    "    follow_links=False,\n",
    "    crop_to_aspect_ratio=False, \n",
    ")"
   ]
  },
  {
   "cell_type": "code",
   "execution_count": 9,
   "id": "9d45d613-6136-4d3b-9794-08368700df0e",
   "metadata": {},
   "outputs": [
    {
     "data": {
      "text/plain": [
       "<_PrefetchDataset element_spec=(TensorSpec(shape=(None, 128, 128, 3), dtype=tf.float32, name=None), TensorSpec(shape=(None, 4), dtype=tf.float32, name=None))>"
      ]
     },
     "execution_count": 9,
     "metadata": {},
     "output_type": "execute_result"
    }
   ],
   "source": [
    "training_set"
   ]
  },
  {
   "cell_type": "code",
   "execution_count": 10,
   "id": "62c80c43-2a1f-43c5-8c78-6a0347d678e6",
   "metadata": {},
   "outputs": [
    {
     "name": "stdout",
     "output_type": "stream",
     "text": [
      "tf.Tensor(\n",
      "[[[[  0.           0.           2.        ]\n",
      "   [  0.           0.           2.        ]\n",
      "   [  0.           0.           2.        ]\n",
      "   ...\n",
      "   [  2.           1.           6.        ]\n",
      "   [  2.           1.           6.        ]\n",
      "   [  2.           1.           6.        ]]\n",
      "\n",
      "  [[  0.           0.           2.        ]\n",
      "   [  0.           0.           2.        ]\n",
      "   [  0.           0.           2.        ]\n",
      "   ...\n",
      "   [  2.           1.           6.        ]\n",
      "   [  2.           1.           6.        ]\n",
      "   [  2.           1.           6.        ]]\n",
      "\n",
      "  [[  0.           0.           2.        ]\n",
      "   [  0.           0.           2.        ]\n",
      "   [  0.           0.           2.        ]\n",
      "   ...\n",
      "   [  2.           1.           6.        ]\n",
      "   [  2.           1.           6.        ]\n",
      "   [  2.           1.           6.        ]]\n",
      "\n",
      "  ...\n",
      "\n",
      "  [[ 91.75391     64.15234     51.15625   ]\n",
      "   [107.5         79.89844     66.90234   ]\n",
      "   [127.08594     99.484375    86.48828   ]\n",
      "   ...\n",
      "   [214.3573     157.81046    101.384705  ]\n",
      "   [166.51813    126.48764     86.25717   ]\n",
      "   [ 11.051025     8.647919     7.5385437 ]]\n",
      "\n",
      "  [[132.20578    111.40109     91.283905  ]\n",
      "   [142.8406     122.03592    101.91873   ]\n",
      "   [156.1492     135.34451    115.227325  ]\n",
      "   ...\n",
      "   [ 62.028442    43.231537    21.98935   ]\n",
      "   [ 46.805756    32.84192     17.787384  ]\n",
      "   [  2.1667175    9.260162    13.998596  ]]\n",
      "\n",
      "  [[121.54407    105.54407     89.26282   ]\n",
      "   [136.63031    119.79047    102.66937   ]\n",
      "   [153.12735    132.92813    113.287506  ]\n",
      "   ...\n",
      "   [  5.816223     7.125824    12.283325  ]\n",
      "   [  7.7180786    8.7659      17.433899  ]\n",
      "   [  2.0525513    6.16864     11.28125   ]]]\n",
      "\n",
      "\n",
      " [[[ 22.707031    19.42981      7.4298096 ]\n",
      "   [ 37.45703     29.28479     13.5529175 ]\n",
      "   [ 53.13733     36.402954    15.668579  ]\n",
      "   ...\n",
      "   [ 60.588806    39.16693     18.166931  ]\n",
      "   [ 61.923645    35.47052     18.47052   ]\n",
      "   [ 56.892517    29.892517    12.892517  ]]\n",
      "\n",
      "  [[ 25.762085    19.845886     5.5369263 ]\n",
      "   [ 38.893433    28.052185    11.290466  ]\n",
      "   [ 57.40393     38.70575     18.090393  ]\n",
      "   ...\n",
      "   [ 56.5047      35.082825    14.082825  ]\n",
      "   [ 53.26172     27.153748    10.844055  ]\n",
      "   [ 50.87677     24.638489     9.161926  ]]\n",
      "\n",
      "  [[ 32.795837    20.918152     4.1474    ]\n",
      "   [ 45.45233     30.427856    12.064575  ]\n",
      "   [ 64.976135    44.744812    24.052979  ]\n",
      "   ...\n",
      "   [ 62.341553    41.497375    20.029907  ]\n",
      "   [ 55.789856    31.796875    16.372131  ]\n",
      "   [ 51.071533    25.880127    11.149658  ]]\n",
      "\n",
      "  ...\n",
      "\n",
      "  [[ 96.09314     50.09314     16.954163  ]\n",
      "   [ 95.957275    47.50415     12.863525  ]\n",
      "   [100.27301     52.27301     13.733093  ]\n",
      "   ...\n",
      "   [ 41.964417    15.536011    12.885864  ]\n",
      "   [ 37.1474      12.8526      12.7052    ]\n",
      "   [ 37.          13.          13.        ]]\n",
      "\n",
      "  [[ 86.6012      40.601196     7.362915  ]\n",
      "   [ 97.125305    51.125305    15.815613  ]\n",
      "   [108.109375    60.109375    21.595825  ]\n",
      "   ...\n",
      "   [ 39.79895     16.100525    14.20105   ]\n",
      "   [ 36.          14.654846    14.690308  ]\n",
      "   [ 36.          14.1154175   15.769165  ]]\n",
      "\n",
      "  [[ 85.83972     38.347534     2.4473267 ]\n",
      "   [100.135315    52.643127    13.658752  ]\n",
      "   [106.24835     58.994446    16.85382   ]\n",
      "   ...\n",
      "   [ 39.587585    15.908936    15.50824   ]\n",
      "   [ 34.507812    13.5078125   11.831665  ]\n",
      "   [ 33.76172     12.630798    11.300781  ]]]\n",
      "\n",
      "\n",
      " [[[  1.           1.           1.        ]\n",
      "   [  1.           1.           1.        ]\n",
      "   [  2.3515625    2.3515625    2.3515625 ]\n",
      "   ...\n",
      "   [  1.           1.           1.        ]\n",
      "   [  1.           1.           1.        ]\n",
      "   [  1.           1.           1.        ]]\n",
      "\n",
      "  [[  1.           1.           1.        ]\n",
      "   [  1.           1.           1.        ]\n",
      "   [  4.           4.           4.        ]\n",
      "   ...\n",
      "   [  1.           1.           1.        ]\n",
      "   [  1.           1.           1.        ]\n",
      "   [  1.           1.           1.        ]]\n",
      "\n",
      "  [[  1.           1.           1.        ]\n",
      "   [  1.           1.           1.        ]\n",
      "   [  4.           4.           4.        ]\n",
      "   ...\n",
      "   [  1.           1.           1.        ]\n",
      "   [  1.           1.           1.        ]\n",
      "   [  1.           1.           1.        ]]\n",
      "\n",
      "  ...\n",
      "\n",
      "  [[  2.           2.           2.        ]\n",
      "   [  2.           2.           2.        ]\n",
      "   [  2.           2.           2.        ]\n",
      "   ...\n",
      "   [  1.           1.           1.        ]\n",
      "   [  1.           1.           1.        ]\n",
      "   [  1.           1.           1.        ]]\n",
      "\n",
      "  [[  2.           2.           2.        ]\n",
      "   [  2.           2.           2.        ]\n",
      "   [  2.           2.           2.        ]\n",
      "   ...\n",
      "   [  1.           1.           1.        ]\n",
      "   [  1.           1.           1.        ]\n",
      "   [  1.           1.           1.        ]]\n",
      "\n",
      "  [[  0.703125     0.703125     0.703125  ]\n",
      "   [  1.3515625    1.3515625    1.3515625 ]\n",
      "   [  1.3515625    1.3515625    1.3515625 ]\n",
      "   ...\n",
      "   [  0.3515625    0.3515625    0.3515625 ]\n",
      "   [  0.3515625    0.3515625    0.3515625 ]\n",
      "   [  0.3515625    0.3515625    0.3515625 ]]]\n",
      "\n",
      "\n",
      " ...\n",
      "\n",
      "\n",
      " [[[  0.           0.           0.        ]\n",
      "   [  0.           0.           0.        ]\n",
      "   [  0.           0.           0.        ]\n",
      "   ...\n",
      "   [  0.           0.           0.        ]\n",
      "   [  0.           0.           0.        ]\n",
      "   [  0.           0.           0.        ]]\n",
      "\n",
      "  [[  0.           0.           0.        ]\n",
      "   [  0.           0.           0.        ]\n",
      "   [  0.           0.           0.        ]\n",
      "   ...\n",
      "   [  0.           0.           0.        ]\n",
      "   [  0.           0.           0.        ]\n",
      "   [  0.           0.           0.        ]]\n",
      "\n",
      "  [[  0.           0.           0.        ]\n",
      "   [  0.           0.           0.        ]\n",
      "   [  0.           0.           0.        ]\n",
      "   ...\n",
      "   [  0.           0.           0.        ]\n",
      "   [  0.           0.           0.        ]\n",
      "   [  0.           0.           0.        ]]\n",
      "\n",
      "  ...\n",
      "\n",
      "  [[  2.           2.           2.        ]\n",
      "   [  2.           2.           2.        ]\n",
      "   [  2.           2.           2.        ]\n",
      "   ...\n",
      "   [  0.           0.           0.        ]\n",
      "   [  0.           0.           0.        ]\n",
      "   [  0.           0.           0.        ]]\n",
      "\n",
      "  [[  2.           2.           2.        ]\n",
      "   [  2.           2.           2.        ]\n",
      "   [  2.           2.           2.        ]\n",
      "   ...\n",
      "   [  0.           0.           0.        ]\n",
      "   [  0.           0.           0.        ]\n",
      "   [  0.           0.           0.        ]]\n",
      "\n",
      "  [[  2.           2.           2.        ]\n",
      "   [  2.           2.           2.        ]\n",
      "   [  2.           2.           2.        ]\n",
      "   ...\n",
      "   [  0.           0.           0.        ]\n",
      "   [  0.           0.           0.        ]\n",
      "   [  0.           0.           0.        ]]]\n",
      "\n",
      "\n",
      " [[[  0.           3.           8.        ]\n",
      "   [  0.           3.           8.        ]\n",
      "   [  0.           3.           8.        ]\n",
      "   ...\n",
      "   [  1.           1.           3.        ]\n",
      "   [  0.           0.           2.        ]\n",
      "   [  0.           0.           2.        ]]\n",
      "\n",
      "  [[  0.           3.           8.        ]\n",
      "   [  0.           3.           8.        ]\n",
      "   [  0.           3.           8.        ]\n",
      "   ...\n",
      "   [  1.           1.           3.        ]\n",
      "   [  0.           0.           2.        ]\n",
      "   [  0.           0.           2.        ]]\n",
      "\n",
      "  [[  0.           3.           8.        ]\n",
      "   [  0.           3.           8.        ]\n",
      "   [  0.           3.           8.        ]\n",
      "   ...\n",
      "   [  1.           1.           3.        ]\n",
      "   [  0.           0.           2.        ]\n",
      "   [  0.           0.           2.        ]]\n",
      "\n",
      "  ...\n",
      "\n",
      "  [[ 17.           3.           0.        ]\n",
      "   [ 14.           3.           0.        ]\n",
      "   [  9.953125     1.953125     0.        ]\n",
      "   ...\n",
      "   [  0.           0.           0.        ]\n",
      "   [  0.           0.           0.        ]\n",
      "   [  0.           0.           0.        ]]\n",
      "\n",
      "  [[ 17.16632      3.           0.        ]\n",
      "   [ 14.146362     2.9268188    0.        ]\n",
      "   [ 10.358948     1.5473022    0.        ]\n",
      "   ...\n",
      "   [  0.           0.           0.        ]\n",
      "   [  0.           0.           0.        ]\n",
      "   [  0.           0.           0.        ]]\n",
      "\n",
      "  [[ 18.691956     1.3828125    0.        ]\n",
      "   [ 16.099915     1.3499146    0.        ]\n",
      "   [ 13.294128     0.22930908   0.        ]\n",
      "   ...\n",
      "   [  0.           0.           0.        ]\n",
      "   [  0.           0.           0.        ]\n",
      "   [  0.           0.           0.        ]]]\n",
      "\n",
      "\n",
      " [[[  4.           4.           6.        ]\n",
      "   [  4.           4.           6.        ]\n",
      "   [  4.           4.           6.        ]\n",
      "   ...\n",
      "   [ 14.           3.           1.        ]\n",
      "   [ 14.           3.           1.        ]\n",
      "   [ 13.378906     3.           1.        ]]\n",
      "\n",
      "  [[  4.           4.           6.        ]\n",
      "   [  4.           4.           6.        ]\n",
      "   [  4.           4.           6.        ]\n",
      "   ...\n",
      "   [ 14.           3.           1.        ]\n",
      "   [ 14.           3.           1.        ]\n",
      "   [ 13.378906     3.           1.        ]]\n",
      "\n",
      "  [[  4.           4.           6.        ]\n",
      "   [  4.           4.           6.        ]\n",
      "   [  4.           4.           6.        ]\n",
      "   ...\n",
      "   [ 14.           3.           1.        ]\n",
      "   [ 14.           3.           1.        ]\n",
      "   [ 13.378906     3.           1.        ]]\n",
      "\n",
      "  ...\n",
      "\n",
      "  [[  3.           3.           5.        ]\n",
      "   [  3.           3.           5.        ]\n",
      "   [  3.           3.           5.        ]\n",
      "   ...\n",
      "   [  4.           4.           4.        ]\n",
      "   [  4.           4.           4.        ]\n",
      "   [  4.           4.           4.        ]]\n",
      "\n",
      "  [[  3.           3.           5.        ]\n",
      "   [  3.           3.           5.        ]\n",
      "   [  3.           3.           5.        ]\n",
      "   ...\n",
      "   [  4.           4.           4.        ]\n",
      "   [  4.           4.           4.        ]\n",
      "   [  4.           4.           4.        ]]\n",
      "\n",
      "  [[  2.3789062    2.3789062    4.3789062 ]\n",
      "   [  2.3789062    2.3789062    4.3789062 ]\n",
      "   [  2.934494     2.934494     4.934494  ]\n",
      "   ...\n",
      "   [  4.           4.           4.        ]\n",
      "   [  4.           4.           4.        ]\n",
      "   [  4.           4.           4.771515  ]]]], shape=(32, 128, 128, 3), dtype=float32)\n",
      "tf.Tensor(\n",
      "[[0. 0. 1. 0.]\n",
      " [0. 1. 0. 0.]\n",
      " [0. 0. 1. 0.]\n",
      " [0. 0. 1. 0.]\n",
      " [1. 0. 0. 0.]\n",
      " [1. 0. 0. 0.]\n",
      " [0. 1. 0. 0.]\n",
      " [0. 1. 0. 0.]\n",
      " [0. 0. 1. 0.]\n",
      " [1. 0. 0. 0.]\n",
      " [1. 0. 0. 0.]\n",
      " [0. 0. 1. 0.]\n",
      " [0. 1. 0. 0.]\n",
      " [0. 1. 0. 0.]\n",
      " [0. 1. 0. 0.]\n",
      " [0. 0. 1. 0.]\n",
      " [0. 1. 0. 0.]\n",
      " [0. 0. 1. 0.]\n",
      " [0. 0. 1. 0.]\n",
      " [1. 0. 0. 0.]\n",
      " [0. 1. 0. 0.]\n",
      " [0. 1. 0. 0.]\n",
      " [1. 0. 0. 0.]\n",
      " [1. 0. 0. 0.]\n",
      " [0. 0. 0. 1.]\n",
      " [1. 0. 0. 0.]\n",
      " [1. 0. 0. 0.]\n",
      " [0. 0. 0. 1.]\n",
      " [0. 0. 0. 1.]\n",
      " [1. 0. 0. 0.]\n",
      " [0. 0. 0. 1.]\n",
      " [0. 1. 0. 0.]], shape=(32, 4), dtype=float32)\n"
     ]
    }
   ],
   "source": [
    "for x,y in training_set:\n",
    " print(x)\n",
    " print(y)\n",
    " break"
   ]
  },
  {
   "cell_type": "markdown",
   "id": "0dd96a97-4919-40d6-9105-a9cc4a5becec",
   "metadata": {},
   "source": [
    "### To Avoid Overshooting\n",
    "1. Choose small learning rate default 0.001 we are taking 0.0001\n",
    "2. There maybe a chance of underfitting so increase the number of neurons\n",
    "3. Add more convolution layer to extract more feature from image "
   ]
  },
  {
   "cell_type": "markdown",
   "id": "04934755-2420-40ff-84d7-167cd21dd027",
   "metadata": {},
   "source": [
    "### Building Model"
   ]
  },
  {
   "cell_type": "code",
   "execution_count": 37,
   "id": "aa6db0f2-a79f-4b75-9cfb-8c63735c1010",
   "metadata": {},
   "outputs": [],
   "source": [
    "from tensorflow.keras.layers import Dense,Conv2D,MaxPool2D,Flatten,Dropout\n",
    "from tensorflow.keras.models import Sequential"
   ]
  },
  {
   "cell_type": "code",
   "execution_count": 39,
   "id": "22f22eac-d545-4d79-9fde-cdba8135064b",
   "metadata": {},
   "outputs": [],
   "source": [
    "model = Sequential()"
   ]
  },
  {
   "cell_type": "code",
   "execution_count": 41,
   "id": "4729e5e9-7f52-42c6-a69e-872bdae0dcd2",
   "metadata": {},
   "outputs": [],
   "source": [
    "## building Convolution Layer"
   ]
  },
  {
   "cell_type": "code",
   "execution_count": 43,
   "id": "1e404136-fae3-45be-a328-8e450cb21800",
   "metadata": {},
   "outputs": [
    {
     "name": "stderr",
     "output_type": "stream",
     "text": [
      "C:\\ProgramData\\anaconda3\\Lib\\site-packages\\keras\\src\\layers\\convolutional\\base_conv.py:107: UserWarning: Do not pass an `input_shape`/`input_dim` argument to a layer. When using Sequential models, prefer using an `Input(shape)` object as the first layer in the model instead.\n",
      "  super().__init__(activity_regularizer=activity_regularizer, **kwargs)\n"
     ]
    }
   ],
   "source": [
    "model.add(Conv2D(filters=32,kernel_size=3,padding='same',activation='relu',input_shape=[128, 128, 3]))\n",
    "model.add(Conv2D(filters=32,kernel_size=3,activation='relu')) \n",
    "model.add(MaxPool2D(pool_size=2,strides=2))"
   ]
  },
  {
   "cell_type": "code",
   "execution_count": 44,
   "id": "679d60b9-2560-43c4-afbc-72714b3069f3",
   "metadata": {},
   "outputs": [],
   "source": [
    "model.add(Conv2D(filters=64,kernel_size=3,padding='same',activation='relu'))\n",
    "model.add(Conv2D(filters=64,kernel_size=3,activation='relu')) \n",
    "model.add(MaxPool2D(pool_size=2,strides=2))"
   ]
  },
  {
   "cell_type": "code",
   "execution_count": 45,
   "id": "b965afe0-5871-4c52-8f27-52f470ffe64a",
   "metadata": {},
   "outputs": [],
   "source": [
    "model.add(Conv2D(filters=128,kernel_size=3,padding='same',activation='relu'))\n",
    "model.add(Conv2D(filters=128,kernel_size=3,activation='relu')) \n",
    "model.add(MaxPool2D(pool_size=2,strides=2))"
   ]
  },
  {
   "cell_type": "code",
   "execution_count": 48,
   "id": "3808ef78-51a7-4c34-9284-734e78042016",
   "metadata": {},
   "outputs": [],
   "source": [
    "model.add(Conv2D(filters=256,kernel_size=3,padding='same',activation='relu'))\n",
    "model.add(Conv2D(filters=256,kernel_size=3,activation='relu')) \n",
    "model.add(MaxPool2D(pool_size=2,strides=2))"
   ]
  },
  {
   "cell_type": "code",
   "execution_count": 51,
   "id": "77c57760-f675-4c92-94c5-42e2678aa1a1",
   "metadata": {},
   "outputs": [],
   "source": [
    "model.add(Conv2D(filters=512,kernel_size=3,padding='same',activation='relu'))\n",
    "model.add(Conv2D(filters=512,kernel_size=3,activation='relu')) \n",
    "model.add(MaxPool2D(pool_size=2,strides=2)) "
   ]
  },
  {
   "cell_type": "code",
   "execution_count": 52,
   "id": "89afb985-6059-4613-9590-ef7fed0c927c",
   "metadata": {},
   "outputs": [],
   "source": [
    "model.add(Dropout(0.25)) # to avoid overfitting"
   ]
  },
  {
   "cell_type": "code",
   "execution_count": 55,
   "id": "06712281-cfd3-4f8a-a13a-1f534d06a573",
   "metadata": {},
   "outputs": [],
   "source": [
    "model.add(Flatten())"
   ]
  },
  {
   "cell_type": "code",
   "execution_count": 57,
   "id": "8526e1ad-4375-44ef-b518-237979f7eb72",
   "metadata": {},
   "outputs": [],
   "source": [
    "model.add(Dense(units=1500,activation='relu'))"
   ]
  },
  {
   "cell_type": "code",
   "execution_count": 59,
   "id": "b1e8f6df-3ba7-49bc-bc62-600e95d89998",
   "metadata": {},
   "outputs": [],
   "source": [
    "model.add(Dropout(0.3)) "
   ]
  },
  {
   "cell_type": "markdown",
   "id": "6992c029-138e-48d9-8f83-4a9bff18d0ec",
   "metadata": {},
   "source": [
    "## output Layer\n"
   ]
  },
  {
   "cell_type": "code",
   "execution_count": 62,
   "id": "142f16ad-01cc-4edd-afb4-8ac075c62927",
   "metadata": {},
   "outputs": [],
   "source": [
    "model.add(Dense(units=4,activation='softmax'))"
   ]
  },
  {
   "cell_type": "markdown",
   "id": "8a7cb4e2-e421-4fca-9e8c-8d2f92258947",
   "metadata": {},
   "source": [
    "## compiling Model"
   ]
  },
  {
   "cell_type": "code",
   "execution_count": 65,
   "id": "a9068929-dd6a-40b0-ab94-5bd7f8a26ae4",
   "metadata": {},
   "outputs": [],
   "source": [
    "model.compile(optimizer=tf.keras.optimizers.Adam(\n",
    "    learning_rate=0.0001), loss='categorical_crossentropy',metrics=['accuracy'])"
   ]
  },
  {
   "cell_type": "code",
   "execution_count": 67,
   "id": "08d8dfce-540d-46d7-b212-ea9e8843e9ae",
   "metadata": {},
   "outputs": [
    {
     "data": {
      "text/html": [
       "<pre style=\"white-space:pre;overflow-x:auto;line-height:normal;font-family:Menlo,'DejaVu Sans Mono',consolas,'Courier New',monospace\"><span style=\"font-weight: bold\">Model: \"sequential_1\"</span>\n",
       "</pre>\n"
      ],
      "text/plain": [
       "\u001b[1mModel: \"sequential_1\"\u001b[0m\n"
      ]
     },
     "metadata": {},
     "output_type": "display_data"
    },
    {
     "data": {
      "text/html": [
       "<pre style=\"white-space:pre;overflow-x:auto;line-height:normal;font-family:Menlo,'DejaVu Sans Mono',consolas,'Courier New',monospace\">┏━━━━━━━━━━━━━━━━━━━━━━━━━━━━━━━━━━━━━━┳━━━━━━━━━━━━━━━━━━━━━━━━━━━━━┳━━━━━━━━━━━━━━━━━┓\n",
       "┃<span style=\"font-weight: bold\"> Layer (type)                         </span>┃<span style=\"font-weight: bold\"> Output Shape                </span>┃<span style=\"font-weight: bold\">         Param # </span>┃\n",
       "┡━━━━━━━━━━━━━━━━━━━━━━━━━━━━━━━━━━━━━━╇━━━━━━━━━━━━━━━━━━━━━━━━━━━━━╇━━━━━━━━━━━━━━━━━┩\n",
       "│ conv2d (<span style=\"color: #0087ff; text-decoration-color: #0087ff\">Conv2D</span>)                      │ (<span style=\"color: #00d7ff; text-decoration-color: #00d7ff\">None</span>, <span style=\"color: #00af00; text-decoration-color: #00af00\">128</span>, <span style=\"color: #00af00; text-decoration-color: #00af00\">128</span>, <span style=\"color: #00af00; text-decoration-color: #00af00\">32</span>)        │             <span style=\"color: #00af00; text-decoration-color: #00af00\">896</span> │\n",
       "├──────────────────────────────────────┼─────────────────────────────┼─────────────────┤\n",
       "│ conv2d_1 (<span style=\"color: #0087ff; text-decoration-color: #0087ff\">Conv2D</span>)                    │ (<span style=\"color: #00d7ff; text-decoration-color: #00d7ff\">None</span>, <span style=\"color: #00af00; text-decoration-color: #00af00\">126</span>, <span style=\"color: #00af00; text-decoration-color: #00af00\">126</span>, <span style=\"color: #00af00; text-decoration-color: #00af00\">32</span>)        │           <span style=\"color: #00af00; text-decoration-color: #00af00\">9,248</span> │\n",
       "├──────────────────────────────────────┼─────────────────────────────┼─────────────────┤\n",
       "│ max_pooling2d (<span style=\"color: #0087ff; text-decoration-color: #0087ff\">MaxPooling2D</span>)         │ (<span style=\"color: #00d7ff; text-decoration-color: #00d7ff\">None</span>, <span style=\"color: #00af00; text-decoration-color: #00af00\">63</span>, <span style=\"color: #00af00; text-decoration-color: #00af00\">63</span>, <span style=\"color: #00af00; text-decoration-color: #00af00\">32</span>)          │               <span style=\"color: #00af00; text-decoration-color: #00af00\">0</span> │\n",
       "├──────────────────────────────────────┼─────────────────────────────┼─────────────────┤\n",
       "│ conv2d_2 (<span style=\"color: #0087ff; text-decoration-color: #0087ff\">Conv2D</span>)                    │ (<span style=\"color: #00d7ff; text-decoration-color: #00d7ff\">None</span>, <span style=\"color: #00af00; text-decoration-color: #00af00\">63</span>, <span style=\"color: #00af00; text-decoration-color: #00af00\">63</span>, <span style=\"color: #00af00; text-decoration-color: #00af00\">64</span>)          │          <span style=\"color: #00af00; text-decoration-color: #00af00\">18,496</span> │\n",
       "├──────────────────────────────────────┼─────────────────────────────┼─────────────────┤\n",
       "│ conv2d_3 (<span style=\"color: #0087ff; text-decoration-color: #0087ff\">Conv2D</span>)                    │ (<span style=\"color: #00d7ff; text-decoration-color: #00d7ff\">None</span>, <span style=\"color: #00af00; text-decoration-color: #00af00\">61</span>, <span style=\"color: #00af00; text-decoration-color: #00af00\">61</span>, <span style=\"color: #00af00; text-decoration-color: #00af00\">64</span>)          │          <span style=\"color: #00af00; text-decoration-color: #00af00\">36,928</span> │\n",
       "├──────────────────────────────────────┼─────────────────────────────┼─────────────────┤\n",
       "│ max_pooling2d_1 (<span style=\"color: #0087ff; text-decoration-color: #0087ff\">MaxPooling2D</span>)       │ (<span style=\"color: #00d7ff; text-decoration-color: #00d7ff\">None</span>, <span style=\"color: #00af00; text-decoration-color: #00af00\">30</span>, <span style=\"color: #00af00; text-decoration-color: #00af00\">30</span>, <span style=\"color: #00af00; text-decoration-color: #00af00\">64</span>)          │               <span style=\"color: #00af00; text-decoration-color: #00af00\">0</span> │\n",
       "├──────────────────────────────────────┼─────────────────────────────┼─────────────────┤\n",
       "│ conv2d_4 (<span style=\"color: #0087ff; text-decoration-color: #0087ff\">Conv2D</span>)                    │ (<span style=\"color: #00d7ff; text-decoration-color: #00d7ff\">None</span>, <span style=\"color: #00af00; text-decoration-color: #00af00\">30</span>, <span style=\"color: #00af00; text-decoration-color: #00af00\">30</span>, <span style=\"color: #00af00; text-decoration-color: #00af00\">128</span>)         │          <span style=\"color: #00af00; text-decoration-color: #00af00\">73,856</span> │\n",
       "├──────────────────────────────────────┼─────────────────────────────┼─────────────────┤\n",
       "│ conv2d_5 (<span style=\"color: #0087ff; text-decoration-color: #0087ff\">Conv2D</span>)                    │ (<span style=\"color: #00d7ff; text-decoration-color: #00d7ff\">None</span>, <span style=\"color: #00af00; text-decoration-color: #00af00\">28</span>, <span style=\"color: #00af00; text-decoration-color: #00af00\">28</span>, <span style=\"color: #00af00; text-decoration-color: #00af00\">128</span>)         │         <span style=\"color: #00af00; text-decoration-color: #00af00\">147,584</span> │\n",
       "├──────────────────────────────────────┼─────────────────────────────┼─────────────────┤\n",
       "│ max_pooling2d_2 (<span style=\"color: #0087ff; text-decoration-color: #0087ff\">MaxPooling2D</span>)       │ (<span style=\"color: #00d7ff; text-decoration-color: #00d7ff\">None</span>, <span style=\"color: #00af00; text-decoration-color: #00af00\">14</span>, <span style=\"color: #00af00; text-decoration-color: #00af00\">14</span>, <span style=\"color: #00af00; text-decoration-color: #00af00\">128</span>)         │               <span style=\"color: #00af00; text-decoration-color: #00af00\">0</span> │\n",
       "├──────────────────────────────────────┼─────────────────────────────┼─────────────────┤\n",
       "│ conv2d_6 (<span style=\"color: #0087ff; text-decoration-color: #0087ff\">Conv2D</span>)                    │ (<span style=\"color: #00d7ff; text-decoration-color: #00d7ff\">None</span>, <span style=\"color: #00af00; text-decoration-color: #00af00\">14</span>, <span style=\"color: #00af00; text-decoration-color: #00af00\">14</span>, <span style=\"color: #00af00; text-decoration-color: #00af00\">256</span>)         │         <span style=\"color: #00af00; text-decoration-color: #00af00\">295,168</span> │\n",
       "├──────────────────────────────────────┼─────────────────────────────┼─────────────────┤\n",
       "│ conv2d_7 (<span style=\"color: #0087ff; text-decoration-color: #0087ff\">Conv2D</span>)                    │ (<span style=\"color: #00d7ff; text-decoration-color: #00d7ff\">None</span>, <span style=\"color: #00af00; text-decoration-color: #00af00\">12</span>, <span style=\"color: #00af00; text-decoration-color: #00af00\">12</span>, <span style=\"color: #00af00; text-decoration-color: #00af00\">256</span>)         │         <span style=\"color: #00af00; text-decoration-color: #00af00\">590,080</span> │\n",
       "├──────────────────────────────────────┼─────────────────────────────┼─────────────────┤\n",
       "│ max_pooling2d_3 (<span style=\"color: #0087ff; text-decoration-color: #0087ff\">MaxPooling2D</span>)       │ (<span style=\"color: #00d7ff; text-decoration-color: #00d7ff\">None</span>, <span style=\"color: #00af00; text-decoration-color: #00af00\">6</span>, <span style=\"color: #00af00; text-decoration-color: #00af00\">6</span>, <span style=\"color: #00af00; text-decoration-color: #00af00\">256</span>)           │               <span style=\"color: #00af00; text-decoration-color: #00af00\">0</span> │\n",
       "├──────────────────────────────────────┼─────────────────────────────┼─────────────────┤\n",
       "│ conv2d_8 (<span style=\"color: #0087ff; text-decoration-color: #0087ff\">Conv2D</span>)                    │ (<span style=\"color: #00d7ff; text-decoration-color: #00d7ff\">None</span>, <span style=\"color: #00af00; text-decoration-color: #00af00\">6</span>, <span style=\"color: #00af00; text-decoration-color: #00af00\">6</span>, <span style=\"color: #00af00; text-decoration-color: #00af00\">512</span>)           │       <span style=\"color: #00af00; text-decoration-color: #00af00\">1,180,160</span> │\n",
       "├──────────────────────────────────────┼─────────────────────────────┼─────────────────┤\n",
       "│ conv2d_9 (<span style=\"color: #0087ff; text-decoration-color: #0087ff\">Conv2D</span>)                    │ (<span style=\"color: #00d7ff; text-decoration-color: #00d7ff\">None</span>, <span style=\"color: #00af00; text-decoration-color: #00af00\">4</span>, <span style=\"color: #00af00; text-decoration-color: #00af00\">4</span>, <span style=\"color: #00af00; text-decoration-color: #00af00\">512</span>)           │       <span style=\"color: #00af00; text-decoration-color: #00af00\">2,359,808</span> │\n",
       "├──────────────────────────────────────┼─────────────────────────────┼─────────────────┤\n",
       "│ max_pooling2d_4 (<span style=\"color: #0087ff; text-decoration-color: #0087ff\">MaxPooling2D</span>)       │ (<span style=\"color: #00d7ff; text-decoration-color: #00d7ff\">None</span>, <span style=\"color: #00af00; text-decoration-color: #00af00\">2</span>, <span style=\"color: #00af00; text-decoration-color: #00af00\">2</span>, <span style=\"color: #00af00; text-decoration-color: #00af00\">512</span>)           │               <span style=\"color: #00af00; text-decoration-color: #00af00\">0</span> │\n",
       "├──────────────────────────────────────┼─────────────────────────────┼─────────────────┤\n",
       "│ dropout (<span style=\"color: #0087ff; text-decoration-color: #0087ff\">Dropout</span>)                    │ (<span style=\"color: #00d7ff; text-decoration-color: #00d7ff\">None</span>, <span style=\"color: #00af00; text-decoration-color: #00af00\">2</span>, <span style=\"color: #00af00; text-decoration-color: #00af00\">2</span>, <span style=\"color: #00af00; text-decoration-color: #00af00\">512</span>)           │               <span style=\"color: #00af00; text-decoration-color: #00af00\">0</span> │\n",
       "├──────────────────────────────────────┼─────────────────────────────┼─────────────────┤\n",
       "│ flatten (<span style=\"color: #0087ff; text-decoration-color: #0087ff\">Flatten</span>)                    │ (<span style=\"color: #00d7ff; text-decoration-color: #00d7ff\">None</span>, <span style=\"color: #00af00; text-decoration-color: #00af00\">2048</span>)                │               <span style=\"color: #00af00; text-decoration-color: #00af00\">0</span> │\n",
       "├──────────────────────────────────────┼─────────────────────────────┼─────────────────┤\n",
       "│ dense (<span style=\"color: #0087ff; text-decoration-color: #0087ff\">Dense</span>)                        │ (<span style=\"color: #00d7ff; text-decoration-color: #00d7ff\">None</span>, <span style=\"color: #00af00; text-decoration-color: #00af00\">1500</span>)                │       <span style=\"color: #00af00; text-decoration-color: #00af00\">3,073,500</span> │\n",
       "├──────────────────────────────────────┼─────────────────────────────┼─────────────────┤\n",
       "│ dropout_1 (<span style=\"color: #0087ff; text-decoration-color: #0087ff\">Dropout</span>)                  │ (<span style=\"color: #00d7ff; text-decoration-color: #00d7ff\">None</span>, <span style=\"color: #00af00; text-decoration-color: #00af00\">1500</span>)                │               <span style=\"color: #00af00; text-decoration-color: #00af00\">0</span> │\n",
       "├──────────────────────────────────────┼─────────────────────────────┼─────────────────┤\n",
       "│ dense_1 (<span style=\"color: #0087ff; text-decoration-color: #0087ff\">Dense</span>)                      │ (<span style=\"color: #00d7ff; text-decoration-color: #00d7ff\">None</span>, <span style=\"color: #00af00; text-decoration-color: #00af00\">4</span>)                   │           <span style=\"color: #00af00; text-decoration-color: #00af00\">6,004</span> │\n",
       "└──────────────────────────────────────┴─────────────────────────────┴─────────────────┘\n",
       "</pre>\n"
      ],
      "text/plain": [
       "┏━━━━━━━━━━━━━━━━━━━━━━━━━━━━━━━━━━━━━━┳━━━━━━━━━━━━━━━━━━━━━━━━━━━━━┳━━━━━━━━━━━━━━━━━┓\n",
       "┃\u001b[1m \u001b[0m\u001b[1mLayer (type)                        \u001b[0m\u001b[1m \u001b[0m┃\u001b[1m \u001b[0m\u001b[1mOutput Shape               \u001b[0m\u001b[1m \u001b[0m┃\u001b[1m \u001b[0m\u001b[1m        Param #\u001b[0m\u001b[1m \u001b[0m┃\n",
       "┡━━━━━━━━━━━━━━━━━━━━━━━━━━━━━━━━━━━━━━╇━━━━━━━━━━━━━━━━━━━━━━━━━━━━━╇━━━━━━━━━━━━━━━━━┩\n",
       "│ conv2d (\u001b[38;5;33mConv2D\u001b[0m)                      │ (\u001b[38;5;45mNone\u001b[0m, \u001b[38;5;34m128\u001b[0m, \u001b[38;5;34m128\u001b[0m, \u001b[38;5;34m32\u001b[0m)        │             \u001b[38;5;34m896\u001b[0m │\n",
       "├──────────────────────────────────────┼─────────────────────────────┼─────────────────┤\n",
       "│ conv2d_1 (\u001b[38;5;33mConv2D\u001b[0m)                    │ (\u001b[38;5;45mNone\u001b[0m, \u001b[38;5;34m126\u001b[0m, \u001b[38;5;34m126\u001b[0m, \u001b[38;5;34m32\u001b[0m)        │           \u001b[38;5;34m9,248\u001b[0m │\n",
       "├──────────────────────────────────────┼─────────────────────────────┼─────────────────┤\n",
       "│ max_pooling2d (\u001b[38;5;33mMaxPooling2D\u001b[0m)         │ (\u001b[38;5;45mNone\u001b[0m, \u001b[38;5;34m63\u001b[0m, \u001b[38;5;34m63\u001b[0m, \u001b[38;5;34m32\u001b[0m)          │               \u001b[38;5;34m0\u001b[0m │\n",
       "├──────────────────────────────────────┼─────────────────────────────┼─────────────────┤\n",
       "│ conv2d_2 (\u001b[38;5;33mConv2D\u001b[0m)                    │ (\u001b[38;5;45mNone\u001b[0m, \u001b[38;5;34m63\u001b[0m, \u001b[38;5;34m63\u001b[0m, \u001b[38;5;34m64\u001b[0m)          │          \u001b[38;5;34m18,496\u001b[0m │\n",
       "├──────────────────────────────────────┼─────────────────────────────┼─────────────────┤\n",
       "│ conv2d_3 (\u001b[38;5;33mConv2D\u001b[0m)                    │ (\u001b[38;5;45mNone\u001b[0m, \u001b[38;5;34m61\u001b[0m, \u001b[38;5;34m61\u001b[0m, \u001b[38;5;34m64\u001b[0m)          │          \u001b[38;5;34m36,928\u001b[0m │\n",
       "├──────────────────────────────────────┼─────────────────────────────┼─────────────────┤\n",
       "│ max_pooling2d_1 (\u001b[38;5;33mMaxPooling2D\u001b[0m)       │ (\u001b[38;5;45mNone\u001b[0m, \u001b[38;5;34m30\u001b[0m, \u001b[38;5;34m30\u001b[0m, \u001b[38;5;34m64\u001b[0m)          │               \u001b[38;5;34m0\u001b[0m │\n",
       "├──────────────────────────────────────┼─────────────────────────────┼─────────────────┤\n",
       "│ conv2d_4 (\u001b[38;5;33mConv2D\u001b[0m)                    │ (\u001b[38;5;45mNone\u001b[0m, \u001b[38;5;34m30\u001b[0m, \u001b[38;5;34m30\u001b[0m, \u001b[38;5;34m128\u001b[0m)         │          \u001b[38;5;34m73,856\u001b[0m │\n",
       "├──────────────────────────────────────┼─────────────────────────────┼─────────────────┤\n",
       "│ conv2d_5 (\u001b[38;5;33mConv2D\u001b[0m)                    │ (\u001b[38;5;45mNone\u001b[0m, \u001b[38;5;34m28\u001b[0m, \u001b[38;5;34m28\u001b[0m, \u001b[38;5;34m128\u001b[0m)         │         \u001b[38;5;34m147,584\u001b[0m │\n",
       "├──────────────────────────────────────┼─────────────────────────────┼─────────────────┤\n",
       "│ max_pooling2d_2 (\u001b[38;5;33mMaxPooling2D\u001b[0m)       │ (\u001b[38;5;45mNone\u001b[0m, \u001b[38;5;34m14\u001b[0m, \u001b[38;5;34m14\u001b[0m, \u001b[38;5;34m128\u001b[0m)         │               \u001b[38;5;34m0\u001b[0m │\n",
       "├──────────────────────────────────────┼─────────────────────────────┼─────────────────┤\n",
       "│ conv2d_6 (\u001b[38;5;33mConv2D\u001b[0m)                    │ (\u001b[38;5;45mNone\u001b[0m, \u001b[38;5;34m14\u001b[0m, \u001b[38;5;34m14\u001b[0m, \u001b[38;5;34m256\u001b[0m)         │         \u001b[38;5;34m295,168\u001b[0m │\n",
       "├──────────────────────────────────────┼─────────────────────────────┼─────────────────┤\n",
       "│ conv2d_7 (\u001b[38;5;33mConv2D\u001b[0m)                    │ (\u001b[38;5;45mNone\u001b[0m, \u001b[38;5;34m12\u001b[0m, \u001b[38;5;34m12\u001b[0m, \u001b[38;5;34m256\u001b[0m)         │         \u001b[38;5;34m590,080\u001b[0m │\n",
       "├──────────────────────────────────────┼─────────────────────────────┼─────────────────┤\n",
       "│ max_pooling2d_3 (\u001b[38;5;33mMaxPooling2D\u001b[0m)       │ (\u001b[38;5;45mNone\u001b[0m, \u001b[38;5;34m6\u001b[0m, \u001b[38;5;34m6\u001b[0m, \u001b[38;5;34m256\u001b[0m)           │               \u001b[38;5;34m0\u001b[0m │\n",
       "├──────────────────────────────────────┼─────────────────────────────┼─────────────────┤\n",
       "│ conv2d_8 (\u001b[38;5;33mConv2D\u001b[0m)                    │ (\u001b[38;5;45mNone\u001b[0m, \u001b[38;5;34m6\u001b[0m, \u001b[38;5;34m6\u001b[0m, \u001b[38;5;34m512\u001b[0m)           │       \u001b[38;5;34m1,180,160\u001b[0m │\n",
       "├──────────────────────────────────────┼─────────────────────────────┼─────────────────┤\n",
       "│ conv2d_9 (\u001b[38;5;33mConv2D\u001b[0m)                    │ (\u001b[38;5;45mNone\u001b[0m, \u001b[38;5;34m4\u001b[0m, \u001b[38;5;34m4\u001b[0m, \u001b[38;5;34m512\u001b[0m)           │       \u001b[38;5;34m2,359,808\u001b[0m │\n",
       "├──────────────────────────────────────┼─────────────────────────────┼─────────────────┤\n",
       "│ max_pooling2d_4 (\u001b[38;5;33mMaxPooling2D\u001b[0m)       │ (\u001b[38;5;45mNone\u001b[0m, \u001b[38;5;34m2\u001b[0m, \u001b[38;5;34m2\u001b[0m, \u001b[38;5;34m512\u001b[0m)           │               \u001b[38;5;34m0\u001b[0m │\n",
       "├──────────────────────────────────────┼─────────────────────────────┼─────────────────┤\n",
       "│ dropout (\u001b[38;5;33mDropout\u001b[0m)                    │ (\u001b[38;5;45mNone\u001b[0m, \u001b[38;5;34m2\u001b[0m, \u001b[38;5;34m2\u001b[0m, \u001b[38;5;34m512\u001b[0m)           │               \u001b[38;5;34m0\u001b[0m │\n",
       "├──────────────────────────────────────┼─────────────────────────────┼─────────────────┤\n",
       "│ flatten (\u001b[38;5;33mFlatten\u001b[0m)                    │ (\u001b[38;5;45mNone\u001b[0m, \u001b[38;5;34m2048\u001b[0m)                │               \u001b[38;5;34m0\u001b[0m │\n",
       "├──────────────────────────────────────┼─────────────────────────────┼─────────────────┤\n",
       "│ dense (\u001b[38;5;33mDense\u001b[0m)                        │ (\u001b[38;5;45mNone\u001b[0m, \u001b[38;5;34m1500\u001b[0m)                │       \u001b[38;5;34m3,073,500\u001b[0m │\n",
       "├──────────────────────────────────────┼─────────────────────────────┼─────────────────┤\n",
       "│ dropout_1 (\u001b[38;5;33mDropout\u001b[0m)                  │ (\u001b[38;5;45mNone\u001b[0m, \u001b[38;5;34m1500\u001b[0m)                │               \u001b[38;5;34m0\u001b[0m │\n",
       "├──────────────────────────────────────┼─────────────────────────────┼─────────────────┤\n",
       "│ dense_1 (\u001b[38;5;33mDense\u001b[0m)                      │ (\u001b[38;5;45mNone\u001b[0m, \u001b[38;5;34m4\u001b[0m)                   │           \u001b[38;5;34m6,004\u001b[0m │\n",
       "└──────────────────────────────────────┴─────────────────────────────┴─────────────────┘\n"
      ]
     },
     "metadata": {},
     "output_type": "display_data"
    },
    {
     "data": {
      "text/html": [
       "<pre style=\"white-space:pre;overflow-x:auto;line-height:normal;font-family:Menlo,'DejaVu Sans Mono',consolas,'Courier New',monospace\"><span style=\"font-weight: bold\"> Total params: </span><span style=\"color: #00af00; text-decoration-color: #00af00\">7,791,728</span> (29.72 MB)\n",
       "</pre>\n"
      ],
      "text/plain": [
       "\u001b[1m Total params: \u001b[0m\u001b[38;5;34m7,791,728\u001b[0m (29.72 MB)\n"
      ]
     },
     "metadata": {},
     "output_type": "display_data"
    },
    {
     "data": {
      "text/html": [
       "<pre style=\"white-space:pre;overflow-x:auto;line-height:normal;font-family:Menlo,'DejaVu Sans Mono',consolas,'Courier New',monospace\"><span style=\"font-weight: bold\"> Trainable params: </span><span style=\"color: #00af00; text-decoration-color: #00af00\">7,791,728</span> (29.72 MB)\n",
       "</pre>\n"
      ],
      "text/plain": [
       "\u001b[1m Trainable params: \u001b[0m\u001b[38;5;34m7,791,728\u001b[0m (29.72 MB)\n"
      ]
     },
     "metadata": {},
     "output_type": "display_data"
    },
    {
     "data": {
      "text/html": [
       "<pre style=\"white-space:pre;overflow-x:auto;line-height:normal;font-family:Menlo,'DejaVu Sans Mono',consolas,'Courier New',monospace\"><span style=\"font-weight: bold\"> Non-trainable params: </span><span style=\"color: #00af00; text-decoration-color: #00af00\">0</span> (0.00 B)\n",
       "</pre>\n"
      ],
      "text/plain": [
       "\u001b[1m Non-trainable params: \u001b[0m\u001b[38;5;34m0\u001b[0m (0.00 B)\n"
      ]
     },
     "metadata": {},
     "output_type": "display_data"
    }
   ],
   "source": [
    "model.summary()"
   ]
  },
  {
   "cell_type": "markdown",
   "id": "ee25ac9e-9169-4666-aacd-3a0ff6614ed4",
   "metadata": {},
   "source": [
    "## Model Training"
   ]
  },
  {
   "cell_type": "code",
   "execution_count": 74,
   "id": "fcb5f1ee-b998-4189-81f0-1e70c7d7297d",
   "metadata": {},
   "outputs": [
    {
     "name": "stdout",
     "output_type": "stream",
     "text": [
      "Epoch 1/10\n",
      "\u001b[1m3/3\u001b[0m \u001b[32m━━━━━━━━━━━━━━━━━━━━\u001b[0m\u001b[37m\u001b[0m \u001b[1m7s\u001b[0m 2s/step - accuracy: 0.7801 - loss: 0.4713 - val_accuracy: 0.8632 - val_loss: 0.3945\n",
      "Epoch 2/10\n",
      "\u001b[1m3/3\u001b[0m \u001b[32m━━━━━━━━━━━━━━━━━━━━\u001b[0m\u001b[37m\u001b[0m \u001b[1m7s\u001b[0m 3s/step - accuracy: 0.8886 - loss: 0.3870 - val_accuracy: 0.8842 - val_loss: 0.3911\n",
      "Epoch 3/10\n",
      "\u001b[1m3/3\u001b[0m \u001b[32m━━━━━━━━━━━━━━━━━━━━\u001b[0m\u001b[37m\u001b[0m \u001b[1m7s\u001b[0m 2s/step - accuracy: 0.8731 - loss: 0.4438 - val_accuracy: 0.8737 - val_loss: 0.3529\n",
      "Epoch 4/10\n",
      "\u001b[1m3/3\u001b[0m \u001b[32m━━━━━━━━━━━━━━━━━━━━\u001b[0m\u001b[37m\u001b[0m \u001b[1m7s\u001b[0m 2s/step - accuracy: 0.8794 - loss: 0.3641 - val_accuracy: 0.8842 - val_loss: 0.2949\n",
      "Epoch 5/10\n",
      "\u001b[1m3/3\u001b[0m \u001b[32m━━━━━━━━━━━━━━━━━━━━\u001b[0m\u001b[37m\u001b[0m \u001b[1m7s\u001b[0m 2s/step - accuracy: 0.8495 - loss: 0.3601 - val_accuracy: 0.8947 - val_loss: 0.3550\n",
      "Epoch 6/10\n",
      "\u001b[1m3/3\u001b[0m \u001b[32m━━━━━━━━━━━━━━━━━━━━\u001b[0m\u001b[37m\u001b[0m \u001b[1m7s\u001b[0m 2s/step - accuracy: 0.8849 - loss: 0.3673 - val_accuracy: 0.8947 - val_loss: 0.2839\n",
      "Epoch 7/10\n",
      "\u001b[1m3/3\u001b[0m \u001b[32m━━━━━━━━━━━━━━━━━━━━\u001b[0m\u001b[37m\u001b[0m \u001b[1m7s\u001b[0m 3s/step - accuracy: 0.8300 - loss: 0.3916 - val_accuracy: 0.9053 - val_loss: 0.2550\n",
      "Epoch 8/10\n",
      "\u001b[1m3/3\u001b[0m \u001b[32m━━━━━━━━━━━━━━━━━━━━\u001b[0m\u001b[37m\u001b[0m \u001b[1m7s\u001b[0m 3s/step - accuracy: 0.8966 - loss: 0.3466 - val_accuracy: 0.8842 - val_loss: 0.2457\n",
      "Epoch 9/10\n",
      "\u001b[1m3/3\u001b[0m \u001b[32m━━━━━━━━━━━━━━━━━━━━\u001b[0m\u001b[37m\u001b[0m \u001b[1m8s\u001b[0m 3s/step - accuracy: 0.8468 - loss: 0.3067 - val_accuracy: 0.8842 - val_loss: 0.2403\n",
      "Epoch 10/10\n",
      "\u001b[1m3/3\u001b[0m \u001b[32m━━━━━━━━━━━━━━━━━━━━\u001b[0m\u001b[37m\u001b[0m \u001b[1m7s\u001b[0m 3s/step - accuracy: 0.8390 - loss: 0.3556 - val_accuracy: 0.8947 - val_loss: 0.2216\n"
     ]
    }
   ],
   "source": [
    "training_history = model.fit(x=training_set,validation_data=validation_set,epochs=10)"
   ]
  },
  {
   "cell_type": "code",
   "execution_count": null,
   "id": "93c21662-a360-4832-94ab-d6a7010696c2",
   "metadata": {},
   "outputs": [],
   "source": []
  },
  {
   "cell_type": "markdown",
   "id": "34170976-8b86-4800-a706-8ef4beba4a8f",
   "metadata": {},
   "source": [
    "### Model Evaluation"
   ]
  },
  {
   "cell_type": "markdown",
   "id": "34a18a3d-fca1-4917-a7d5-ac189b601d0f",
   "metadata": {},
   "source": [
    "### Model Evaluation on training set"
   ]
  },
  {
   "cell_type": "code",
   "execution_count": 79,
   "id": "7e6d58e0-4b41-4222-9d44-3232d26a2c37",
   "metadata": {},
   "outputs": [
    {
     "name": "stdout",
     "output_type": "stream",
     "text": [
      "\u001b[1m3/3\u001b[0m \u001b[32m━━━━━━━━━━━━━━━━━━━━\u001b[0m\u001b[37m\u001b[0m \u001b[1m1s\u001b[0m 409ms/step - accuracy: 0.8927 - loss: 0.2237\n"
     ]
    }
   ],
   "source": [
    "train_loss,train_acc = model.evaluate(training_set)"
   ]
  },
  {
   "cell_type": "code",
   "execution_count": 81,
   "id": "1d040513-4e9c-42ba-a540-d28fba0044ce",
   "metadata": {},
   "outputs": [
    {
     "name": "stdout",
     "output_type": "stream",
     "text": [
      "0.22163386642932892 0.8947368264198303\n"
     ]
    }
   ],
   "source": [
    "print(train_loss,train_acc)"
   ]
  },
  {
   "cell_type": "code",
   "execution_count": 83,
   "id": "1b07702b-d909-4ed9-80ab-2039a0731726",
   "metadata": {},
   "outputs": [
    {
     "name": "stdout",
     "output_type": "stream",
     "text": [
      "\u001b[1m3/3\u001b[0m \u001b[32m━━━━━━━━━━━━━━━━━━━━\u001b[0m\u001b[37m\u001b[0m \u001b[1m1s\u001b[0m 424ms/step - accuracy: 0.8966 - loss: 0.2446\n"
     ]
    }
   ],
   "source": [
    "val_loss,val_acc = model.evaluate(validation_set)"
   ]
  },
  {
   "cell_type": "code",
   "execution_count": 84,
   "id": "78c5a27d-9132-4095-9ade-4bacf74e9ef7",
   "metadata": {},
   "outputs": [
    {
     "name": "stdout",
     "output_type": "stream",
     "text": [
      "0.22163385152816772 0.8947368264198303\n"
     ]
    }
   ],
   "source": [
    "print(val_loss,val_acc)"
   ]
  },
  {
   "cell_type": "code",
   "execution_count": null,
   "id": "fded5163-e41c-4970-85f7-a7611ef8e464",
   "metadata": {},
   "outputs": [],
   "source": []
  },
  {
   "cell_type": "markdown",
   "id": "a183b1cd-a161-4669-96b0-2a07b5e57dc2",
   "metadata": {},
   "source": [
    "### Saving Model"
   ]
  },
  {
   "cell_type": "code",
   "execution_count": 89,
   "id": "a3571487-2446-425b-bbef-baee06dab52b",
   "metadata": {},
   "outputs": [],
   "source": [
    "model.save(\"trained_model.keras\")"
   ]
  },
  {
   "cell_type": "code",
   "execution_count": 91,
   "id": "f91d1e32-5f33-4f54-9480-11be6448ec11",
   "metadata": {},
   "outputs": [
    {
     "data": {
      "text/plain": [
       "[0.8631578683853149,\n",
       " 0.8842105269432068,\n",
       " 0.8736842274665833,\n",
       " 0.8842105269432068,\n",
       " 0.8947368264198303,\n",
       " 0.8947368264198303,\n",
       " 0.9052631855010986,\n",
       " 0.8842105269432068,\n",
       " 0.8842105269432068,\n",
       " 0.8947368264198303]"
      ]
     },
     "execution_count": 91,
     "metadata": {},
     "output_type": "execute_result"
    }
   ],
   "source": [
    "training_history.history['val_accuracy']"
   ]
  },
  {
   "cell_type": "code",
   "execution_count": 93,
   "id": "ca5d7974-44af-468e-bd93-1f98cf23d7d8",
   "metadata": {},
   "outputs": [],
   "source": [
    "### Recording History in json\n",
    "import json\n",
    "with open(\"training_hist.json\",\"w\") as f:\n",
    "     json.dump(training_history.history,f)"
   ]
  },
  {
   "cell_type": "code",
   "execution_count": null,
   "id": "d11470a1-379c-46f8-8a89-a6cdd7e3b293",
   "metadata": {},
   "outputs": [],
   "source": []
  },
  {
   "cell_type": "markdown",
   "id": "daf37d55-3185-48b6-925e-b740fc9af61c",
   "metadata": {},
   "source": [
    "### Accuracy Visualization"
   ]
  },
  {
   "cell_type": "code",
   "execution_count": 97,
   "id": "21059fdf-ad3a-4464-9b53-a4650833b9f7",
   "metadata": {},
   "outputs": [
    {
     "data": {
      "image/png": "[encoded data removed]",
      "text/plain": [
       "<Figure size 640x480 with 1 Axes>"
      ]
     },
     "metadata": {},
     "output_type": "display_data"
    }
   ],
   "source": [
    "epochs = [i for i in range(1,11)]\n",
    "plt.plot(epochs,training_history.history['accuracy'],color='red',label='training Accuracy')\n",
    "plt.plot(epochs,training_history.history['val_accuracy'],color='blue',label='validation Accuracy')\n",
    "plt.xlabel(\"No. of epochs\")\n",
    "plt.ylabel(\"Accuracy Result\")\n",
    "plt.title(\"Visualization of Accuracy Result\")\n",
    "plt.legend()\n",
    "plt.show()"
   ]
  },
  {
   "cell_type": "code",
   "execution_count": null,
   "id": "383f5bb0-ce6d-4450-a80a-d3068a800276",
   "metadata": {},
   "outputs": [],
   "source": []
  },
  {
   "cell_type": "markdown",
   "id": "62dc8182-5464-40c2-9e0b-f11a5b9a46ea",
   "metadata": {},
   "source": [
    "### Some other metric for model evaluation"
   ]
  },
  {
   "cell_type": "code",
   "execution_count": 101,
   "id": "280f3dc8-e33e-4f49-a972-14e3b26c47f5",
   "metadata": {},
   "outputs": [
    {
     "data": {
      "text/plain": [
       "['Egg_Class B', 'Egg_Fresh Class AA', 'Egg_Fresh Class B', 'Egg_stale']"
      ]
     },
     "execution_count": 101,
     "metadata": {},
     "output_type": "execute_result"
    }
   ],
   "source": [
    "class_name = validation_set.class_names\n",
    "class_name"
   ]
  },
  {
   "cell_type": "code",
   "execution_count": null,
   "id": "10cc2001-16c6-4b71-9fb7-930d07dd7176",
   "metadata": {},
   "outputs": [],
   "source": []
  },
  {
   "cell_type": "code",
   "execution_count": 104,
   "id": "65a2d179-f58c-463a-bfab-9132a34d1d70",
   "metadata": {},
   "outputs": [
    {
     "name": "stdout",
     "output_type": "stream",
     "text": [
      "Found 95 files belonging to 4 classes.\n"
     ]
    }
   ],
   "source": [
    "test_set = tf.keras.utils.image_dataset_from_directory(\n",
    "    'valid',\n",
    "    labels=\"inferred\",\n",
    "    label_mode=\"categorical\",\n",
    "    class_names=None,\n",
    "    color_mode=\"rgb\",\n",
    "    batch_size=32,\n",
    "    image_size=(128, 128),\n",
    "    shuffle=False,\n",
    "    seed=None,\n",
    "    validation_split=None,\n",
    "    subset=None,\n",
    "    interpolation=\"bilinear\",\n",
    "    follow_links=False,\n",
    "    crop_to_aspect_ratio=False, \n",
    ")"
   ]
  },
  {
   "cell_type": "code",
   "execution_count": 106,
   "id": "740b7f8f-062a-4d1b-9cc9-f354762a878c",
   "metadata": {},
   "outputs": [
    {
     "name": "stdout",
     "output_type": "stream",
     "text": [
      "\u001b[1m3/3\u001b[0m \u001b[32m━━━━━━━━━━━━━━━━━━━━\u001b[0m\u001b[37m\u001b[0m \u001b[1m2s\u001b[0m 500ms/step\n"
     ]
    },
    {
     "data": {
      "text/plain": [
       "(array([[8.54092360e-01, 4.18201052e-02, 1.01920247e-01, 2.16736109e-03],\n",
       "        [9.69967306e-01, 1.27241318e-03, 1.14323711e-02, 1.73279177e-02],\n",
       "        [5.45138001e-01, 6.07897602e-02, 3.82073998e-01, 1.19981943e-02],\n",
       "        [9.87430573e-01, 8.13742727e-03, 3.53308773e-04, 4.07875609e-03],\n",
       "        [9.96467590e-01, 1.06393849e-03, 1.74822612e-03, 7.20279117e-04],\n",
       "        [7.67501056e-01, 2.11060420e-01, 1.33859450e-02, 8.05259123e-03],\n",
       "        [9.72784400e-01, 7.17924023e-03, 1.24435304e-02, 7.59285456e-03],\n",
       "        [4.27609921e-01, 1.27006054e-03, 5.70388258e-01, 7.31723849e-04],\n",
       "        [4.27609921e-01, 1.27006054e-03, 5.70388258e-01, 7.31723849e-04],\n",
       "        [8.27608645e-01, 2.21104507e-04, 1.71605334e-01, 5.64888353e-04],\n",
       "        [9.87503588e-01, 1.36505626e-03, 6.19901111e-03, 4.93232906e-03],\n",
       "        [5.65769792e-01, 5.40476516e-02, 9.80567560e-02, 2.82125831e-01],\n",
       "        [9.99531627e-01, 4.17910778e-05, 3.07154201e-04, 1.19457713e-04],\n",
       "        [4.27609921e-01, 1.27006054e-03, 5.70388258e-01, 7.31723849e-04],\n",
       "        [6.36036992e-01, 3.42431366e-01, 1.87542178e-02, 2.77746026e-03],\n",
       "        [9.99955535e-01, 4.24455857e-06, 2.67715895e-05, 1.33917893e-05],\n",
       "        [9.72784400e-01, 7.17924023e-03, 1.24435304e-02, 7.59285456e-03],\n",
       "        [8.27608645e-01, 2.21104507e-04, 1.71605334e-01, 5.64888353e-04],\n",
       "        [9.99531627e-01, 4.17910778e-05, 3.07154201e-04, 1.19457713e-04],\n",
       "        [8.23663890e-01, 6.60752878e-02, 5.21582104e-02, 5.81026040e-02],\n",
       "        [5.63347116e-02, 8.42005551e-01, 8.68798196e-02, 1.47800306e-02],\n",
       "        [8.39160290e-03, 9.53144968e-01, 9.93049797e-03, 2.85329688e-02],\n",
       "        [1.63570570e-03, 7.97367573e-01, 1.87584996e-01, 1.34117939e-02],\n",
       "        [1.43621638e-01, 6.62060916e-01, 8.93439129e-02, 1.04973502e-01],\n",
       "        [6.28109396e-01, 3.49848658e-01, 1.92456357e-02, 2.79636378e-03],\n",
       "        [6.96383178e-01, 2.84081310e-01, 1.19919023e-02, 7.54363043e-03],\n",
       "        [7.81950653e-02, 8.98145199e-01, 2.21336205e-02, 1.52609171e-03],\n",
       "        [1.20359911e-02, 9.87386644e-01, 2.34105770e-04, 3.43260646e-04],\n",
       "        [3.74592328e-03, 9.73217905e-01, 2.34881812e-03, 2.06873901e-02],\n",
       "        [8.37061461e-03, 9.91236448e-01, 1.90165068e-04, 2.02783034e-04],\n",
       "        [7.98234344e-03, 9.79763985e-01, 1.14525948e-03, 1.11083975e-02],\n",
       "        [1.04039768e-02, 9.88714755e-01, 3.01983120e-04, 5.79275598e-04],\n",
       "        [2.59124092e-03, 9.95163083e-01, 1.90623640e-03, 3.39385850e-04],\n",
       "        [3.57064744e-03, 9.94244039e-01, 1.56203436e-03, 6.23301195e-04],\n",
       "        [5.84904524e-03, 9.88912702e-01, 1.93626247e-03, 3.30203073e-03],\n",
       "        [3.07265000e-04, 9.96865451e-01, 2.76775681e-03, 5.95529746e-05],\n",
       "        [3.11779976e-03, 9.80067194e-01, 8.57993728e-04, 1.59569029e-02],\n",
       "        [1.14605892e-02, 9.83186483e-01, 3.05877230e-03, 2.29411526e-03],\n",
       "        [3.64066893e-03, 9.94617045e-01, 1.06263801e-03, 6.79610472e-04],\n",
       "        [4.54659719e-04, 9.96676445e-01, 1.90026464e-03, 9.68693232e-04],\n",
       "        [5.54058119e-04, 9.98331130e-01, 9.63001687e-04, 1.51913759e-04],\n",
       "        [4.80351504e-03, 3.22819918e-01, 6.57963037e-01, 1.44135254e-02],\n",
       "        [1.38950779e-03, 9.95546460e-01, 2.49003526e-03, 5.73910074e-04],\n",
       "        [2.99720038e-02, 9.54021275e-01, 1.58545710e-02, 1.52201857e-04],\n",
       "        [1.10413611e-03, 9.96001542e-01, 8.85489921e-04, 2.00881762e-03],\n",
       "        [2.15631374e-03, 9.93909597e-01, 3.51913797e-04, 3.58217466e-03],\n",
       "        [1.89633959e-03, 9.96902108e-01, 5.36692387e-04, 6.64898078e-04],\n",
       "        [1.38950779e-03, 9.95546460e-01, 2.49003526e-03, 5.73910074e-04],\n",
       "        [6.17082790e-03, 9.92147267e-01, 4.45053593e-04, 1.23691338e-03],\n",
       "        [1.89633959e-03, 9.96902108e-01, 5.36692387e-04, 6.64898078e-04],\n",
       "        [2.29298584e-02, 9.51475203e-01, 2.49606073e-02, 6.34274154e-04],\n",
       "        [4.80351504e-03, 3.22819918e-01, 6.57963037e-01, 1.44135254e-02],\n",
       "        [2.15631374e-03, 9.93909597e-01, 3.51913797e-04, 3.58217466e-03],\n",
       "        [8.39160290e-03, 9.53144968e-01, 9.93049797e-03, 2.85329688e-02],\n",
       "        [5.45138001e-01, 6.07897602e-02, 3.82073998e-01, 1.19981943e-02],\n",
       "        [1.05941139e-01, 9.11468863e-02, 1.54547974e-01, 6.48364007e-01],\n",
       "        [9.90263186e-03, 9.19015612e-03, 9.80164230e-01, 7.43040582e-04],\n",
       "        [5.12260105e-03, 1.49450218e-03, 9.93361831e-01, 2.10006383e-05],\n",
       "        [4.80351504e-03, 3.22819918e-01, 6.57963037e-01, 1.44135254e-02],\n",
       "        [4.80351504e-03, 3.22819918e-01, 6.57963037e-01, 1.44135254e-02],\n",
       "        [3.26575735e-03, 1.26725614e-01, 8.45974326e-01, 2.40342990e-02],\n",
       "        [4.58003879e-02, 1.17010854e-01, 6.60969317e-01, 1.76219434e-01],\n",
       "        [4.80351504e-03, 3.22819889e-01, 6.57963037e-01, 1.44135216e-02],\n",
       "        [4.80351504e-03, 3.22819889e-01, 6.57963037e-01, 1.44135216e-02],\n",
       "        [1.78852126e-01, 1.30710170e-01, 6.88247681e-01, 2.18992424e-03],\n",
       "        [1.50483288e-02, 1.57428943e-02, 9.68975425e-01, 2.33395811e-04],\n",
       "        [8.27608645e-01, 2.21104507e-04, 1.71605334e-01, 5.64888353e-04],\n",
       "        [5.12260105e-03, 1.49450218e-03, 9.93361831e-01, 2.10006383e-05],\n",
       "        [7.23128906e-04, 1.00010606e-04, 9.96240497e-01, 2.93634203e-03],\n",
       "        [2.90267798e-03, 6.90882269e-04, 9.93847787e-01, 2.55861855e-03],\n",
       "        [4.27609921e-01, 1.27006054e-03, 5.70388258e-01, 7.31723849e-04],\n",
       "        [4.27609921e-01, 1.27006054e-03, 5.70388258e-01, 7.31723849e-04],\n",
       "        [6.42965967e-03, 4.66755684e-03, 9.88766253e-01, 1.36508810e-04],\n",
       "        [9.01658535e-02, 6.00833781e-02, 7.88887978e-01, 6.08628131e-02],\n",
       "        [4.96217422e-03, 3.34192323e-03, 9.87241626e-01, 4.45424486e-03],\n",
       "        [4.96217422e-03, 3.34192323e-03, 9.87241626e-01, 4.45424486e-03],\n",
       "        [1.82002671e-02, 3.01032439e-02, 2.05060784e-02, 9.31190491e-01],\n",
       "        [2.06899410e-03, 1.37992261e-03, 1.86235306e-03, 9.94688749e-01],\n",
       "        [4.55197785e-03, 2.41304329e-03, 8.09958088e-04, 9.92224932e-01],\n",
       "        [3.43847345e-03, 1.10343285e-03, 5.39528672e-03, 9.90062773e-01],\n",
       "        [3.25513445e-03, 1.26458053e-03, 8.97755381e-03, 9.86502767e-01],\n",
       "        [1.30131012e-02, 7.25140655e-03, 6.80363877e-03, 9.72931743e-01],\n",
       "        [2.39676470e-03, 2.56268727e-03, 1.30678341e-03, 9.93733704e-01],\n",
       "        [1.19743124e-02, 1.76275801e-02, 1.15180332e-02, 9.58880067e-01],\n",
       "        [7.33086024e-04, 2.70299963e-03, 9.88901476e-04, 9.95575070e-01],\n",
       "        [2.49400176e-02, 9.22338571e-03, 6.33577071e-03, 9.59500849e-01],\n",
       "        [1.06764607e-01, 9.21237692e-02, 1.50552720e-01, 6.50558949e-01],\n",
       "        [1.84541196e-03, 8.13965686e-03, 1.25824939e-03, 9.88756716e-01],\n",
       "        [1.39439665e-02, 4.28481167e-03, 4.06658603e-03, 9.77704644e-01],\n",
       "        [1.04892917e-01, 9.20393616e-02, 1.48619875e-01, 6.54447854e-01],\n",
       "        [1.12251611e-03, 1.27882115e-03, 4.91278770e-04, 9.97107327e-01],\n",
       "        [7.45501881e-03, 7.69937970e-03, 9.52949654e-03, 9.75316107e-01],\n",
       "        [2.39676470e-03, 2.56268727e-03, 1.30678341e-03, 9.93733704e-01],\n",
       "        [2.41639148e-02, 6.86238706e-03, 4.34462167e-03, 9.64629054e-01],\n",
       "        [5.82861900e-03, 6.01373054e-03, 2.01306562e-03, 9.86144543e-01]],\n",
       "       dtype=float32),\n",
       " (95, 4))"
      ]
     },
     "execution_count": 106,
     "metadata": {},
     "output_type": "execute_result"
    }
   ],
   "source": [
    "y_pred = model.predict(test_set)\n",
    "y_pred,y_pred.shape"
   ]
  },
  {
   "cell_type": "code",
   "execution_count": 152,
   "id": "235bd7bb-9a0b-4bfa-b123-d8bb1fb50012",
   "metadata": {},
   "outputs": [],
   "source": [
    "predicted_categories = tf.argmax(y_pred,axis=1)"
   ]
  },
  {
   "cell_type": "code",
   "execution_count": 154,
   "id": "a4d6499e-d3be-4054-8e78-d5586954ae71",
   "metadata": {},
   "outputs": [
    {
     "data": {
      "text/plain": [
       "<tf.Tensor: shape=(95,), dtype=int64, numpy=\n",
       "array([0, 0, 0, 0, 0, 0, 0, 2, 2, 0, 0, 0, 0, 2, 0, 0, 0, 0, 0, 0, 1, 1,\n",
       "       1, 1, 0, 0, 1, 1, 1, 1, 1, 1, 1, 1, 1, 1, 1, 1, 1, 1, 1, 2, 1, 1,\n",
       "       1, 1, 1, 1, 1, 1, 1, 2, 1, 1, 0, 3, 2, 2, 2, 2, 2, 2, 2, 2, 2, 2,\n",
       "       0, 2, 2, 2, 2, 2, 2, 2, 2, 2, 3, 3, 3, 3, 3, 3, 3, 3, 3, 3, 3, 3,\n",
       "       3, 3, 3, 3, 3, 3, 3], dtype=int64)>"
      ]
     },
     "execution_count": 154,
     "metadata": {},
     "output_type": "execute_result"
    }
   ],
   "source": [
    "predicted_categories"
   ]
  },
  {
   "cell_type": "code",
   "execution_count": 156,
   "id": "85b16f41-dcfe-4cd5-b685-7002f147b62b",
   "metadata": {},
   "outputs": [
    {
     "data": {
      "text/plain": [
       "<tf.Tensor: shape=(95, 4), dtype=float32, numpy=\n",
       "array([[1., 0., 0., 0.],\n",
       "       [1., 0., 0., 0.],\n",
       "       [1., 0., 0., 0.],\n",
       "       [1., 0., 0., 0.],\n",
       "       [1., 0., 0., 0.],\n",
       "       [1., 0., 0., 0.],\n",
       "       [1., 0., 0., 0.],\n",
       "       [1., 0., 0., 0.],\n",
       "       [1., 0., 0., 0.],\n",
       "       [1., 0., 0., 0.],\n",
       "       [1., 0., 0., 0.],\n",
       "       [1., 0., 0., 0.],\n",
       "       [1., 0., 0., 0.],\n",
       "       [1., 0., 0., 0.],\n",
       "       [1., 0., 0., 0.],\n",
       "       [1., 0., 0., 0.],\n",
       "       [1., 0., 0., 0.],\n",
       "       [1., 0., 0., 0.],\n",
       "       [1., 0., 0., 0.],\n",
       "       [1., 0., 0., 0.],\n",
       "       [0., 1., 0., 0.],\n",
       "       [0., 1., 0., 0.],\n",
       "       [0., 1., 0., 0.],\n",
       "       [0., 1., 0., 0.],\n",
       "       [0., 1., 0., 0.],\n",
       "       [0., 1., 0., 0.],\n",
       "       [0., 1., 0., 0.],\n",
       "       [0., 1., 0., 0.],\n",
       "       [0., 1., 0., 0.],\n",
       "       [0., 1., 0., 0.],\n",
       "       [0., 1., 0., 0.],\n",
       "       [0., 1., 0., 0.],\n",
       "       [0., 1., 0., 0.],\n",
       "       [0., 1., 0., 0.],\n",
       "       [0., 1., 0., 0.],\n",
       "       [0., 1., 0., 0.],\n",
       "       [0., 1., 0., 0.],\n",
       "       [0., 1., 0., 0.],\n",
       "       [0., 1., 0., 0.],\n",
       "       [0., 1., 0., 0.],\n",
       "       [0., 1., 0., 0.],\n",
       "       [0., 1., 0., 0.],\n",
       "       [0., 1., 0., 0.],\n",
       "       [0., 1., 0., 0.],\n",
       "       [0., 1., 0., 0.],\n",
       "       [0., 1., 0., 0.],\n",
       "       [0., 1., 0., 0.],\n",
       "       [0., 1., 0., 0.],\n",
       "       [0., 1., 0., 0.],\n",
       "       [0., 1., 0., 0.],\n",
       "       [0., 1., 0., 0.],\n",
       "       [0., 1., 0., 0.],\n",
       "       [0., 1., 0., 0.],\n",
       "       [0., 1., 0., 0.],\n",
       "       [0., 0., 1., 0.],\n",
       "       [0., 0., 1., 0.],\n",
       "       [0., 0., 1., 0.],\n",
       "       [0., 0., 1., 0.],\n",
       "       [0., 0., 1., 0.],\n",
       "       [0., 0., 1., 0.],\n",
       "       [0., 0., 1., 0.],\n",
       "       [0., 0., 1., 0.],\n",
       "       [0., 0., 1., 0.],\n",
       "       [0., 0., 1., 0.],\n",
       "       [0., 0., 1., 0.],\n",
       "       [0., 0., 1., 0.],\n",
       "       [0., 0., 1., 0.],\n",
       "       [0., 0., 1., 0.],\n",
       "       [0., 0., 1., 0.],\n",
       "       [0., 0., 1., 0.],\n",
       "       [0., 0., 1., 0.],\n",
       "       [0., 0., 1., 0.],\n",
       "       [0., 0., 1., 0.],\n",
       "       [0., 0., 1., 0.],\n",
       "       [0., 0., 1., 0.],\n",
       "       [0., 0., 1., 0.],\n",
       "       [0., 0., 0., 1.],\n",
       "       [0., 0., 0., 1.],\n",
       "       [0., 0., 0., 1.],\n",
       "       [0., 0., 0., 1.],\n",
       "       [0., 0., 0., 1.],\n",
       "       [0., 0., 0., 1.],\n",
       "       [0., 0., 0., 1.],\n",
       "       [0., 0., 0., 1.],\n",
       "       [0., 0., 0., 1.],\n",
       "       [0., 0., 0., 1.],\n",
       "       [0., 0., 0., 1.],\n",
       "       [0., 0., 0., 1.],\n",
       "       [0., 0., 0., 1.],\n",
       "       [0., 0., 0., 1.],\n",
       "       [0., 0., 0., 1.],\n",
       "       [0., 0., 0., 1.],\n",
       "       [0., 0., 0., 1.],\n",
       "       [0., 0., 0., 1.],\n",
       "       [0., 0., 0., 1.]], dtype=float32)>"
      ]
     },
     "execution_count": 156,
     "metadata": {},
     "output_type": "execute_result"
    }
   ],
   "source": [
    "true_categories = tf.concat([y for x,y in test_set],axis=0)\n",
    "true_categories"
   ]
  },
  {
   "cell_type": "code",
   "execution_count": 158,
   "id": "1ea1a314-cba8-4b55-8da5-46a7e71f39ff",
   "metadata": {},
   "outputs": [
    {
     "data": {
      "text/plain": [
       "<tf.Tensor: shape=(95,), dtype=int64, numpy=\n",
       "array([0, 0, 0, 0, 0, 0, 0, 0, 0, 0, 0, 0, 0, 0, 0, 0, 0, 0, 0, 0, 1, 1,\n",
       "       1, 1, 1, 1, 1, 1, 1, 1, 1, 1, 1, 1, 1, 1, 1, 1, 1, 1, 1, 1, 1, 1,\n",
       "       1, 1, 1, 1, 1, 1, 1, 1, 1, 1, 2, 2, 2, 2, 2, 2, 2, 2, 2, 2, 2, 2,\n",
       "       2, 2, 2, 2, 2, 2, 2, 2, 2, 2, 3, 3, 3, 3, 3, 3, 3, 3, 3, 3, 3, 3,\n",
       "       3, 3, 3, 3, 3, 3, 3], dtype=int64)>"
      ]
     },
     "execution_count": 158,
     "metadata": {},
     "output_type": "execute_result"
    }
   ],
   "source": [
    "Y_true = tf.argmax(true_categories,axis=1)\n",
    "Y_true"
   ]
  },
  {
   "cell_type": "code",
   "execution_count": null,
   "id": "48b85dab-2529-457e-9606-832ab4e4fc2f",
   "metadata": {},
   "outputs": [],
   "source": []
  },
  {
   "cell_type": "code",
   "execution_count": 161,
   "id": "1bfb2275-6791-48e5-80f3-68b3bafd958b",
   "metadata": {},
   "outputs": [],
   "source": [
    "from sklearn.metrics import classification_report,confusion_matrix"
   ]
  },
  {
   "cell_type": "code",
   "execution_count": 163,
   "id": "593117b0-142d-4d67-80d2-34a97f5df182",
   "metadata": {},
   "outputs": [
    {
     "name": "stdout",
     "output_type": "stream",
     "text": [
      "                    precision    recall  f1-score   support\n",
      "\n",
      "       Egg_Class B       0.81      0.85      0.83        20\n",
      "Egg_Fresh Class AA       1.00      0.88      0.94        34\n",
      " Egg_Fresh Class B       0.79      0.86      0.83        22\n",
      "         Egg_stale       0.95      1.00      0.97        19\n",
      "\n",
      "          accuracy                           0.89        95\n",
      "         macro avg       0.89      0.90      0.89        95\n",
      "      weighted avg       0.90      0.89      0.90        95\n",
      "\n"
     ]
    }
   ],
   "source": [
    "print(classification_report(Y_true,predicted_categories,target_names=class_name))"
   ]
  },
  {
   "cell_type": "code",
   "execution_count": 168,
   "id": "5b023d13-a2bb-486d-b37a-8b31b8b33594",
   "metadata": {},
   "outputs": [
    {
     "data": {
      "text/plain": [
       "(4, 4)"
      ]
     },
     "execution_count": 168,
     "metadata": {},
     "output_type": "execute_result"
    }
   ],
   "source": [
    "cm = confusion_matrix(Y_true,predicted_categories)\n",
    "cm.shape"
   ]
  },
  {
   "cell_type": "markdown",
   "id": "9568c7e3-dd31-4587-a73a-d7c12038da46",
   "metadata": {},
   "source": [
    "### Confusion Matrix Visualization"
   ]
  },
  {
   "cell_type": "code",
   "execution_count": 187,
   "id": "3742c79a-62d9-4fdb-9511-70d3d94a1011",
   "metadata": {},
   "outputs": [
    {
     "data": {
      "image/png": "[encoded data removed]",
      "text/plain": [
       "<Figure size 640x480 with 2 Axes>"
      ]
     },
     "metadata": {},
     "output_type": "display_data"
    }
   ],
   "source": [
    "sns.heatmap(cm,annot=True)\n",
    "plt.xlabel(\"Predicted Class\")\n",
    "plt.ylabel(\"Actual Class\") \n",
    "plt.title(\"Egg Class Prediction Confusion Matrix\")\n",
    "plt.show()"
   ]
  },
  {
   "cell_type": "code",
   "execution_count": null,
   "id": "5cef3ba1-1433-4954-849c-50e04a3cf404",
   "metadata": {},
   "outputs": [],
   "source": []
  },
  {
   "cell_type": "code",
   "execution_count": null,
   "id": "2b4407d7-1669-479f-802a-bc5c960b6110",
   "metadata": {},
   "outputs": [],
   "source": []
  },
  {
   "cell_type": "code",
   "execution_count": null,
   "id": "a0768a5d-9adb-423d-b279-edd24dcdbb0b",
   "metadata": {},
   "outputs": [],
   "source": []
  }
 ],
 "metadata": {
  "kernelspec": {
   "display_name": "Python 3 (ipykernel)",
   "language": "python",
   "name": "python3"
  },
  "language_info": {
   "codemirror_mode": {
    "name": "ipython",
    "version": 3
   },
   "file_extension": ".py",
   "mimetype": "text/x-python",
   "name": "python",
   "nbconvert_exporter": "python",
   "pygments_lexer": "ipython3",
   "version": "3.12.4"
  }
 },
 "nbformat": 4,
 "nbformat_minor": 5
}
