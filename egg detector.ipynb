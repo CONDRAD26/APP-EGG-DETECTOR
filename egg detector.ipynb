{
 "cells": [
  {
   "cell_type": "markdown",
   "id": "c3dffd99-49fd-4c9f-b84d-b6b2f0d5886d",
   "metadata": {},
   "source": [
    "## Import Libraries"
   ]
  },
  {
   "cell_type": "code",
   "execution_count": 1,
   "id": "2889c229-ef3b-40f5-b67a-b71ba50169fc",
   "metadata": {},
   "outputs": [],
   "source": [
    "import tensorflow as tf\n",
    "import matplotlib.pyplot as plt\n",
    "import pandas as pd\n",
    "import seaborn as sns\n"
   ]
  },
  {
   "cell_type": "markdown",
   "id": "1e3bc267-adc5-4220-b46d-04307a18c593",
   "metadata": {},
   "source": [
    "## Data Preprocessing"
   ]
  },
  {
   "cell_type": "markdown",
   "id": "bc070ed9-5f7a-432c-8929-356b6a213e32",
   "metadata": {},
   "source": [
    "## Training Image Preprocessing"
   ]
  },
  {
   "cell_type": "code",
   "execution_count": 2,
   "id": "755e237e-690d-4b9c-8b7f-68d478c1cb5b",
   "metadata": {},
   "outputs": [
    {
     "name": "stdout",
     "output_type": "stream",
     "text": [
      "Found 95 files belonging to 4 classes.\n"
     ]
    }
   ],
   "source": [
    "training_set = tf.keras.utils.image_dataset_from_directory(\n",
    "    'train',\n",
    "    labels=\"inferred\",\n",
    "    label_mode=\"categorical\",\n",
    "    class_names=None,\n",
    "    color_mode=\"rgb\",\n",
    "    batch_size=32,\n",
    "    image_size=(128, 128),\n",
    "    shuffle=True,\n",
    "    seed=None,\n",
    "    validation_split=None,\n",
    "    subset=None,\n",
    "    interpolation=\"bilinear\",\n",
    "    follow_links=False,\n",
    "    crop_to_aspect_ratio=False, \n",
    "    \n",
    ")"
   ]
  },
  {
   "cell_type": "markdown",
   "id": "0971ebd1-2e6b-428a-a4f4-78f060832a36",
   "metadata": {},
   "source": [
    "### Validation Image Preprocessing"
   ]
  },
  {
   "cell_type": "code",
   "execution_count": 3,
   "id": "a9897733-2cda-4c2c-82b2-5b89157b5c48",
   "metadata": {},
   "outputs": [
    {
     "name": "stdout",
     "output_type": "stream",
     "text": [
      "Found 95 files belonging to 4 classes.\n"
     ]
    }
   ],
   "source": [
    "validation_set = tf.keras.utils.image_dataset_from_directory(\n",
    "    'valid',\n",
    "    labels=\"inferred\",\n",
    "    label_mode=\"categorical\",\n",
    "    class_names=None,\n",
    "    color_mode=\"rgb\",\n",
    "    batch_size=32,\n",
    "    image_size=(128, 128),\n",
    "    shuffle=True,\n",
    "    seed=None,\n",
    "    validation_split=None,\n",
    "    subset=None,\n",
    "    interpolation=\"bilinear\",\n",
    "    follow_links=False,\n",
    "    crop_to_aspect_ratio=False, \n",
    ")"
   ]
  },
  {
   "cell_type": "code",
   "execution_count": 4,
   "id": "9d45d613-6136-4d3b-9794-08368700df0e",
   "metadata": {},
   "outputs": [
    {
     "data": {
      "text/plain": [
       "<_PrefetchDataset element_spec=(TensorSpec(shape=(None, 128, 128, 3), dtype=tf.float32, name=None), TensorSpec(shape=(None, 4), dtype=tf.float32, name=None))>"
      ]
     },
     "execution_count": 4,
     "metadata": {},
     "output_type": "execute_result"
    }
   ],
   "source": [
    "training_set"
   ]
  },
  {
   "cell_type": "markdown",
   "id": "0c0c4ee3-85a3-4f61-9ebe-64e903559e29",
   "metadata": {},
   "source": [
    "### test if model is picking data"
   ]
  },
  {
   "cell_type": "code",
   "execution_count": 12,
   "id": "62c80c43-2a1f-43c5-8c78-6a0347d678e6",
   "metadata": {},
   "outputs": [
    {
     "name": "stdout",
     "output_type": "stream",
     "text": [
      "tf.Tensor(\n",
      "[[[[ 2.71875     1.71875     6.71875   ]\n",
      "   [ 3.          2.          7.        ]\n",
      "   [ 3.          3.          5.        ]\n",
      "   ...\n",
      "   [ 4.          2.          5.        ]\n",
      "   [ 2.          0.          3.        ]\n",
      "   [ 1.6640625   0.          2.6640625 ]]\n",
      "\n",
      "  [[ 4.          3.          8.        ]\n",
      "   [ 4.          3.          8.        ]\n",
      "   [ 3.          3.          5.        ]\n",
      "   ...\n",
      "   [ 2.          0.          3.        ]\n",
      "   [ 2.          0.          3.        ]\n",
      "   [ 4.          2.          5.        ]]\n",
      "\n",
      "  [[ 3.6796875   2.6796875   7.6796875 ]\n",
      "   [ 3.6796875   2.6796875   7.6796875 ]\n",
      "   [ 3.          3.          5.        ]\n",
      "   ...\n",
      "   [ 1.6796875   0.3203125   3.        ]\n",
      "   [ 1.6796875   0.3203125   3.        ]\n",
      "   [ 3.0390625   1.6796875   3.71875   ]]\n",
      "\n",
      "  ...\n",
      "\n",
      "  [[10.3203125   6.3203125   7.3203125 ]\n",
      "   [ 9.          5.          6.        ]\n",
      "   [ 8.          4.          5.        ]\n",
      "   ...\n",
      "   [ 0.          0.          0.        ]\n",
      "   [ 0.          0.          0.        ]\n",
      "   [ 0.          0.          0.        ]]\n",
      "\n",
      "  [[ 8.          4.          5.        ]\n",
      "   [ 8.          4.          5.        ]\n",
      "   [ 9.          5.          6.        ]\n",
      "   ...\n",
      "   [ 1.          1.          1.        ]\n",
      "   [ 1.          1.          1.        ]\n",
      "   [ 1.          1.          1.        ]]\n",
      "\n",
      "  [[ 8.          4.          5.        ]\n",
      "   [ 8.          4.          5.        ]\n",
      "   [ 9.          5.          6.        ]\n",
      "   ...\n",
      "   [ 1.          1.          1.        ]\n",
      "   [ 1.          1.          1.        ]\n",
      "   [ 1.          1.          1.        ]]]\n",
      "\n",
      "\n",
      " [[[33.851562   19.851562   18.851562  ]\n",
      "   [29.554688   15.5546875  14.5546875 ]\n",
      "   [31.742188   15.7421875  15.7421875 ]\n",
      "   ...\n",
      "   [30.128906   26.128906   23.128906  ]\n",
      "   [30.167969   26.167969   23.722656  ]\n",
      "   [28.         24.         23.        ]]\n",
      "\n",
      "  [[33.851562   19.851562   18.851562  ]\n",
      "   [29.554688   15.5546875  14.5546875 ]\n",
      "   [31.097656   16.386719   15.7421875 ]\n",
      "   ...\n",
      "   [30.128906   26.128906   23.128906  ]\n",
      "   [30.346725   26.346725   23.5439    ]\n",
      "   [28.644531   24.644531   22.355469  ]]\n",
      "\n",
      "  [[33.703125   19.925781   18.851562  ]\n",
      "   [29.554688   15.5546875  14.5546875 ]\n",
      "   [30.742188   16.742188   15.7421875 ]\n",
      "   ...\n",
      "   [30.128906   26.128906   23.128906  ]\n",
      "   [30.465897   26.465897   23.465897  ]\n",
      "   [29.074219   25.074219   22.074219  ]]\n",
      "\n",
      "  ...\n",
      "\n",
      "  [[27.         18.         21.        ]\n",
      "   [25.         19.         21.        ]\n",
      "   [25.         19.         21.        ]\n",
      "   ...\n",
      "   [26.         21.         17.        ]\n",
      "   [26.         21.         17.        ]\n",
      "   [26.         21.         17.        ]]\n",
      "\n",
      "  [[26.         17.         20.        ]\n",
      "   [24.         18.         20.        ]\n",
      "   [24.         18.         20.        ]\n",
      "   ...\n",
      "   [26.         21.         17.        ]\n",
      "   [26.         21.         17.        ]\n",
      "   [26.         21.         17.        ]]\n",
      "\n",
      "  [[26.         17.         20.        ]\n",
      "   [24.         18.         20.        ]\n",
      "   [24.         18.         20.        ]\n",
      "   ...\n",
      "   [26.         21.         17.        ]\n",
      "   [26.         21.         17.        ]\n",
      "   [26.         21.         17.        ]]]\n",
      "\n",
      "\n",
      " [[[ 0.          0.          0.        ]\n",
      "   [ 0.          0.          0.        ]\n",
      "   [ 0.          0.          0.        ]\n",
      "   ...\n",
      "   [ 0.          0.          0.        ]\n",
      "   [ 0.          0.          0.        ]\n",
      "   [ 0.          0.          0.        ]]\n",
      "\n",
      "  [[ 0.          0.          0.        ]\n",
      "   [ 0.          0.          0.        ]\n",
      "   [ 0.          0.          0.        ]\n",
      "   ...\n",
      "   [ 0.          0.          0.        ]\n",
      "   [ 0.          0.          0.        ]\n",
      "   [ 0.          0.          0.        ]]\n",
      "\n",
      "  [[ 0.          0.          0.        ]\n",
      "   [ 0.          0.          0.        ]\n",
      "   [ 0.          0.          0.        ]\n",
      "   ...\n",
      "   [ 0.          0.          0.        ]\n",
      "   [ 0.          0.          0.        ]\n",
      "   [ 0.          0.          0.        ]]\n",
      "\n",
      "  ...\n",
      "\n",
      "  [[ 0.          0.          0.        ]\n",
      "   [ 0.          0.          0.        ]\n",
      "   [ 0.          0.          0.        ]\n",
      "   ...\n",
      "   [ 0.          0.          0.        ]\n",
      "   [ 0.          0.          0.        ]\n",
      "   [ 0.          0.          0.        ]]\n",
      "\n",
      "  [[ 0.          0.          0.        ]\n",
      "   [ 0.          0.          0.        ]\n",
      "   [ 0.          0.          0.        ]\n",
      "   ...\n",
      "   [ 0.          0.          0.        ]\n",
      "   [ 0.          0.          0.        ]\n",
      "   [ 0.          0.          0.        ]]\n",
      "\n",
      "  [[ 0.          0.          0.        ]\n",
      "   [ 0.          0.          0.        ]\n",
      "   [ 0.          0.          0.        ]\n",
      "   ...\n",
      "   [ 0.          0.          0.        ]\n",
      "   [ 0.          0.          0.        ]\n",
      "   [ 0.          0.          0.        ]]]\n",
      "\n",
      "\n",
      " ...\n",
      "\n",
      "\n",
      " [[[ 7.4882812   5.4882812  18.488281  ]\n",
      "   [ 2.9296875   0.9296875  13.9296875 ]\n",
      "   [ 1.5585938   0.         12.558594  ]\n",
      "   ...\n",
      "   [10.          2.         15.        ]\n",
      "   [10.          2.9296875  16.394531  ]\n",
      "   [10.          4.         18.        ]]\n",
      "\n",
      "  [[ 7.4882812   5.4882812  18.488281  ]\n",
      "   [ 2.9296875   0.9296875  13.9296875 ]\n",
      "   [ 1.5585938   0.         12.558594  ]\n",
      "   ...\n",
      "   [10.          2.         15.        ]\n",
      "   [10.          2.9296875  16.394531  ]\n",
      "   [10.          4.         18.        ]]\n",
      "\n",
      "  [[ 7.4882812   5.4882812  18.488281  ]\n",
      "   [ 2.9296875   0.9296875  13.9296875 ]\n",
      "   [ 1.5585938   0.         12.558594  ]\n",
      "   ...\n",
      "   [10.          2.         15.        ]\n",
      "   [10.          2.9296875  16.394531  ]\n",
      "   [10.          4.         18.        ]]\n",
      "\n",
      "  ...\n",
      "\n",
      "  [[ 9.9765625   6.9765625  17.976562  ]\n",
      "   [ 4.9296875   1.9296875  12.9296875 ]\n",
      "   [ 3.5585938   0.55859375 11.558594  ]\n",
      "   ...\n",
      "   [ 9.          3.         15.        ]\n",
      "   [ 9.          3.         15.        ]\n",
      "   [ 9.          3.         15.        ]]\n",
      "\n",
      "  [[ 8.84906     6.0756226  17.528748  ]\n",
      "   [ 4.8243713   2.0509338  13.504059  ]\n",
      "   [ 3.5320435   0.75860596 11.758606  ]\n",
      "   ...\n",
      "   [ 9.6796875   3.6796875  15.6796875 ]\n",
      "   [ 9.258423    3.2584229  15.258423  ]\n",
      "   [ 8.884064    2.8840637  14.884064  ]]\n",
      "\n",
      "  [[ 8.7109375   6.7109375  19.710938  ]\n",
      "   [ 8.175781    6.1757812  19.175781  ]\n",
      "   [ 7.1523438   5.1523438  16.152344  ]\n",
      "   ...\n",
      "   [13.484375    7.484375   19.484375  ]\n",
      "   [12.660004    6.6600037  18.660004  ]\n",
      "   [12.199219    6.1992188  18.199219  ]]]\n",
      "\n",
      "\n",
      " [[[ 1.          1.          1.        ]\n",
      "   [ 1.          1.          1.        ]\n",
      "   [ 2.3515625   2.3515625   2.3515625 ]\n",
      "   ...\n",
      "   [ 1.          1.          1.        ]\n",
      "   [ 1.          1.          1.        ]\n",
      "   [ 1.          1.          1.        ]]\n",
      "\n",
      "  [[ 1.          1.          1.        ]\n",
      "   [ 1.          1.          1.        ]\n",
      "   [ 4.          4.          4.        ]\n",
      "   ...\n",
      "   [ 1.          1.          1.        ]\n",
      "   [ 1.          1.          1.        ]\n",
      "   [ 1.          1.          1.        ]]\n",
      "\n",
      "  [[ 1.          1.          1.        ]\n",
      "   [ 1.          1.          1.        ]\n",
      "   [ 4.          4.          4.        ]\n",
      "   ...\n",
      "   [ 1.          1.          1.        ]\n",
      "   [ 1.          1.          1.        ]\n",
      "   [ 1.          1.          1.        ]]\n",
      "\n",
      "  ...\n",
      "\n",
      "  [[ 2.          2.          2.        ]\n",
      "   [ 2.          2.          2.        ]\n",
      "   [ 2.          2.          2.        ]\n",
      "   ...\n",
      "   [ 1.          1.          1.        ]\n",
      "   [ 1.          1.          1.        ]\n",
      "   [ 1.          1.          1.        ]]\n",
      "\n",
      "  [[ 2.          2.          2.        ]\n",
      "   [ 2.          2.          2.        ]\n",
      "   [ 2.          2.          2.        ]\n",
      "   ...\n",
      "   [ 1.          1.          1.        ]\n",
      "   [ 1.          1.          1.        ]\n",
      "   [ 1.          1.          1.        ]]\n",
      "\n",
      "  [[ 0.703125    0.703125    0.703125  ]\n",
      "   [ 1.3515625   1.3515625   1.3515625 ]\n",
      "   [ 1.3515625   1.3515625   1.3515625 ]\n",
      "   ...\n",
      "   [ 0.3515625   0.3515625   0.3515625 ]\n",
      "   [ 0.3515625   0.3515625   0.3515625 ]\n",
      "   [ 0.3515625   0.3515625   0.3515625 ]]]\n",
      "\n",
      "\n",
      " [[[ 3.          3.          3.        ]\n",
      "   [ 3.          3.          3.        ]\n",
      "   [ 3.          3.          3.        ]\n",
      "   ...\n",
      "   [ 0.          0.          2.        ]\n",
      "   [ 1.          1.          3.        ]\n",
      "   [ 1.          1.          3.        ]]\n",
      "\n",
      "  [[ 1.          1.          1.        ]\n",
      "   [ 3.          3.          3.        ]\n",
      "   [ 3.          3.          3.        ]\n",
      "   ...\n",
      "   [ 1.          1.          3.        ]\n",
      "   [ 1.          1.          3.        ]\n",
      "   [ 1.          1.          3.        ]]\n",
      "\n",
      "  [[ 3.          3.          3.        ]\n",
      "   [ 3.          3.          3.        ]\n",
      "   [ 3.          3.          3.        ]\n",
      "   ...\n",
      "   [ 3.          3.          5.        ]\n",
      "   [ 1.          1.          3.        ]\n",
      "   [ 1.          1.          3.        ]]\n",
      "\n",
      "  ...\n",
      "\n",
      "  [[ 2.          0.          1.        ]\n",
      "   [ 2.          0.          1.        ]\n",
      "   [ 2.640625    0.640625    1.640625  ]\n",
      "   ...\n",
      "   [ 2.          0.          1.        ]\n",
      "   [ 4.          2.          3.        ]\n",
      "   [ 4.          2.          3.        ]]\n",
      "\n",
      "  [[ 2.          0.          1.        ]\n",
      "   [ 2.          0.          1.        ]\n",
      "   [ 2.          0.          1.        ]\n",
      "   ...\n",
      "   [ 2.          0.          1.        ]\n",
      "   [ 2.          0.          1.        ]\n",
      "   [ 2.          0.          1.        ]]\n",
      "\n",
      "  [[ 2.          0.          1.        ]\n",
      "   [ 2.          0.          1.        ]\n",
      "   [ 2.          0.          1.        ]\n",
      "   ...\n",
      "   [ 4.          2.          3.        ]\n",
      "   [ 2.          0.          1.        ]\n",
      "   [ 2.          0.          1.        ]]]], shape=(32, 128, 128, 3), dtype=float32)\n",
      "tf.Tensor(\n",
      "[[0. 0. 1. 0.]\n",
      " [0. 1. 0. 0.]\n",
      " [0. 0. 0. 1.]\n",
      " [0. 1. 0. 0.]\n",
      " [0. 0. 1. 0.]\n",
      " [0. 1. 0. 0.]\n",
      " [0. 0. 1. 0.]\n",
      " [0. 0. 1. 0.]\n",
      " [0. 0. 1. 0.]\n",
      " [0. 1. 0. 0.]\n",
      " [1. 0. 0. 0.]\n",
      " [0. 0. 1. 0.]\n",
      " [0. 0. 1. 0.]\n",
      " [0. 0. 1. 0.]\n",
      " [1. 0. 0. 0.]\n",
      " [0. 0. 1. 0.]\n",
      " [1. 0. 0. 0.]\n",
      " [0. 0. 1. 0.]\n",
      " [0. 0. 1. 0.]\n",
      " [0. 0. 0. 1.]\n",
      " [0. 1. 0. 0.]\n",
      " [0. 0. 1. 0.]\n",
      " [1. 0. 0. 0.]\n",
      " [0. 0. 0. 1.]\n",
      " [0. 0. 1. 0.]\n",
      " [0. 1. 0. 0.]\n",
      " [0. 0. 1. 0.]\n",
      " [0. 1. 0. 0.]\n",
      " [0. 1. 0. 0.]\n",
      " [0. 0. 1. 0.]\n",
      " [0. 1. 0. 0.]\n",
      " [0. 0. 1. 0.]], shape=(32, 4), dtype=float32)\n"
     ]
    }
   ],
   "source": [
    "for x,y in training_set:\n",
    " print(x)\n",
    " print(y)\n",
    " break"
   ]
  },
  {
   "cell_type": "markdown",
   "id": "0dd96a97-4919-40d6-9105-a9cc4a5becec",
   "metadata": {},
   "source": [
    "### To Avoid Overshooting\n",
    "1. Choose small learning rate default 0.001 we are taking 0.0001\n",
    "2. There maybe a chance of underfitting so increase the number of neurons\n",
    "3. Add more convolution layer to extract more feature from image "
   ]
  },
  {
   "cell_type": "markdown",
   "id": "04934755-2420-40ff-84d7-167cd21dd027",
   "metadata": {},
   "source": [
    "### Building Model"
   ]
  },
  {
   "cell_type": "code",
   "execution_count": 13,
   "id": "aa6db0f2-a79f-4b75-9cfb-8c63735c1010",
   "metadata": {},
   "outputs": [],
   "source": [
    "from tensorflow.keras.layers import Dense,Conv2D,MaxPool2D,Flatten,Dropout\n",
    "from tensorflow.keras.models import Sequential"
   ]
  },
  {
   "cell_type": "code",
   "execution_count": 15,
   "id": "22f22eac-d545-4d79-9fde-cdba8135064b",
   "metadata": {},
   "outputs": [],
   "source": [
    "model = Sequential()"
   ]
  },
  {
   "cell_type": "code",
   "execution_count": 16,
   "id": "4729e5e9-7f52-42c6-a69e-872bdae0dcd2",
   "metadata": {},
   "outputs": [],
   "source": [
    "## building Convolution Layer"
   ]
  },
  {
   "cell_type": "code",
   "execution_count": 17,
   "id": "1e404136-fae3-45be-a328-8e450cb21800",
   "metadata": {},
   "outputs": [
    {
     "name": "stderr",
     "output_type": "stream",
     "text": [
      "c:\\Program Files\\Python312\\Lib\\site-packages\\keras\\src\\layers\\convolutional\\base_conv.py:107: UserWarning: Do not pass an `input_shape`/`input_dim` argument to a layer. When using Sequential models, prefer using an `Input(shape)` object as the first layer in the model instead.\n",
      "  super().__init__(activity_regularizer=activity_regularizer, **kwargs)\n"
     ]
    }
   ],
   "source": [
    "model.add(Conv2D(filters=32,kernel_size=3,padding='same',activation='relu',input_shape=[128, 128, 3]))\n",
    "model.add(Conv2D(filters=32,kernel_size=3,activation='relu')) \n",
    "model.add(MaxPool2D(pool_size=2,strides=2))"
   ]
  },
  {
   "cell_type": "code",
   "execution_count": 18,
   "id": "679d60b9-2560-43c4-afbc-72714b3069f3",
   "metadata": {},
   "outputs": [],
   "source": [
    "model.add(Conv2D(filters=64,kernel_size=3,padding='same',activation='relu'))\n",
    "model.add(Conv2D(filters=64,kernel_size=3,activation='relu')) \n",
    "model.add(MaxPool2D(pool_size=2,strides=2))"
   ]
  },
  {
   "cell_type": "code",
   "execution_count": 19,
   "id": "b965afe0-5871-4c52-8f27-52f470ffe64a",
   "metadata": {},
   "outputs": [],
   "source": [
    "model.add(Conv2D(filters=128,kernel_size=3,padding='same',activation='relu'))\n",
    "model.add(Conv2D(filters=128,kernel_size=3,activation='relu')) \n",
    "model.add(MaxPool2D(pool_size=2,strides=2))"
   ]
  },
  {
   "cell_type": "code",
   "execution_count": 20,
   "id": "3808ef78-51a7-4c34-9284-734e78042016",
   "metadata": {},
   "outputs": [],
   "source": [
    "model.add(Conv2D(filters=256,kernel_size=3,padding='same',activation='relu'))\n",
    "model.add(Conv2D(filters=256,kernel_size=3,activation='relu')) \n",
    "model.add(MaxPool2D(pool_size=2,strides=2))"
   ]
  },
  {
   "cell_type": "code",
   "execution_count": 21,
   "id": "77c57760-f675-4c92-94c5-42e2678aa1a1",
   "metadata": {},
   "outputs": [],
   "source": [
    "model.add(Conv2D(filters=512,kernel_size=3,padding='same',activation='relu'))\n",
    "model.add(Conv2D(filters=512,kernel_size=3,activation='relu')) \n",
    "model.add(MaxPool2D(pool_size=2,strides=2)) "
   ]
  },
  {
   "cell_type": "code",
   "execution_count": 22,
   "id": "89afb985-6059-4613-9590-ef7fed0c927c",
   "metadata": {},
   "outputs": [],
   "source": [
    "model.add(Dropout(0.25)) # to avoid overfitting"
   ]
  },
  {
   "cell_type": "code",
   "execution_count": 23,
   "id": "06712281-cfd3-4f8a-a13a-1f534d06a573",
   "metadata": {},
   "outputs": [],
   "source": [
    "model.add(Flatten())"
   ]
  },
  {
   "cell_type": "code",
   "execution_count": 24,
   "id": "8526e1ad-4375-44ef-b518-237979f7eb72",
   "metadata": {},
   "outputs": [],
   "source": [
    "model.add(Dense(units=1500,activation='relu'))"
   ]
  },
  {
   "cell_type": "code",
   "execution_count": 25,
   "id": "b1e8f6df-3ba7-49bc-bc62-600e95d89998",
   "metadata": {},
   "outputs": [],
   "source": [
    "model.add(Dropout(0.3)) "
   ]
  },
  {
   "cell_type": "markdown",
   "id": "6992c029-138e-48d9-8f83-4a9bff18d0ec",
   "metadata": {},
   "source": [
    "## output Layer\n"
   ]
  },
  {
   "cell_type": "code",
   "execution_count": 26,
   "id": "142f16ad-01cc-4edd-afb4-8ac075c62927",
   "metadata": {},
   "outputs": [],
   "source": [
    "model.add(Dense(units=4,activation='softmax'))"
   ]
  },
  {
   "cell_type": "markdown",
   "id": "8a7cb4e2-e421-4fca-9e8c-8d2f92258947",
   "metadata": {},
   "source": [
    "## compiling Model"
   ]
  },
  {
   "cell_type": "code",
   "execution_count": 27,
   "id": "a9068929-dd6a-40b0-ab94-5bd7f8a26ae4",
   "metadata": {},
   "outputs": [],
   "source": [
    "model.compile(optimizer=tf.keras.optimizers.Adam(\n",
    "    learning_rate=0.0001), loss='categorical_crossentropy',metrics=['accuracy'])"
   ]
  },
  {
   "cell_type": "code",
   "execution_count": 29,
   "id": "08d8dfce-540d-46d7-b212-ea9e8843e9ae",
   "metadata": {},
   "outputs": [
    {
     "data": {
      "text/html": [
       "<pre style=\"white-space:pre;overflow-x:auto;line-height:normal;font-family:Menlo,'DejaVu Sans Mono',consolas,'Courier New',monospace\"><span style=\"font-weight: bold\">Model: \"sequential_1\"</span>\n",
       "</pre>\n"
      ],
      "text/plain": [
       "\u001b[1mModel: \"sequential_1\"\u001b[0m\n"
      ]
     },
     "metadata": {},
     "output_type": "display_data"
    },
    {
     "data": {
      "text/html": [
       "<pre style=\"white-space:pre;overflow-x:auto;line-height:normal;font-family:Menlo,'DejaVu Sans Mono',consolas,'Courier New',monospace\">┏━━━━━━━━━━━━━━━━━━━━━━━━━━━━━━━━━┳━━━━━━━━━━━━━━━━━━━━━━━━┳━━━━━━━━━━━━━━━┓\n",
       "┃<span style=\"font-weight: bold\"> Layer (type)                    </span>┃<span style=\"font-weight: bold\"> Output Shape           </span>┃<span style=\"font-weight: bold\">       Param # </span>┃\n",
       "┡━━━━━━━━━━━━━━━━━━━━━━━━━━━━━━━━━╇━━━━━━━━━━━━━━━━━━━━━━━━╇━━━━━━━━━━━━━━━┩\n",
       "│ conv2d (<span style=\"color: #0087ff; text-decoration-color: #0087ff\">Conv2D</span>)                 │ (<span style=\"color: #00d7ff; text-decoration-color: #00d7ff\">None</span>, <span style=\"color: #00af00; text-decoration-color: #00af00\">128</span>, <span style=\"color: #00af00; text-decoration-color: #00af00\">128</span>, <span style=\"color: #00af00; text-decoration-color: #00af00\">32</span>)   │           <span style=\"color: #00af00; text-decoration-color: #00af00\">896</span> │\n",
       "├─────────────────────────────────┼────────────────────────┼───────────────┤\n",
       "│ conv2d_1 (<span style=\"color: #0087ff; text-decoration-color: #0087ff\">Conv2D</span>)               │ (<span style=\"color: #00d7ff; text-decoration-color: #00d7ff\">None</span>, <span style=\"color: #00af00; text-decoration-color: #00af00\">126</span>, <span style=\"color: #00af00; text-decoration-color: #00af00\">126</span>, <span style=\"color: #00af00; text-decoration-color: #00af00\">32</span>)   │         <span style=\"color: #00af00; text-decoration-color: #00af00\">9,248</span> │\n",
       "├─────────────────────────────────┼────────────────────────┼───────────────┤\n",
       "│ max_pooling2d (<span style=\"color: #0087ff; text-decoration-color: #0087ff\">MaxPooling2D</span>)    │ (<span style=\"color: #00d7ff; text-decoration-color: #00d7ff\">None</span>, <span style=\"color: #00af00; text-decoration-color: #00af00\">63</span>, <span style=\"color: #00af00; text-decoration-color: #00af00\">63</span>, <span style=\"color: #00af00; text-decoration-color: #00af00\">32</span>)     │             <span style=\"color: #00af00; text-decoration-color: #00af00\">0</span> │\n",
       "├─────────────────────────────────┼────────────────────────┼───────────────┤\n",
       "│ conv2d_2 (<span style=\"color: #0087ff; text-decoration-color: #0087ff\">Conv2D</span>)               │ (<span style=\"color: #00d7ff; text-decoration-color: #00d7ff\">None</span>, <span style=\"color: #00af00; text-decoration-color: #00af00\">63</span>, <span style=\"color: #00af00; text-decoration-color: #00af00\">63</span>, <span style=\"color: #00af00; text-decoration-color: #00af00\">64</span>)     │        <span style=\"color: #00af00; text-decoration-color: #00af00\">18,496</span> │\n",
       "├─────────────────────────────────┼────────────────────────┼───────────────┤\n",
       "│ conv2d_3 (<span style=\"color: #0087ff; text-decoration-color: #0087ff\">Conv2D</span>)               │ (<span style=\"color: #00d7ff; text-decoration-color: #00d7ff\">None</span>, <span style=\"color: #00af00; text-decoration-color: #00af00\">61</span>, <span style=\"color: #00af00; text-decoration-color: #00af00\">61</span>, <span style=\"color: #00af00; text-decoration-color: #00af00\">64</span>)     │        <span style=\"color: #00af00; text-decoration-color: #00af00\">36,928</span> │\n",
       "├─────────────────────────────────┼────────────────────────┼───────────────┤\n",
       "│ max_pooling2d_1 (<span style=\"color: #0087ff; text-decoration-color: #0087ff\">MaxPooling2D</span>)  │ (<span style=\"color: #00d7ff; text-decoration-color: #00d7ff\">None</span>, <span style=\"color: #00af00; text-decoration-color: #00af00\">30</span>, <span style=\"color: #00af00; text-decoration-color: #00af00\">30</span>, <span style=\"color: #00af00; text-decoration-color: #00af00\">64</span>)     │             <span style=\"color: #00af00; text-decoration-color: #00af00\">0</span> │\n",
       "├─────────────────────────────────┼────────────────────────┼───────────────┤\n",
       "│ conv2d_4 (<span style=\"color: #0087ff; text-decoration-color: #0087ff\">Conv2D</span>)               │ (<span style=\"color: #00d7ff; text-decoration-color: #00d7ff\">None</span>, <span style=\"color: #00af00; text-decoration-color: #00af00\">30</span>, <span style=\"color: #00af00; text-decoration-color: #00af00\">30</span>, <span style=\"color: #00af00; text-decoration-color: #00af00\">128</span>)    │        <span style=\"color: #00af00; text-decoration-color: #00af00\">73,856</span> │\n",
       "├─────────────────────────────────┼────────────────────────┼───────────────┤\n",
       "│ conv2d_5 (<span style=\"color: #0087ff; text-decoration-color: #0087ff\">Conv2D</span>)               │ (<span style=\"color: #00d7ff; text-decoration-color: #00d7ff\">None</span>, <span style=\"color: #00af00; text-decoration-color: #00af00\">28</span>, <span style=\"color: #00af00; text-decoration-color: #00af00\">28</span>, <span style=\"color: #00af00; text-decoration-color: #00af00\">128</span>)    │       <span style=\"color: #00af00; text-decoration-color: #00af00\">147,584</span> │\n",
       "├─────────────────────────────────┼────────────────────────┼───────────────┤\n",
       "│ max_pooling2d_2 (<span style=\"color: #0087ff; text-decoration-color: #0087ff\">MaxPooling2D</span>)  │ (<span style=\"color: #00d7ff; text-decoration-color: #00d7ff\">None</span>, <span style=\"color: #00af00; text-decoration-color: #00af00\">14</span>, <span style=\"color: #00af00; text-decoration-color: #00af00\">14</span>, <span style=\"color: #00af00; text-decoration-color: #00af00\">128</span>)    │             <span style=\"color: #00af00; text-decoration-color: #00af00\">0</span> │\n",
       "├─────────────────────────────────┼────────────────────────┼───────────────┤\n",
       "│ conv2d_6 (<span style=\"color: #0087ff; text-decoration-color: #0087ff\">Conv2D</span>)               │ (<span style=\"color: #00d7ff; text-decoration-color: #00d7ff\">None</span>, <span style=\"color: #00af00; text-decoration-color: #00af00\">14</span>, <span style=\"color: #00af00; text-decoration-color: #00af00\">14</span>, <span style=\"color: #00af00; text-decoration-color: #00af00\">256</span>)    │       <span style=\"color: #00af00; text-decoration-color: #00af00\">295,168</span> │\n",
       "├─────────────────────────────────┼────────────────────────┼───────────────┤\n",
       "│ conv2d_7 (<span style=\"color: #0087ff; text-decoration-color: #0087ff\">Conv2D</span>)               │ (<span style=\"color: #00d7ff; text-decoration-color: #00d7ff\">None</span>, <span style=\"color: #00af00; text-decoration-color: #00af00\">12</span>, <span style=\"color: #00af00; text-decoration-color: #00af00\">12</span>, <span style=\"color: #00af00; text-decoration-color: #00af00\">256</span>)    │       <span style=\"color: #00af00; text-decoration-color: #00af00\">590,080</span> │\n",
       "├─────────────────────────────────┼────────────────────────┼───────────────┤\n",
       "│ max_pooling2d_3 (<span style=\"color: #0087ff; text-decoration-color: #0087ff\">MaxPooling2D</span>)  │ (<span style=\"color: #00d7ff; text-decoration-color: #00d7ff\">None</span>, <span style=\"color: #00af00; text-decoration-color: #00af00\">6</span>, <span style=\"color: #00af00; text-decoration-color: #00af00\">6</span>, <span style=\"color: #00af00; text-decoration-color: #00af00\">256</span>)      │             <span style=\"color: #00af00; text-decoration-color: #00af00\">0</span> │\n",
       "├─────────────────────────────────┼────────────────────────┼───────────────┤\n",
       "│ conv2d_8 (<span style=\"color: #0087ff; text-decoration-color: #0087ff\">Conv2D</span>)               │ (<span style=\"color: #00d7ff; text-decoration-color: #00d7ff\">None</span>, <span style=\"color: #00af00; text-decoration-color: #00af00\">6</span>, <span style=\"color: #00af00; text-decoration-color: #00af00\">6</span>, <span style=\"color: #00af00; text-decoration-color: #00af00\">512</span>)      │     <span style=\"color: #00af00; text-decoration-color: #00af00\">1,180,160</span> │\n",
       "├─────────────────────────────────┼────────────────────────┼───────────────┤\n",
       "│ conv2d_9 (<span style=\"color: #0087ff; text-decoration-color: #0087ff\">Conv2D</span>)               │ (<span style=\"color: #00d7ff; text-decoration-color: #00d7ff\">None</span>, <span style=\"color: #00af00; text-decoration-color: #00af00\">4</span>, <span style=\"color: #00af00; text-decoration-color: #00af00\">4</span>, <span style=\"color: #00af00; text-decoration-color: #00af00\">512</span>)      │     <span style=\"color: #00af00; text-decoration-color: #00af00\">2,359,808</span> │\n",
       "├─────────────────────────────────┼────────────────────────┼───────────────┤\n",
       "│ max_pooling2d_4 (<span style=\"color: #0087ff; text-decoration-color: #0087ff\">MaxPooling2D</span>)  │ (<span style=\"color: #00d7ff; text-decoration-color: #00d7ff\">None</span>, <span style=\"color: #00af00; text-decoration-color: #00af00\">2</span>, <span style=\"color: #00af00; text-decoration-color: #00af00\">2</span>, <span style=\"color: #00af00; text-decoration-color: #00af00\">512</span>)      │             <span style=\"color: #00af00; text-decoration-color: #00af00\">0</span> │\n",
       "├─────────────────────────────────┼────────────────────────┼───────────────┤\n",
       "│ dropout (<span style=\"color: #0087ff; text-decoration-color: #0087ff\">Dropout</span>)               │ (<span style=\"color: #00d7ff; text-decoration-color: #00d7ff\">None</span>, <span style=\"color: #00af00; text-decoration-color: #00af00\">2</span>, <span style=\"color: #00af00; text-decoration-color: #00af00\">2</span>, <span style=\"color: #00af00; text-decoration-color: #00af00\">512</span>)      │             <span style=\"color: #00af00; text-decoration-color: #00af00\">0</span> │\n",
       "├─────────────────────────────────┼────────────────────────┼───────────────┤\n",
       "│ flatten (<span style=\"color: #0087ff; text-decoration-color: #0087ff\">Flatten</span>)               │ (<span style=\"color: #00d7ff; text-decoration-color: #00d7ff\">None</span>, <span style=\"color: #00af00; text-decoration-color: #00af00\">2048</span>)           │             <span style=\"color: #00af00; text-decoration-color: #00af00\">0</span> │\n",
       "├─────────────────────────────────┼────────────────────────┼───────────────┤\n",
       "│ dense (<span style=\"color: #0087ff; text-decoration-color: #0087ff\">Dense</span>)                   │ (<span style=\"color: #00d7ff; text-decoration-color: #00d7ff\">None</span>, <span style=\"color: #00af00; text-decoration-color: #00af00\">1500</span>)           │     <span style=\"color: #00af00; text-decoration-color: #00af00\">3,073,500</span> │\n",
       "├─────────────────────────────────┼────────────────────────┼───────────────┤\n",
       "│ dropout_1 (<span style=\"color: #0087ff; text-decoration-color: #0087ff\">Dropout</span>)             │ (<span style=\"color: #00d7ff; text-decoration-color: #00d7ff\">None</span>, <span style=\"color: #00af00; text-decoration-color: #00af00\">1500</span>)           │             <span style=\"color: #00af00; text-decoration-color: #00af00\">0</span> │\n",
       "├─────────────────────────────────┼────────────────────────┼───────────────┤\n",
       "│ dense_1 (<span style=\"color: #0087ff; text-decoration-color: #0087ff\">Dense</span>)                 │ (<span style=\"color: #00d7ff; text-decoration-color: #00d7ff\">None</span>, <span style=\"color: #00af00; text-decoration-color: #00af00\">4</span>)              │         <span style=\"color: #00af00; text-decoration-color: #00af00\">6,004</span> │\n",
       "└─────────────────────────────────┴────────────────────────┴───────────────┘\n",
       "</pre>\n"
      ],
      "text/plain": [
       "┏━━━━━━━━━━━━━━━━━━━━━━━━━━━━━━━━━┳━━━━━━━━━━━━━━━━━━━━━━━━┳━━━━━━━━━━━━━━━┓\n",
       "┃\u001b[1m \u001b[0m\u001b[1mLayer (type)                   \u001b[0m\u001b[1m \u001b[0m┃\u001b[1m \u001b[0m\u001b[1mOutput Shape          \u001b[0m\u001b[1m \u001b[0m┃\u001b[1m \u001b[0m\u001b[1m      Param #\u001b[0m\u001b[1m \u001b[0m┃\n",
       "┡━━━━━━━━━━━━━━━━━━━━━━━━━━━━━━━━━╇━━━━━━━━━━━━━━━━━━━━━━━━╇━━━━━━━━━━━━━━━┩\n",
       "│ conv2d (\u001b[38;5;33mConv2D\u001b[0m)                 │ (\u001b[38;5;45mNone\u001b[0m, \u001b[38;5;34m128\u001b[0m, \u001b[38;5;34m128\u001b[0m, \u001b[38;5;34m32\u001b[0m)   │           \u001b[38;5;34m896\u001b[0m │\n",
       "├─────────────────────────────────┼────────────────────────┼───────────────┤\n",
       "│ conv2d_1 (\u001b[38;5;33mConv2D\u001b[0m)               │ (\u001b[38;5;45mNone\u001b[0m, \u001b[38;5;34m126\u001b[0m, \u001b[38;5;34m126\u001b[0m, \u001b[38;5;34m32\u001b[0m)   │         \u001b[38;5;34m9,248\u001b[0m │\n",
       "├─────────────────────────────────┼────────────────────────┼───────────────┤\n",
       "│ max_pooling2d (\u001b[38;5;33mMaxPooling2D\u001b[0m)    │ (\u001b[38;5;45mNone\u001b[0m, \u001b[38;5;34m63\u001b[0m, \u001b[38;5;34m63\u001b[0m, \u001b[38;5;34m32\u001b[0m)     │             \u001b[38;5;34m0\u001b[0m │\n",
       "├─────────────────────────────────┼────────────────────────┼───────────────┤\n",
       "│ conv2d_2 (\u001b[38;5;33mConv2D\u001b[0m)               │ (\u001b[38;5;45mNone\u001b[0m, \u001b[38;5;34m63\u001b[0m, \u001b[38;5;34m63\u001b[0m, \u001b[38;5;34m64\u001b[0m)     │        \u001b[38;5;34m18,496\u001b[0m │\n",
       "├─────────────────────────────────┼────────────────────────┼───────────────┤\n",
       "│ conv2d_3 (\u001b[38;5;33mConv2D\u001b[0m)               │ (\u001b[38;5;45mNone\u001b[0m, \u001b[38;5;34m61\u001b[0m, \u001b[38;5;34m61\u001b[0m, \u001b[38;5;34m64\u001b[0m)     │        \u001b[38;5;34m36,928\u001b[0m │\n",
       "├─────────────────────────────────┼────────────────────────┼───────────────┤\n",
       "│ max_pooling2d_1 (\u001b[38;5;33mMaxPooling2D\u001b[0m)  │ (\u001b[38;5;45mNone\u001b[0m, \u001b[38;5;34m30\u001b[0m, \u001b[38;5;34m30\u001b[0m, \u001b[38;5;34m64\u001b[0m)     │             \u001b[38;5;34m0\u001b[0m │\n",
       "├─────────────────────────────────┼────────────────────────┼───────────────┤\n",
       "│ conv2d_4 (\u001b[38;5;33mConv2D\u001b[0m)               │ (\u001b[38;5;45mNone\u001b[0m, \u001b[38;5;34m30\u001b[0m, \u001b[38;5;34m30\u001b[0m, \u001b[38;5;34m128\u001b[0m)    │        \u001b[38;5;34m73,856\u001b[0m │\n",
       "├─────────────────────────────────┼────────────────────────┼───────────────┤\n",
       "│ conv2d_5 (\u001b[38;5;33mConv2D\u001b[0m)               │ (\u001b[38;5;45mNone\u001b[0m, \u001b[38;5;34m28\u001b[0m, \u001b[38;5;34m28\u001b[0m, \u001b[38;5;34m128\u001b[0m)    │       \u001b[38;5;34m147,584\u001b[0m │\n",
       "├─────────────────────────────────┼────────────────────────┼───────────────┤\n",
       "│ max_pooling2d_2 (\u001b[38;5;33mMaxPooling2D\u001b[0m)  │ (\u001b[38;5;45mNone\u001b[0m, \u001b[38;5;34m14\u001b[0m, \u001b[38;5;34m14\u001b[0m, \u001b[38;5;34m128\u001b[0m)    │             \u001b[38;5;34m0\u001b[0m │\n",
       "├─────────────────────────────────┼────────────────────────┼───────────────┤\n",
       "│ conv2d_6 (\u001b[38;5;33mConv2D\u001b[0m)               │ (\u001b[38;5;45mNone\u001b[0m, \u001b[38;5;34m14\u001b[0m, \u001b[38;5;34m14\u001b[0m, \u001b[38;5;34m256\u001b[0m)    │       \u001b[38;5;34m295,168\u001b[0m │\n",
       "├─────────────────────────────────┼────────────────────────┼───────────────┤\n",
       "│ conv2d_7 (\u001b[38;5;33mConv2D\u001b[0m)               │ (\u001b[38;5;45mNone\u001b[0m, \u001b[38;5;34m12\u001b[0m, \u001b[38;5;34m12\u001b[0m, \u001b[38;5;34m256\u001b[0m)    │       \u001b[38;5;34m590,080\u001b[0m │\n",
       "├─────────────────────────────────┼────────────────────────┼───────────────┤\n",
       "│ max_pooling2d_3 (\u001b[38;5;33mMaxPooling2D\u001b[0m)  │ (\u001b[38;5;45mNone\u001b[0m, \u001b[38;5;34m6\u001b[0m, \u001b[38;5;34m6\u001b[0m, \u001b[38;5;34m256\u001b[0m)      │             \u001b[38;5;34m0\u001b[0m │\n",
       "├─────────────────────────────────┼────────────────────────┼───────────────┤\n",
       "│ conv2d_8 (\u001b[38;5;33mConv2D\u001b[0m)               │ (\u001b[38;5;45mNone\u001b[0m, \u001b[38;5;34m6\u001b[0m, \u001b[38;5;34m6\u001b[0m, \u001b[38;5;34m512\u001b[0m)      │     \u001b[38;5;34m1,180,160\u001b[0m │\n",
       "├─────────────────────────────────┼────────────────────────┼───────────────┤\n",
       "│ conv2d_9 (\u001b[38;5;33mConv2D\u001b[0m)               │ (\u001b[38;5;45mNone\u001b[0m, \u001b[38;5;34m4\u001b[0m, \u001b[38;5;34m4\u001b[0m, \u001b[38;5;34m512\u001b[0m)      │     \u001b[38;5;34m2,359,808\u001b[0m │\n",
       "├─────────────────────────────────┼────────────────────────┼───────────────┤\n",
       "│ max_pooling2d_4 (\u001b[38;5;33mMaxPooling2D\u001b[0m)  │ (\u001b[38;5;45mNone\u001b[0m, \u001b[38;5;34m2\u001b[0m, \u001b[38;5;34m2\u001b[0m, \u001b[38;5;34m512\u001b[0m)      │             \u001b[38;5;34m0\u001b[0m │\n",
       "├─────────────────────────────────┼────────────────────────┼───────────────┤\n",
       "│ dropout (\u001b[38;5;33mDropout\u001b[0m)               │ (\u001b[38;5;45mNone\u001b[0m, \u001b[38;5;34m2\u001b[0m, \u001b[38;5;34m2\u001b[0m, \u001b[38;5;34m512\u001b[0m)      │             \u001b[38;5;34m0\u001b[0m │\n",
       "├─────────────────────────────────┼────────────────────────┼───────────────┤\n",
       "│ flatten (\u001b[38;5;33mFlatten\u001b[0m)               │ (\u001b[38;5;45mNone\u001b[0m, \u001b[38;5;34m2048\u001b[0m)           │             \u001b[38;5;34m0\u001b[0m │\n",
       "├─────────────────────────────────┼────────────────────────┼───────────────┤\n",
       "│ dense (\u001b[38;5;33mDense\u001b[0m)                   │ (\u001b[38;5;45mNone\u001b[0m, \u001b[38;5;34m1500\u001b[0m)           │     \u001b[38;5;34m3,073,500\u001b[0m │\n",
       "├─────────────────────────────────┼────────────────────────┼───────────────┤\n",
       "│ dropout_1 (\u001b[38;5;33mDropout\u001b[0m)             │ (\u001b[38;5;45mNone\u001b[0m, \u001b[38;5;34m1500\u001b[0m)           │             \u001b[38;5;34m0\u001b[0m │\n",
       "├─────────────────────────────────┼────────────────────────┼───────────────┤\n",
       "│ dense_1 (\u001b[38;5;33mDense\u001b[0m)                 │ (\u001b[38;5;45mNone\u001b[0m, \u001b[38;5;34m4\u001b[0m)              │         \u001b[38;5;34m6,004\u001b[0m │\n",
       "└─────────────────────────────────┴────────────────────────┴───────────────┘\n"
      ]
     },
     "metadata": {},
     "output_type": "display_data"
    },
    {
     "data": {
      "text/html": [
       "<pre style=\"white-space:pre;overflow-x:auto;line-height:normal;font-family:Menlo,'DejaVu Sans Mono',consolas,'Courier New',monospace\"><span style=\"font-weight: bold\"> Total params: </span><span style=\"color: #00af00; text-decoration-color: #00af00\">7,791,728</span> (29.72 MB)\n",
       "</pre>\n"
      ],
      "text/plain": [
       "\u001b[1m Total params: \u001b[0m\u001b[38;5;34m7,791,728\u001b[0m (29.72 MB)\n"
      ]
     },
     "metadata": {},
     "output_type": "display_data"
    },
    {
     "data": {
      "text/html": [
       "<pre style=\"white-space:pre;overflow-x:auto;line-height:normal;font-family:Menlo,'DejaVu Sans Mono',consolas,'Courier New',monospace\"><span style=\"font-weight: bold\"> Trainable params: </span><span style=\"color: #00af00; text-decoration-color: #00af00\">7,791,728</span> (29.72 MB)\n",
       "</pre>\n"
      ],
      "text/plain": [
       "\u001b[1m Trainable params: \u001b[0m\u001b[38;5;34m7,791,728\u001b[0m (29.72 MB)\n"
      ]
     },
     "metadata": {},
     "output_type": "display_data"
    },
    {
     "data": {
      "text/html": [
       "<pre style=\"white-space:pre;overflow-x:auto;line-height:normal;font-family:Menlo,'DejaVu Sans Mono',consolas,'Courier New',monospace\"><span style=\"font-weight: bold\"> Non-trainable params: </span><span style=\"color: #00af00; text-decoration-color: #00af00\">0</span> (0.00 B)\n",
       "</pre>\n"
      ],
      "text/plain": [
       "\u001b[1m Non-trainable params: \u001b[0m\u001b[38;5;34m0\u001b[0m (0.00 B)\n"
      ]
     },
     "metadata": {},
     "output_type": "display_data"
    }
   ],
   "source": [
    "model.summary()"
   ]
  },
  {
   "cell_type": "markdown",
   "id": "ee25ac9e-9169-4666-aacd-3a0ff6614ed4",
   "metadata": {},
   "source": [
    "## Model Training"
   ]
  },
  {
   "cell_type": "code",
   "execution_count": 31,
   "id": "fcb5f1ee-b998-4189-81f0-1e70c7d7297d",
   "metadata": {},
   "outputs": [
    {
     "name": "stdout",
     "output_type": "stream",
     "text": [
      "Epoch 1/10\n",
      "\u001b[1m3/3\u001b[0m \u001b[32m━━━━━━━━━━━━━━━━━━━━\u001b[0m\u001b[37m\u001b[0m \u001b[1m10s\u001b[0m 4s/step - accuracy: 0.7146 - loss: 0.7776 - val_accuracy: 0.7579 - val_loss: 0.6925\n",
      "Epoch 2/10\n",
      "\u001b[1m3/3\u001b[0m \u001b[32m━━━━━━━━━━━━━━━━━━━━\u001b[0m\u001b[37m\u001b[0m \u001b[1m13s\u001b[0m 5s/step - accuracy: 0.7407 - loss: 0.7056 - val_accuracy: 0.7474 - val_loss: 0.6378\n",
      "Epoch 3/10\n",
      "\u001b[1m3/3\u001b[0m \u001b[32m━━━━━━━━━━━━━━━━━━━━\u001b[0m\u001b[37m\u001b[0m \u001b[1m11s\u001b[0m 4s/step - accuracy: 0.5931 - loss: 0.8373 - val_accuracy: 0.7579 - val_loss: 0.5943\n",
      "Epoch 4/10\n",
      "\u001b[1m3/3\u001b[0m \u001b[32m━━━━━━━━━━━━━━━━━━━━\u001b[0m\u001b[37m\u001b[0m \u001b[1m11s\u001b[0m 4s/step - accuracy: 0.7122 - loss: 0.6287 - val_accuracy: 0.8105 - val_loss: 0.5523\n",
      "Epoch 5/10\n",
      "\u001b[1m3/3\u001b[0m \u001b[32m━━━━━━━━━━━━━━━━━━━━\u001b[0m\u001b[37m\u001b[0m \u001b[1m11s\u001b[0m 4s/step - accuracy: 0.7645 - loss: 0.7070 - val_accuracy: 0.8000 - val_loss: 0.5197\n",
      "Epoch 6/10\n",
      "\u001b[1m3/3\u001b[0m \u001b[32m━━━━━━━━━━━━━━━━━━━━\u001b[0m\u001b[37m\u001b[0m \u001b[1m11s\u001b[0m 4s/step - accuracy: 0.7893 - loss: 0.5498 - val_accuracy: 0.8526 - val_loss: 0.4517\n",
      "Epoch 7/10\n",
      "\u001b[1m3/3\u001b[0m \u001b[32m━━━━━━━━━━━━━━━━━━━━\u001b[0m\u001b[37m\u001b[0m \u001b[1m12s\u001b[0m 4s/step - accuracy: 0.7996 - loss: 0.4830 - val_accuracy: 0.8632 - val_loss: 0.3973\n",
      "Epoch 8/10\n",
      "\u001b[1m3/3\u001b[0m \u001b[32m━━━━━━━━━━━━━━━━━━━━\u001b[0m\u001b[37m\u001b[0m \u001b[1m11s\u001b[0m 4s/step - accuracy: 0.8441 - loss: 0.4560 - val_accuracy: 0.8632 - val_loss: 0.3714\n",
      "Epoch 9/10\n",
      "\u001b[1m3/3\u001b[0m \u001b[32m━━━━━━━━━━━━━━━━━━━━\u001b[0m\u001b[37m\u001b[0m \u001b[1m11s\u001b[0m 4s/step - accuracy: 0.8613 - loss: 0.3758 - val_accuracy: 0.8421 - val_loss: 0.3511\n",
      "Epoch 10/10\n",
      "\u001b[1m3/3\u001b[0m \u001b[32m━━━━━━━━━━━━━━━━━━━━\u001b[0m\u001b[37m\u001b[0m \u001b[1m11s\u001b[0m 4s/step - accuracy: 0.8154 - loss: 0.4044 - val_accuracy: 0.8842 - val_loss: 0.2991\n"
     ]
    }
   ],
   "source": [
    "training_history = model.fit(x=training_set,validation_data=validation_set,epochs=10)"
   ]
  },
  {
   "cell_type": "code",
   "execution_count": null,
   "id": "93c21662-a360-4832-94ab-d6a7010696c2",
   "metadata": {},
   "outputs": [],
   "source": []
  },
  {
   "cell_type": "markdown",
   "id": "34170976-8b86-4800-a706-8ef4beba4a8f",
   "metadata": {},
   "source": [
    "### Model Evaluation"
   ]
  },
  {
   "cell_type": "markdown",
   "id": "34a18a3d-fca1-4917-a7d5-ac189b601d0f",
   "metadata": {},
   "source": [
    "### Model Evaluation on training set"
   ]
  },
  {
   "cell_type": "code",
   "execution_count": 32,
   "id": "7e6d58e0-4b41-4222-9d44-3232d26a2c37",
   "metadata": {},
   "outputs": [
    {
     "name": "stdout",
     "output_type": "stream",
     "text": [
      "\u001b[1m3/3\u001b[0m \u001b[32m━━━━━━━━━━━━━━━━━━━━\u001b[0m\u001b[37m\u001b[0m \u001b[1m3s\u001b[0m 786ms/step - accuracy: 0.8991 - loss: 0.2717\n"
     ]
    }
   ],
   "source": [
    "train_loss,train_acc = model.evaluate(training_set)"
   ]
  },
  {
   "cell_type": "code",
   "execution_count": 33,
   "id": "1d040513-4e9c-42ba-a540-d28fba0044ce",
   "metadata": {},
   "outputs": [
    {
     "name": "stdout",
     "output_type": "stream",
     "text": [
      "0.2990724742412567 0.8842105269432068\n"
     ]
    }
   ],
   "source": [
    "print(train_loss,train_acc)"
   ]
  },
  {
   "cell_type": "code",
   "execution_count": 34,
   "id": "1b07702b-d909-4ed9-80ab-2039a0731726",
   "metadata": {},
   "outputs": [
    {
     "name": "stdout",
     "output_type": "stream",
     "text": [
      "\u001b[1m3/3\u001b[0m \u001b[32m━━━━━━━━━━━━━━━━━━━━\u001b[0m\u001b[37m\u001b[0m \u001b[1m2s\u001b[0m 758ms/step - accuracy: 0.8757 - loss: 0.3216\n"
     ]
    }
   ],
   "source": [
    "val_loss,val_acc = model.evaluate(validation_set)"
   ]
  },
  {
   "cell_type": "code",
   "execution_count": 35,
   "id": "78c5a27d-9132-4095-9ade-4bacf74e9ef7",
   "metadata": {},
   "outputs": [
    {
     "name": "stdout",
     "output_type": "stream",
     "text": [
      "0.2990724742412567 0.8842105269432068\n"
     ]
    }
   ],
   "source": [
    "print(val_loss,val_acc)"
   ]
  },
  {
   "cell_type": "code",
   "execution_count": null,
   "id": "fded5163-e41c-4970-85f7-a7611ef8e464",
   "metadata": {},
   "outputs": [],
   "source": []
  },
  {
   "cell_type": "markdown",
   "id": "a183b1cd-a161-4669-96b0-2a07b5e57dc2",
   "metadata": {
    "jp-MarkdownHeadingCollapsed": true
   },
   "source": [
    "### Saving Model"
   ]
  },
  {
   "cell_type": "code",
   "execution_count": 36,
   "id": "a3571487-2446-425b-bbef-baee06dab52b",
   "metadata": {},
   "outputs": [],
   "source": [
    "model.save(\"trained_model.keras\")"
   ]
  },
  {
   "cell_type": "code",
   "execution_count": 38,
   "id": "f91d1e32-5f33-4f54-9480-11be6448ec11",
   "metadata": {
    "scrolled": true
   },
   "outputs": [
    {
     "data": {
      "text/plain": [
       "[0.75789475440979,\n",
       " 0.7473683953285217,\n",
       " 0.75789475440979,\n",
       " 0.8105263113975525,\n",
       " 0.800000011920929,\n",
       " 0.8526315689086914,\n",
       " 0.8631578683853149,\n",
       " 0.8631578683853149,\n",
       " 0.8421052694320679,\n",
       " 0.8842105269432068]"
      ]
     },
     "execution_count": 38,
     "metadata": {},
     "output_type": "execute_result"
    }
   ],
   "source": [
    "training_history.history['val_accuracy']"
   ]
  },
  {
   "cell_type": "code",
   "execution_count": 39,
   "id": "ca5d7974-44af-468e-bd93-1f98cf23d7d8",
   "metadata": {},
   "outputs": [],
   "source": [
    "### Recording History in json\n",
    "import json\n",
    "with open(\"training_hist.json\",\"w\") as f:\n",
    "     json.dump(training_history.history,f)"
   ]
  },
  {
   "cell_type": "code",
   "execution_count": null,
   "id": "d11470a1-379c-46f8-8a89-a6cdd7e3b293",
   "metadata": {},
   "outputs": [],
   "source": []
  },
  {
   "cell_type": "markdown",
   "id": "daf37d55-3185-48b6-925e-b740fc9af61c",
   "metadata": {},
   "source": [
    "### Accuracy Visualization"
   ]
  },
  {
   "cell_type": "code",
   "execution_count": 33,
   "id": "21059fdf-ad3a-4464-9b53-a4650833b9f7",
   "metadata": {},
   "outputs": [
    {
     "data": {
      "image/png": "[encoded data removed]",
      "text/plain": [
       "<Figure size 640x480 with 1 Axes>"
      ]
     },
     "metadata": {},
     "output_type": "display_data"
    }
   ],
   "source": [
    "epochs = [i for i in range(1,11)]\n",
    "plt.plot(epochs,training_history.history['accuracy'],color='red',label='training Accuracy')\n",
    "plt.plot(epochs,training_history.history['val_accuracy'],color='blue',label='validation Accuracy')\n",
    "plt.xlabel(\"No. of epochs\")\n",
    "plt.ylabel(\"Accuracy Result\")\n",
    "plt.title(\"Visualization of Accuracy Result\")\n",
    "plt.legend()\n",
    "plt.show()"
   ]
  },
  {
   "cell_type": "code",
   "execution_count": null,
   "id": "383f5bb0-ce6d-4450-a80a-d3068a800276",
   "metadata": {},
   "outputs": [],
   "source": []
  },
  {
   "cell_type": "markdown",
   "id": "62dc8182-5464-40c2-9e0b-f11a5b9a46ea",
   "metadata": {},
   "source": [
    "### Some other metric for model evaluation"
   ]
  },
  {
   "cell_type": "code",
   "execution_count": 40,
   "id": "280f3dc8-e33e-4f49-a972-14e3b26c47f5",
   "metadata": {},
   "outputs": [
    {
     "data": {
      "text/plain": [
       "['Egg_Class B', 'Egg_Fresh Class A', 'Egg_Fresh Class AA', 'Egg_stale']"
      ]
     },
     "execution_count": 40,
     "metadata": {},
     "output_type": "execute_result"
    }
   ],
   "source": [
    "class_name = validation_set.class_names\n",
    "class_name"
   ]
  },
  {
   "cell_type": "code",
   "execution_count": null,
   "id": "10cc2001-16c6-4b71-9fb7-930d07dd7176",
   "metadata": {},
   "outputs": [],
   "source": []
  },
  {
   "cell_type": "code",
   "execution_count": 41,
   "id": "65a2d179-f58c-463a-bfab-9132a34d1d70",
   "metadata": {},
   "outputs": [
    {
     "name": "stdout",
     "output_type": "stream",
     "text": [
      "Found 95 files belonging to 4 classes.\n"
     ]
    }
   ],
   "source": [
    "test_set = tf.keras.utils.image_dataset_from_directory(\n",
    "    'valid',\n",
    "    labels=\"inferred\",\n",
    "    label_mode=\"categorical\",\n",
    "    class_names=None,\n",
    "    color_mode=\"rgb\",\n",
    "    batch_size=32,\n",
    "    image_size=(128, 128),\n",
    "    shuffle=False,\n",
    "    seed=None,\n",
    "    validation_split=None,\n",
    "    subset=None,\n",
    "    interpolation=\"bilinear\",\n",
    "    follow_links=False,\n",
    "    crop_to_aspect_ratio=False, \n",
    ")"
   ]
  },
  {
   "cell_type": "code",
   "execution_count": 42,
   "id": "740b7f8f-062a-4d1b-9cc9-f354762a878c",
   "metadata": {
    "scrolled": true
   },
   "outputs": [
    {
     "name": "stdout",
     "output_type": "stream",
     "text": [
      "\u001b[1m3/3\u001b[0m \u001b[32m━━━━━━━━━━━━━━━━━━━━\u001b[0m\u001b[37m\u001b[0m \u001b[1m2s\u001b[0m 658ms/step\n"
     ]
    },
    {
     "data": {
      "text/plain": [
       "(array([[5.10168433e-01, 2.58852452e-01, 2.23538265e-01, 7.44085200e-03],\n",
       "        [8.74551237e-01, 2.55161989e-02, 3.90542741e-03, 9.60272104e-02],\n",
       "        [5.37396193e-01, 2.81525373e-01, 1.26138553e-01, 5.49399145e-02],\n",
       "        [7.05622435e-01, 1.02478657e-02, 2.34847173e-01, 4.92825955e-02],\n",
       "        [9.81127620e-01, 4.84293327e-03, 1.38530636e-03, 1.26441633e-02],\n",
       "        [5.68765938e-01, 1.50726531e-02, 3.96050304e-01, 2.01110877e-02],\n",
       "        [8.15737605e-01, 8.03703144e-02, 8.47109705e-02, 1.91811509e-02],\n",
       "        [4.93840337e-01, 4.98666644e-01, 3.53367208e-03, 3.95939359e-03],\n",
       "        [4.93840337e-01, 4.98666644e-01, 3.53367208e-03, 3.95939359e-03],\n",
       "        [6.68294072e-01, 3.26355785e-01, 4.24310332e-04, 4.92576230e-03],\n",
       "        [9.49108720e-01, 1.14739584e-02, 1.27041421e-03, 3.81469801e-02],\n",
       "        [3.88539284e-01, 1.74569428e-01, 1.31189600e-01, 3.05701733e-01],\n",
       "        [9.91870165e-01, 4.82516596e-03, 8.11930629e-04, 2.49272189e-03],\n",
       "        [4.93840337e-01, 4.98666644e-01, 3.53367208e-03, 3.95939359e-03],\n",
       "        [2.45488048e-01, 3.12868357e-02, 7.22072721e-01, 1.15244521e-03],\n",
       "        [9.99859452e-01, 9.58735109e-05, 6.46401134e-07, 4.40885888e-05],\n",
       "        [8.15737605e-01, 8.03703144e-02, 8.47109705e-02, 1.91811509e-02],\n",
       "        [6.68294072e-01, 3.26355785e-01, 4.24310332e-04, 4.92576230e-03],\n",
       "        [9.91870165e-01, 4.82516596e-03, 8.11930629e-04, 2.49272189e-03],\n",
       "        [3.86865109e-01, 1.15993015e-01, 2.23357871e-01, 2.73783952e-01],\n",
       "        [5.37396193e-01, 2.81525373e-01, 1.26138553e-01, 5.49399145e-02],\n",
       "        [1.74645737e-01, 2.72027880e-01, 8.70490372e-02, 4.66277331e-01],\n",
       "        [7.57911336e-03, 9.66757298e-01, 2.42299512e-02, 1.43363024e-03],\n",
       "        [6.54790876e-03, 9.83612657e-01, 9.57764313e-03, 2.61671055e-04],\n",
       "        [1.19966604e-02, 6.79236948e-01, 2.91288823e-01, 1.74776129e-02],\n",
       "        [1.19966604e-02, 6.79236948e-01, 2.91288823e-01, 1.74776129e-02],\n",
       "        [2.07150206e-02, 6.86729848e-01, 2.22779319e-01, 6.97757974e-02],\n",
       "        [7.12182522e-02, 3.48016798e-01, 2.10623249e-01, 3.70141774e-01],\n",
       "        [1.19966604e-02, 6.79236948e-01, 2.91288823e-01, 1.74776129e-02],\n",
       "        [1.19966604e-02, 6.79236948e-01, 2.91288823e-01, 1.74776129e-02],\n",
       "        [2.57516295e-01, 4.94875401e-01, 2.45208099e-01, 2.40019988e-03],\n",
       "        [2.99460418e-03, 9.80000913e-01, 1.66588202e-02, 3.45698674e-04],\n",
       "        [6.68294072e-01, 3.26355785e-01, 4.24310332e-04, 4.92576230e-03],\n",
       "        [6.54790876e-03, 9.83612657e-01, 9.57764313e-03, 2.61671055e-04],\n",
       "        [1.38228643e-03, 9.93133366e-01, 3.59450903e-04, 5.12495311e-03],\n",
       "        [1.33454883e-02, 9.82354522e-01, 1.15357258e-03, 3.14640277e-03],\n",
       "        [4.93840337e-01, 4.98666644e-01, 3.53367208e-03, 3.95939359e-03],\n",
       "        [4.93840337e-01, 4.98666644e-01, 3.53367208e-03, 3.95939359e-03],\n",
       "        [2.16459185e-01, 6.95644438e-01, 8.64121765e-02, 1.48415647e-03],\n",
       "        [1.44989878e-01, 5.09277344e-01, 9.46583748e-02, 2.51074404e-01],\n",
       "        [4.68105776e-03, 9.55748439e-01, 2.64328960e-02, 1.31376619e-02],\n",
       "        [4.68105776e-03, 9.55748439e-01, 2.64328960e-02, 1.31376619e-02],\n",
       "        [1.27495706e-01, 1.60126194e-01, 6.87771142e-01, 2.46068966e-02],\n",
       "        [3.72602604e-02, 2.67476812e-02, 9.10017610e-01, 2.59743836e-02],\n",
       "        [1.83553007e-02, 3.06635886e-01, 6.31240129e-01, 4.37686928e-02],\n",
       "        [2.48380169e-01, 1.61335245e-01, 4.62353915e-01, 1.27930686e-01],\n",
       "        [2.44625315e-01, 3.13705914e-02, 7.22847104e-01, 1.15700078e-03],\n",
       "        [5.55411577e-01, 1.45408744e-02, 4.08561736e-01, 2.14857534e-02],\n",
       "        [1.03707664e-01, 3.09121367e-02, 8.62689853e-01, 2.69032712e-03],\n",
       "        [1.41764246e-02, 2.44597555e-03, 9.82271552e-01, 1.10600691e-03],\n",
       "        [1.06093260e-02, 4.46233433e-03, 9.78555799e-01, 6.37248857e-03],\n",
       "        [2.30490901e-02, 3.64927924e-03, 9.71423924e-01, 1.87779660e-03],\n",
       "        [3.58148180e-02, 1.30723333e-02, 9.43168223e-01, 7.94463512e-03],\n",
       "        [3.11990604e-02, 7.66098080e-03, 9.58029211e-01, 3.11078271e-03],\n",
       "        [6.20592758e-03, 2.02546874e-03, 9.91340458e-01, 4.28167317e-04],\n",
       "        [8.79286323e-03, 2.06570840e-03, 9.88419771e-01, 7.21668999e-04],\n",
       "        [1.83437094e-02, 1.21110668e-02, 9.59095061e-01, 1.04501201e-02],\n",
       "        [1.39389525e-03, 3.63879139e-03, 9.94832039e-01, 1.35202965e-04],\n",
       "        [1.48832239e-02, 2.97635933e-03, 9.70806181e-01, 1.13342879e-02],\n",
       "        [1.50862467e-02, 3.99070606e-03, 9.78803933e-01, 2.11916282e-03],\n",
       "        [7.08889496e-03, 2.26270873e-03, 9.89680588e-01, 9.67840781e-04],\n",
       "        [1.57223514e-03, 2.17388151e-03, 9.95880485e-01, 3.73427378e-04],\n",
       "        [1.69059681e-03, 3.10804276e-03, 9.94870663e-01, 3.30643961e-04],\n",
       "        [1.19966604e-02, 6.79236948e-01, 2.91288823e-01, 1.74776167e-02],\n",
       "        [4.40965518e-02, 2.05907710e-02, 9.33811605e-01, 1.50108081e-03],\n",
       "        [1.19132146e-01, 6.44069165e-02, 8.15550625e-01, 9.10260540e-04],\n",
       "        [1.19767208e-02, 7.33894715e-03, 9.74998236e-01, 5.68616530e-03],\n",
       "        [3.78468595e-02, 6.99876342e-03, 9.53883290e-01, 1.27105857e-03],\n",
       "        [3.92981060e-02, 1.04653835e-02, 9.48966444e-01, 1.27000886e-03],\n",
       "        [4.40965518e-02, 2.05907710e-02, 9.33811605e-01, 1.50108081e-03],\n",
       "        [2.28147767e-02, 7.94084929e-03, 9.65375721e-01, 3.86866834e-03],\n",
       "        [3.92981060e-02, 1.04653835e-02, 9.48966444e-01, 1.27000886e-03],\n",
       "        [2.01053917e-02, 2.68988926e-02, 9.52719569e-01, 2.76214821e-04],\n",
       "        [1.19966604e-02, 6.79236948e-01, 2.91288823e-01, 1.74776129e-02],\n",
       "        [3.78468595e-02, 6.99876342e-03, 9.53883290e-01, 1.27105857e-03],\n",
       "        [3.72602604e-02, 2.67476812e-02, 9.10017610e-01, 2.59743836e-02],\n",
       "        [3.92681062e-02, 3.51509713e-02, 4.27307673e-02, 8.82850230e-01],\n",
       "        [1.41941495e-02, 8.29531532e-03, 2.28408934e-03, 9.75226402e-01],\n",
       "        [1.65096261e-02, 4.33615921e-03, 1.17396633e-03, 9.77980256e-01],\n",
       "        [3.85996257e-03, 8.72834586e-03, 5.68354968e-04, 9.86843288e-01],\n",
       "        [2.77049025e-03, 1.39110303e-02, 6.68027555e-04, 9.82650340e-01],\n",
       "        [2.41806824e-02, 6.32032426e-03, 6.69190753e-03, 9.62807119e-01],\n",
       "        [5.67882555e-03, 1.00869946e-02, 5.31904493e-03, 9.78915155e-01],\n",
       "        [2.12324075e-02, 2.63266694e-02, 1.82625595e-02, 9.34178412e-01],\n",
       "        [4.03649453e-03, 7.82702770e-03, 1.38267095e-03, 9.86753881e-01],\n",
       "        [6.05407618e-02, 1.94474719e-02, 4.60313726e-03, 9.15408671e-01],\n",
       "        [1.74410596e-01, 2.73405403e-01, 9.51165557e-02, 4.57067490e-01],\n",
       "        [2.96578817e-02, 1.83971226e-02, 4.21852022e-02, 9.09759820e-01],\n",
       "        [5.73449507e-02, 3.51447240e-02, 7.71397864e-03, 8.99796367e-01],\n",
       "        [1.71494678e-01, 2.72331625e-01, 9.69237462e-02, 4.59250003e-01],\n",
       "        [5.23155788e-03, 7.36420276e-03, 9.15263081e-04, 9.86489117e-01],\n",
       "        [6.16804585e-02, 5.86922057e-02, 2.33815908e-02, 8.56245756e-01],\n",
       "        [5.67882555e-03, 1.00869946e-02, 5.31904493e-03, 9.78915155e-01],\n",
       "        [1.67467222e-01, 7.15122893e-02, 5.05479574e-02, 7.10472584e-01],\n",
       "        [2.68400293e-02, 1.06153255e-02, 2.13943189e-03, 9.60405171e-01]],\n",
       "       dtype=float32),\n",
       " (95, 4))"
      ]
     },
     "execution_count": 42,
     "metadata": {},
     "output_type": "execute_result"
    }
   ],
   "source": [
    "y_pred = model.predict(test_set)\n",
    "y_pred,y_pred.shape"
   ]
  },
  {
   "cell_type": "code",
   "execution_count": 43,
   "id": "235bd7bb-9a0b-4bfa-b123-d8bb1fb50012",
   "metadata": {},
   "outputs": [],
   "source": [
    "predicted_categories = tf.argmax(y_pred,axis=1)"
   ]
  },
  {
   "cell_type": "code",
   "execution_count": 44,
   "id": "a4d6499e-d3be-4054-8e78-d5586954ae71",
   "metadata": {},
   "outputs": [
    {
     "data": {
      "text/plain": [
       "<tf.Tensor: shape=(95,), dtype=int64, numpy=\n",
       "array([0, 0, 0, 0, 0, 0, 0, 1, 1, 0, 0, 0, 0, 1, 2, 0, 0, 0, 0, 0, 0, 3,\n",
       "       1, 1, 1, 1, 1, 3, 1, 1, 1, 1, 0, 1, 1, 1, 1, 1, 1, 1, 1, 1, 2, 2,\n",
       "       2, 2, 2, 0, 2, 2, 2, 2, 2, 2, 2, 2, 2, 2, 2, 2, 2, 2, 2, 1, 2, 2,\n",
       "       2, 2, 2, 2, 2, 2, 2, 1, 2, 2, 3, 3, 3, 3, 3, 3, 3, 3, 3, 3, 3, 3,\n",
       "       3, 3, 3, 3, 3, 3, 3], dtype=int64)>"
      ]
     },
     "execution_count": 44,
     "metadata": {},
     "output_type": "execute_result"
    }
   ],
   "source": [
    "predicted_categories"
   ]
  },
  {
   "cell_type": "code",
   "execution_count": 46,
   "id": "85b16f41-dcfe-4cd5-b685-7002f147b62b",
   "metadata": {
    "scrolled": true
   },
   "outputs": [
    {
     "data": {
      "text/plain": [
       "<tf.Tensor: shape=(95, 4), dtype=float32, numpy=\n",
       "array([[1., 0., 0., 0.],\n",
       "       [1., 0., 0., 0.],\n",
       "       [1., 0., 0., 0.],\n",
       "       [1., 0., 0., 0.],\n",
       "       [1., 0., 0., 0.],\n",
       "       [1., 0., 0., 0.],\n",
       "       [1., 0., 0., 0.],\n",
       "       [1., 0., 0., 0.],\n",
       "       [1., 0., 0., 0.],\n",
       "       [1., 0., 0., 0.],\n",
       "       [1., 0., 0., 0.],\n",
       "       [1., 0., 0., 0.],\n",
       "       [1., 0., 0., 0.],\n",
       "       [1., 0., 0., 0.],\n",
       "       [1., 0., 0., 0.],\n",
       "       [1., 0., 0., 0.],\n",
       "       [1., 0., 0., 0.],\n",
       "       [1., 0., 0., 0.],\n",
       "       [1., 0., 0., 0.],\n",
       "       [1., 0., 0., 0.],\n",
       "       [0., 1., 0., 0.],\n",
       "       [0., 1., 0., 0.],\n",
       "       [0., 1., 0., 0.],\n",
       "       [0., 1., 0., 0.],\n",
       "       [0., 1., 0., 0.],\n",
       "       [0., 1., 0., 0.],\n",
       "       [0., 1., 0., 0.],\n",
       "       [0., 1., 0., 0.],\n",
       "       [0., 1., 0., 0.],\n",
       "       [0., 1., 0., 0.],\n",
       "       [0., 1., 0., 0.],\n",
       "       [0., 1., 0., 0.],\n",
       "       [0., 1., 0., 0.],\n",
       "       [0., 1., 0., 0.],\n",
       "       [0., 1., 0., 0.],\n",
       "       [0., 1., 0., 0.],\n",
       "       [0., 1., 0., 0.],\n",
       "       [0., 1., 0., 0.],\n",
       "       [0., 1., 0., 0.],\n",
       "       [0., 1., 0., 0.],\n",
       "       [0., 1., 0., 0.],\n",
       "       [0., 1., 0., 0.],\n",
       "       [0., 0., 1., 0.],\n",
       "       [0., 0., 1., 0.],\n",
       "       [0., 0., 1., 0.],\n",
       "       [0., 0., 1., 0.],\n",
       "       [0., 0., 1., 0.],\n",
       "       [0., 0., 1., 0.],\n",
       "       [0., 0., 1., 0.],\n",
       "       [0., 0., 1., 0.],\n",
       "       [0., 0., 1., 0.],\n",
       "       [0., 0., 1., 0.],\n",
       "       [0., 0., 1., 0.],\n",
       "       [0., 0., 1., 0.],\n",
       "       [0., 0., 1., 0.],\n",
       "       [0., 0., 1., 0.],\n",
       "       [0., 0., 1., 0.],\n",
       "       [0., 0., 1., 0.],\n",
       "       [0., 0., 1., 0.],\n",
       "       [0., 0., 1., 0.],\n",
       "       [0., 0., 1., 0.],\n",
       "       [0., 0., 1., 0.],\n",
       "       [0., 0., 1., 0.],\n",
       "       [0., 0., 1., 0.],\n",
       "       [0., 0., 1., 0.],\n",
       "       [0., 0., 1., 0.],\n",
       "       [0., 0., 1., 0.],\n",
       "       [0., 0., 1., 0.],\n",
       "       [0., 0., 1., 0.],\n",
       "       [0., 0., 1., 0.],\n",
       "       [0., 0., 1., 0.],\n",
       "       [0., 0., 1., 0.],\n",
       "       [0., 0., 1., 0.],\n",
       "       [0., 0., 1., 0.],\n",
       "       [0., 0., 1., 0.],\n",
       "       [0., 0., 1., 0.],\n",
       "       [0., 0., 0., 1.],\n",
       "       [0., 0., 0., 1.],\n",
       "       [0., 0., 0., 1.],\n",
       "       [0., 0., 0., 1.],\n",
       "       [0., 0., 0., 1.],\n",
       "       [0., 0., 0., 1.],\n",
       "       [0., 0., 0., 1.],\n",
       "       [0., 0., 0., 1.],\n",
       "       [0., 0., 0., 1.],\n",
       "       [0., 0., 0., 1.],\n",
       "       [0., 0., 0., 1.],\n",
       "       [0., 0., 0., 1.],\n",
       "       [0., 0., 0., 1.],\n",
       "       [0., 0., 0., 1.],\n",
       "       [0., 0., 0., 1.],\n",
       "       [0., 0., 0., 1.],\n",
       "       [0., 0., 0., 1.],\n",
       "       [0., 0., 0., 1.],\n",
       "       [0., 0., 0., 1.]], dtype=float32)>"
      ]
     },
     "execution_count": 46,
     "metadata": {},
     "output_type": "execute_result"
    }
   ],
   "source": [
    "true_categories = tf.concat([y for x,y in test_set],axis=0)\n",
    "true_categories"
   ]
  },
  {
   "cell_type": "code",
   "execution_count": 47,
   "id": "1ea1a314-cba8-4b55-8da5-46a7e71f39ff",
   "metadata": {},
   "outputs": [
    {
     "data": {
      "text/plain": [
       "<tf.Tensor: shape=(95,), dtype=int64, numpy=\n",
       "array([0, 0, 0, 0, 0, 0, 0, 0, 0, 0, 0, 0, 0, 0, 0, 0, 0, 0, 0, 0, 1, 1,\n",
       "       1, 1, 1, 1, 1, 1, 1, 1, 1, 1, 1, 1, 1, 1, 1, 1, 1, 1, 1, 1, 2, 2,\n",
       "       2, 2, 2, 2, 2, 2, 2, 2, 2, 2, 2, 2, 2, 2, 2, 2, 2, 2, 2, 2, 2, 2,\n",
       "       2, 2, 2, 2, 2, 2, 2, 2, 2, 2, 3, 3, 3, 3, 3, 3, 3, 3, 3, 3, 3, 3,\n",
       "       3, 3, 3, 3, 3, 3, 3], dtype=int64)>"
      ]
     },
     "execution_count": 47,
     "metadata": {},
     "output_type": "execute_result"
    }
   ],
   "source": [
    "Y_true = tf.argmax(true_categories,axis=1)\n",
    "Y_true"
   ]
  },
  {
   "cell_type": "code",
   "execution_count": null,
   "id": "48b85dab-2529-457e-9606-832ab4e4fc2f",
   "metadata": {},
   "outputs": [],
   "source": []
  },
  {
   "cell_type": "code",
   "execution_count": 49,
   "id": "1bfb2275-6791-48e5-80f3-68b3bafd958b",
   "metadata": {},
   "outputs": [],
   "source": [
    "from sklearn.metrics import classification_report,confusion_matrix"
   ]
  },
  {
   "cell_type": "code",
   "execution_count": 50,
   "id": "593117b0-142d-4d67-80d2-34a97f5df182",
   "metadata": {},
   "outputs": [
    {
     "name": "stdout",
     "output_type": "stream",
     "text": [
      "                    precision    recall  f1-score   support\n",
      "\n",
      "       Egg_Class B       0.84      0.80      0.82        20\n",
      " Egg_Fresh Class A       0.78      0.82      0.80        22\n",
      "Egg_Fresh Class AA       0.97      0.91      0.94        34\n",
      "         Egg_stale       0.90      1.00      0.95        19\n",
      "\n",
      "          accuracy                           0.88        95\n",
      "         macro avg       0.87      0.88      0.88        95\n",
      "      weighted avg       0.89      0.88      0.88        95\n",
      "\n"
     ]
    }
   ],
   "source": [
    "print(classification_report(Y_true,predicted_categories,target_names=class_name))"
   ]
  },
  {
   "cell_type": "code",
   "execution_count": 51,
   "id": "5b023d13-a2bb-486d-b37a-8b31b8b33594",
   "metadata": {},
   "outputs": [
    {
     "data": {
      "text/plain": [
       "(4, 4)"
      ]
     },
     "execution_count": 51,
     "metadata": {},
     "output_type": "execute_result"
    }
   ],
   "source": [
    "cm = confusion_matrix(Y_true,predicted_categories)\n",
    "cm.shape"
   ]
  },
  {
   "cell_type": "markdown",
   "id": "9568c7e3-dd31-4587-a73a-d7c12038da46",
   "metadata": {},
   "source": [
    "### Confusion Matrix Visualization"
   ]
  },
  {
   "cell_type": "code",
   "execution_count": 53,
   "id": "3742c79a-62d9-4fdb-9511-70d3d94a1011",
   "metadata": {},
   "outputs": [
    {
     "data": {
      "image/png": "[encoded data removed]",
      "text/plain": [
       "<Figure size 640x480 with 2 Axes>"
      ]
     },
     "metadata": {},
     "output_type": "display_data"
    }
   ],
   "source": [
    "sns.heatmap(cm,annot=True)\n",
    "plt.xlabel(\"Predicted Class\")\n",
    "plt.ylabel(\"Actual Class\") \n",
    "plt.title(\"Egg Class Prediction Confusion Matrix\")\n",
    "plt.show()"
   ]
  },
  {
   "cell_type": "code",
   "execution_count": null,
   "id": "5cef3ba1-1433-4954-849c-50e04a3cf404",
   "metadata": {},
   "outputs": [],
   "source": []
  },
  {
   "cell_type": "code",
   "execution_count": null,
   "id": "2b4407d7-1669-479f-802a-bc5c960b6110",
   "metadata": {},
   "outputs": [],
   "source": []
  },
  {
   "cell_type": "code",
   "execution_count": null,
   "id": "a0768a5d-9adb-423d-b279-edd24dcdbb0b",
   "metadata": {},
   "outputs": [],
   "source": []
  }
 ],
 "metadata": {
  "kernelspec": {
   "display_name": "Python 3 (ipykernel)",
   "language": "python",
   "name": "python3"
  },
  "language_info": {
   "codemirror_mode": {
    "name": "ipython",
    "version": 3
   },
   "file_extension": ".py",
   "mimetype": "text/x-python",
   "name": "python",
   "nbconvert_exporter": "python",
   "pygments_lexer": "ipython3",
   "version": "3.12.4"
  }
 },
 "nbformat": 4,
 "nbformat_minor": 5
}
