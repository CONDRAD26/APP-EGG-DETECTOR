{
 "cells": [
  {
   "cell_type": "markdown",
   "id": "c3dffd99-49fd-4c9f-b84d-b6b2f0d5886d",
   "metadata": {},
   "source": [
    "## Import Libraries"
   ]
  },
  {
   "cell_type": "code",
   "execution_count": 1,
   "id": "2889c229-ef3b-40f5-b67a-b71ba50169fc",
   "metadata": {},
   "outputs": [],
   "source": [
    "import tensorflow as tf\n",
    "import matplotlib.pyplot as plt\n",
    "import pandas as pd\n",
    "import seaborn as sns\n"
   ]
  },
  {
   "cell_type": "markdown",
   "id": "1e3bc267-adc5-4220-b46d-04307a18c593",
   "metadata": {},
   "source": [
    "## Data Preprocessing"
   ]
  },
  {
   "cell_type": "markdown",
   "id": "bc070ed9-5f7a-432c-8929-356b6a213e32",
   "metadata": {},
   "source": [
    "## Training Image Preprocessing"
   ]
  },
  {
   "cell_type": "code",
   "execution_count": 4,
   "id": "755e237e-690d-4b9c-8b7f-68d478c1cb5b",
   "metadata": {},
   "outputs": [
    {
     "name": "stdout",
     "output_type": "stream",
     "text": [
      "Found 95 files belonging to 4 classes.\n"
     ]
    }
   ],
   "source": [
    "training_set = tf.keras.utils.image_dataset_from_directory(\n",
    "    'train',\n",
    "    labels=\"inferred\",\n",
    "    label_mode=\"categorical\",\n",
    "    class_names=None,\n",
    "    color_mode=\"rgb\",\n",
    "    batch_size=32,\n",
    "    image_size=(128, 128),\n",
    "    shuffle=True,\n",
    "    seed=None,\n",
    "    validation_split=None,\n",
    "    subset=None,\n",
    "    interpolation=\"bilinear\",\n",
    "    follow_links=False,\n",
    "    crop_to_aspect_ratio=False, \n",
    "    \n",
    ")"
   ]
  },
  {
   "cell_type": "markdown",
   "id": "0971ebd1-2e6b-428a-a4f4-78f060832a36",
   "metadata": {},
   "source": [
    "### Validation Image Preprocessing"
   ]
  },
  {
   "cell_type": "code",
   "execution_count": 6,
   "id": "a9897733-2cda-4c2c-82b2-5b89157b5c48",
   "metadata": {},
   "outputs": [
    {
     "name": "stdout",
     "output_type": "stream",
     "text": [
      "Found 95 files belonging to 4 classes.\n"
     ]
    }
   ],
   "source": [
    "validation_set = tf.keras.utils.image_dataset_from_directory(\n",
    "    'valid',\n",
    "    labels=\"inferred\",\n",
    "    label_mode=\"categorical\",\n",
    "    class_names=None,\n",
    "    color_mode=\"rgb\",\n",
    "    batch_size=32,\n",
    "    image_size=(128, 128),\n",
    "    shuffle=True,\n",
    "    seed=None,\n",
    "    validation_split=None,\n",
    "    subset=None,\n",
    "    interpolation=\"bilinear\",\n",
    "    follow_links=False,\n",
    "    crop_to_aspect_ratio=False, \n",
    ")"
   ]
  },
  {
   "cell_type": "code",
   "execution_count": 10,
   "id": "9d45d613-6136-4d3b-9794-08368700df0e",
   "metadata": {},
   "outputs": [
    {
     "data": {
      "text/plain": [
       "<_PrefetchDataset element_spec=(TensorSpec(shape=(None, 128, 128, 3), dtype=tf.float32, name=None), TensorSpec(shape=(None, 4), dtype=tf.float32, name=None))>"
      ]
     },
     "execution_count": 10,
     "metadata": {},
     "output_type": "execute_result"
    }
   ],
   "source": [
    "training_set"
   ]
  },
  {
   "cell_type": "code",
   "execution_count": 12,
   "id": "62c80c43-2a1f-43c5-8c78-6a0347d678e6",
   "metadata": {},
   "outputs": [
    {
     "name": "stdout",
     "output_type": "stream",
     "text": [
      "tf.Tensor(\n",
      "[[[[1.10000000e+01 0.00000000e+00 4.00000000e+00]\n",
      "   [1.10000000e+01 0.00000000e+00 4.00000000e+00]\n",
      "   [1.10000000e+01 0.00000000e+00 4.00000000e+00]\n",
      "   ...\n",
      "   [8.00000000e+00 3.00000000e+00 0.00000000e+00]\n",
      "   [8.00000000e+00 3.00000000e+00 0.00000000e+00]\n",
      "   [8.00000000e+00 3.00000000e+00 0.00000000e+00]]\n",
      "\n",
      "  [[1.10000000e+01 0.00000000e+00 4.00000000e+00]\n",
      "   [1.10000000e+01 0.00000000e+00 4.00000000e+00]\n",
      "   [1.10000000e+01 0.00000000e+00 4.00000000e+00]\n",
      "   ...\n",
      "   [8.00000000e+00 3.00000000e+00 0.00000000e+00]\n",
      "   [8.00000000e+00 3.00000000e+00 0.00000000e+00]\n",
      "   [8.00000000e+00 3.00000000e+00 0.00000000e+00]]\n",
      "\n",
      "  [[1.10000000e+01 0.00000000e+00 4.00000000e+00]\n",
      "   [1.10000000e+01 0.00000000e+00 4.00000000e+00]\n",
      "   [1.10000000e+01 0.00000000e+00 4.00000000e+00]\n",
      "   ...\n",
      "   [8.00000000e+00 3.00000000e+00 0.00000000e+00]\n",
      "   [8.00000000e+00 3.00000000e+00 0.00000000e+00]\n",
      "   [8.00000000e+00 3.00000000e+00 0.00000000e+00]]\n",
      "\n",
      "  ...\n",
      "\n",
      "  [[3.00000000e+00 1.00000000e+00 4.00000000e+00]\n",
      "   [3.00000000e+00 1.00000000e+00 4.00000000e+00]\n",
      "   [3.00000000e+00 1.00000000e+00 4.00000000e+00]\n",
      "   ...\n",
      "   [1.34902344e+02 3.69023438e+01 0.00000000e+00]\n",
      "   [1.36213135e+02 3.82131348e+01 1.21398926e+00]\n",
      "   [1.35656250e+02 3.76562500e+01 6.56250000e-01]]\n",
      "\n",
      "  [[3.00000000e+00 1.00000000e+00 4.00000000e+00]\n",
      "   [3.00000000e+00 1.00000000e+00 4.00000000e+00]\n",
      "   [3.00000000e+00 1.00000000e+00 4.00000000e+00]\n",
      "   ...\n",
      "   [1.32808594e+02 3.48085938e+01 0.00000000e+00]\n",
      "   [1.36988281e+02 3.89882812e+01 1.99218750e+00]\n",
      "   [1.39593750e+02 4.15937500e+01 3.53125000e+00]]\n",
      "\n",
      "  [[3.00000000e+00 1.00000000e+00 4.00000000e+00]\n",
      "   [3.00000000e+00 1.00000000e+00 4.00000000e+00]\n",
      "   [3.00000000e+00 1.00000000e+00 4.00000000e+00]\n",
      "   ...\n",
      "   [1.31782837e+02 3.37828369e+01 0.00000000e+00]\n",
      "   [1.36988281e+02 3.89882812e+01 1.99218750e+00]\n",
      "   [1.42687500e+02 4.46875000e+01 5.68750000e+00]]]\n",
      "\n",
      "\n",
      " [[[2.00000000e+00 3.00000000e+00 0.00000000e+00]\n",
      "   [2.00000000e+00 3.00000000e+00 0.00000000e+00]\n",
      "   [2.00000000e+00 3.00000000e+00 0.00000000e+00]\n",
      "   ...\n",
      "   [2.00000000e+00 3.00000000e+00 0.00000000e+00]\n",
      "   [2.00000000e+00 3.00000000e+00 0.00000000e+00]\n",
      "   [2.00000000e+00 3.00000000e+00 0.00000000e+00]]\n",
      "\n",
      "  [[2.00000000e+00 3.00000000e+00 0.00000000e+00]\n",
      "   [2.00000000e+00 3.00000000e+00 0.00000000e+00]\n",
      "   [2.00000000e+00 3.00000000e+00 0.00000000e+00]\n",
      "   ...\n",
      "   [2.00000000e+00 3.00000000e+00 0.00000000e+00]\n",
      "   [2.00000000e+00 3.00000000e+00 0.00000000e+00]\n",
      "   [2.00000000e+00 3.00000000e+00 0.00000000e+00]]\n",
      "\n",
      "  [[2.00000000e+00 3.00000000e+00 0.00000000e+00]\n",
      "   [2.00000000e+00 3.00000000e+00 0.00000000e+00]\n",
      "   [2.00000000e+00 3.00000000e+00 0.00000000e+00]\n",
      "   ...\n",
      "   [2.00000000e+00 3.00000000e+00 0.00000000e+00]\n",
      "   [2.00000000e+00 3.00000000e+00 0.00000000e+00]\n",
      "   [2.00000000e+00 3.00000000e+00 0.00000000e+00]]\n",
      "\n",
      "  ...\n",
      "\n",
      "  [[2.00000000e+00 3.00000000e+00 0.00000000e+00]\n",
      "   [2.00000000e+00 3.00000000e+00 0.00000000e+00]\n",
      "   [2.00000000e+00 3.00000000e+00 0.00000000e+00]\n",
      "   ...\n",
      "   [3.00000000e+00 3.00000000e+00 3.00000000e+00]\n",
      "   [2.91406250e+00 2.91406250e+00 2.91406250e+00]\n",
      "   [2.00000000e+00 2.00000000e+00 2.00000000e+00]]\n",
      "\n",
      "  [[2.00000000e+00 3.00000000e+00 0.00000000e+00]\n",
      "   [2.00000000e+00 3.00000000e+00 0.00000000e+00]\n",
      "   [2.00000000e+00 3.00000000e+00 0.00000000e+00]\n",
      "   ...\n",
      "   [3.00000000e+00 3.00000000e+00 3.00000000e+00]\n",
      "   [2.91406250e+00 2.91406250e+00 2.91406250e+00]\n",
      "   [2.00000000e+00 2.00000000e+00 2.00000000e+00]]\n",
      "\n",
      "  [[2.00000000e+00 3.00000000e+00 0.00000000e+00]\n",
      "   [2.00000000e+00 3.00000000e+00 0.00000000e+00]\n",
      "   [2.00000000e+00 3.00000000e+00 0.00000000e+00]\n",
      "   ...\n",
      "   [3.00000000e+00 3.00000000e+00 3.00000000e+00]\n",
      "   [2.91406250e+00 2.91406250e+00 2.91406250e+00]\n",
      "   [2.00000000e+00 2.00000000e+00 2.00000000e+00]]]\n",
      "\n",
      "\n",
      " [[[0.00000000e+00 1.00000000e+00 0.00000000e+00]\n",
      "   [0.00000000e+00 1.55859375e+00 0.00000000e+00]\n",
      "   [2.59765625e+00 3.59765625e+00 0.00000000e+00]\n",
      "   ...\n",
      "   [0.00000000e+00 0.00000000e+00 0.00000000e+00]\n",
      "   [0.00000000e+00 0.00000000e+00 0.00000000e+00]\n",
      "   [0.00000000e+00 0.00000000e+00 0.00000000e+00]]\n",
      "\n",
      "  [[0.00000000e+00 1.00000000e+00 0.00000000e+00]\n",
      "   [0.00000000e+00 1.55859375e+00 0.00000000e+00]\n",
      "   [3.35937500e+00 4.35937500e+00 0.00000000e+00]\n",
      "   ...\n",
      "   [0.00000000e+00 0.00000000e+00 0.00000000e+00]\n",
      "   [0.00000000e+00 0.00000000e+00 0.00000000e+00]\n",
      "   [0.00000000e+00 0.00000000e+00 0.00000000e+00]]\n",
      "\n",
      "  [[0.00000000e+00 1.00000000e+00 0.00000000e+00]\n",
      "   [5.58593750e-01 2.55859375e+00 0.00000000e+00]\n",
      "   [3.75874329e+00 4.75874329e+00 1.61087036e-01]\n",
      "   ...\n",
      "   [0.00000000e+00 0.00000000e+00 0.00000000e+00]\n",
      "   [0.00000000e+00 0.00000000e+00 0.00000000e+00]\n",
      "   [0.00000000e+00 0.00000000e+00 0.00000000e+00]]\n",
      "\n",
      "  ...\n",
      "\n",
      "  [[2.00000000e+00 2.00000000e+00 2.00000000e+00]\n",
      "   [2.00000000e+00 2.00000000e+00 2.00000000e+00]\n",
      "   [2.00000000e+00 2.00000000e+00 2.00000000e+00]\n",
      "   ...\n",
      "   [0.00000000e+00 0.00000000e+00 0.00000000e+00]\n",
      "   [0.00000000e+00 0.00000000e+00 0.00000000e+00]\n",
      "   [0.00000000e+00 0.00000000e+00 0.00000000e+00]]\n",
      "\n",
      "  [[2.00000000e+00 2.00000000e+00 2.00000000e+00]\n",
      "   [2.00000000e+00 2.00000000e+00 2.00000000e+00]\n",
      "   [2.00000000e+00 2.00000000e+00 2.00000000e+00]\n",
      "   ...\n",
      "   [0.00000000e+00 0.00000000e+00 0.00000000e+00]\n",
      "   [0.00000000e+00 0.00000000e+00 0.00000000e+00]\n",
      "   [0.00000000e+00 0.00000000e+00 0.00000000e+00]]\n",
      "\n",
      "  [[5.07812500e-01 5.07812500e-01 5.07812500e-01]\n",
      "   [5.07812500e-01 5.07812500e-01 5.07812500e-01]\n",
      "   [5.07812500e-01 5.07812500e-01 5.07812500e-01]\n",
      "   ...\n",
      "   [3.00186157e-01 3.00186157e-01 3.00186157e-01]\n",
      "   [7.46093750e-01 7.46093750e-01 7.46093750e-01]\n",
      "   [3.87619019e-01 3.87619019e-01 3.87619019e-01]]]\n",
      "\n",
      "\n",
      " ...\n",
      "\n",
      "\n",
      " [[[3.38515625e+01 1.98515625e+01 1.88515625e+01]\n",
      "   [2.95546875e+01 1.55546875e+01 1.45546875e+01]\n",
      "   [3.17421875e+01 1.57421875e+01 1.57421875e+01]\n",
      "   ...\n",
      "   [3.01289062e+01 2.61289062e+01 2.31289062e+01]\n",
      "   [3.01679688e+01 2.61679688e+01 2.37226562e+01]\n",
      "   [2.80000000e+01 2.40000000e+01 2.30000000e+01]]\n",
      "\n",
      "  [[3.38515625e+01 1.98515625e+01 1.88515625e+01]\n",
      "   [2.95546875e+01 1.55546875e+01 1.45546875e+01]\n",
      "   [3.10976562e+01 1.63867188e+01 1.57421875e+01]\n",
      "   ...\n",
      "   [3.01289062e+01 2.61289062e+01 2.31289062e+01]\n",
      "   [3.03467255e+01 2.63467255e+01 2.35438995e+01]\n",
      "   [2.86445312e+01 2.46445312e+01 2.23554688e+01]]\n",
      "\n",
      "  [[3.37031250e+01 1.99257812e+01 1.88515625e+01]\n",
      "   [2.95546875e+01 1.55546875e+01 1.45546875e+01]\n",
      "   [3.07421875e+01 1.67421875e+01 1.57421875e+01]\n",
      "   ...\n",
      "   [3.01289062e+01 2.61289062e+01 2.31289062e+01]\n",
      "   [3.04658966e+01 2.64658966e+01 2.34658966e+01]\n",
      "   [2.90742188e+01 2.50742188e+01 2.20742188e+01]]\n",
      "\n",
      "  ...\n",
      "\n",
      "  [[2.70000000e+01 1.80000000e+01 2.10000000e+01]\n",
      "   [2.50000000e+01 1.90000000e+01 2.10000000e+01]\n",
      "   [2.50000000e+01 1.90000000e+01 2.10000000e+01]\n",
      "   ...\n",
      "   [2.60000000e+01 2.10000000e+01 1.70000000e+01]\n",
      "   [2.60000000e+01 2.10000000e+01 1.70000000e+01]\n",
      "   [2.60000000e+01 2.10000000e+01 1.70000000e+01]]\n",
      "\n",
      "  [[2.60000000e+01 1.70000000e+01 2.00000000e+01]\n",
      "   [2.40000000e+01 1.80000000e+01 2.00000000e+01]\n",
      "   [2.40000000e+01 1.80000000e+01 2.00000000e+01]\n",
      "   ...\n",
      "   [2.60000000e+01 2.10000000e+01 1.70000000e+01]\n",
      "   [2.60000000e+01 2.10000000e+01 1.70000000e+01]\n",
      "   [2.60000000e+01 2.10000000e+01 1.70000000e+01]]\n",
      "\n",
      "  [[2.60000000e+01 1.70000000e+01 2.00000000e+01]\n",
      "   [2.40000000e+01 1.80000000e+01 2.00000000e+01]\n",
      "   [2.40000000e+01 1.80000000e+01 2.00000000e+01]\n",
      "   ...\n",
      "   [2.60000000e+01 2.10000000e+01 1.70000000e+01]\n",
      "   [2.60000000e+01 2.10000000e+01 1.70000000e+01]\n",
      "   [2.60000000e+01 2.10000000e+01 1.70000000e+01]]]\n",
      "\n",
      "\n",
      " [[[2.55000000e+02 2.55000000e+02 2.55000000e+02]\n",
      "   [2.55000000e+02 2.55000000e+02 2.55000000e+02]\n",
      "   [2.55000000e+02 2.55000000e+02 2.55000000e+02]\n",
      "   ...\n",
      "   [2.55000000e+02 2.55000000e+02 2.55000000e+02]\n",
      "   [2.55000000e+02 2.55000000e+02 2.55000000e+02]\n",
      "   [2.55000000e+02 2.55000000e+02 2.55000000e+02]]\n",
      "\n",
      "  [[2.55000000e+02 2.55000000e+02 2.55000000e+02]\n",
      "   [2.55000000e+02 2.55000000e+02 2.55000000e+02]\n",
      "   [2.55000000e+02 2.55000000e+02 2.55000000e+02]\n",
      "   ...\n",
      "   [2.55000000e+02 2.55000000e+02 2.55000000e+02]\n",
      "   [2.55000000e+02 2.55000000e+02 2.55000000e+02]\n",
      "   [2.55000000e+02 2.55000000e+02 2.55000000e+02]]\n",
      "\n",
      "  [[2.55000000e+02 2.55000000e+02 2.55000000e+02]\n",
      "   [2.55000000e+02 2.55000000e+02 2.55000000e+02]\n",
      "   [2.55000000e+02 2.55000000e+02 2.55000000e+02]\n",
      "   ...\n",
      "   [2.55000000e+02 2.55000000e+02 2.55000000e+02]\n",
      "   [2.55000000e+02 2.55000000e+02 2.55000000e+02]\n",
      "   [2.55000000e+02 2.55000000e+02 2.55000000e+02]]\n",
      "\n",
      "  ...\n",
      "\n",
      "  [[2.55000000e+02 2.55000000e+02 2.55000000e+02]\n",
      "   [2.55000000e+02 2.55000000e+02 2.55000000e+02]\n",
      "   [2.55000000e+02 2.55000000e+02 2.55000000e+02]\n",
      "   ...\n",
      "   [2.55000000e+02 2.55000000e+02 2.55000000e+02]\n",
      "   [2.55000000e+02 2.55000000e+02 2.55000000e+02]\n",
      "   [2.55000000e+02 2.55000000e+02 2.55000000e+02]]\n",
      "\n",
      "  [[2.55000000e+02 2.55000000e+02 2.55000000e+02]\n",
      "   [2.55000000e+02 2.55000000e+02 2.55000000e+02]\n",
      "   [2.55000000e+02 2.55000000e+02 2.55000000e+02]\n",
      "   ...\n",
      "   [2.55000000e+02 2.55000000e+02 2.55000000e+02]\n",
      "   [2.55000000e+02 2.55000000e+02 2.55000000e+02]\n",
      "   [2.55000000e+02 2.55000000e+02 2.55000000e+02]]\n",
      "\n",
      "  [[2.55000000e+02 2.55000000e+02 2.55000000e+02]\n",
      "   [2.55000000e+02 2.55000000e+02 2.55000000e+02]\n",
      "   [2.55000000e+02 2.55000000e+02 2.55000000e+02]\n",
      "   ...\n",
      "   [2.55000000e+02 2.55000000e+02 2.55000000e+02]\n",
      "   [2.55000000e+02 2.55000000e+02 2.55000000e+02]\n",
      "   [2.55000000e+02 2.55000000e+02 2.55000000e+02]]]\n",
      "\n",
      "\n",
      " [[[0.00000000e+00 0.00000000e+00 0.00000000e+00]\n",
      "   [0.00000000e+00 0.00000000e+00 0.00000000e+00]\n",
      "   [0.00000000e+00 0.00000000e+00 0.00000000e+00]\n",
      "   ...\n",
      "   [0.00000000e+00 0.00000000e+00 0.00000000e+00]\n",
      "   [0.00000000e+00 0.00000000e+00 0.00000000e+00]\n",
      "   [0.00000000e+00 0.00000000e+00 0.00000000e+00]]\n",
      "\n",
      "  [[0.00000000e+00 0.00000000e+00 0.00000000e+00]\n",
      "   [0.00000000e+00 0.00000000e+00 0.00000000e+00]\n",
      "   [0.00000000e+00 0.00000000e+00 0.00000000e+00]\n",
      "   ...\n",
      "   [0.00000000e+00 0.00000000e+00 0.00000000e+00]\n",
      "   [0.00000000e+00 0.00000000e+00 0.00000000e+00]\n",
      "   [0.00000000e+00 0.00000000e+00 0.00000000e+00]]\n",
      "\n",
      "  [[0.00000000e+00 0.00000000e+00 0.00000000e+00]\n",
      "   [0.00000000e+00 0.00000000e+00 0.00000000e+00]\n",
      "   [0.00000000e+00 0.00000000e+00 0.00000000e+00]\n",
      "   ...\n",
      "   [0.00000000e+00 0.00000000e+00 0.00000000e+00]\n",
      "   [0.00000000e+00 0.00000000e+00 0.00000000e+00]\n",
      "   [0.00000000e+00 0.00000000e+00 0.00000000e+00]]\n",
      "\n",
      "  ...\n",
      "\n",
      "  [[2.00000000e+00 2.00000000e+00 2.00000000e+00]\n",
      "   [2.00000000e+00 2.00000000e+00 2.00000000e+00]\n",
      "   [2.00000000e+00 2.00000000e+00 2.00000000e+00]\n",
      "   ...\n",
      "   [0.00000000e+00 0.00000000e+00 0.00000000e+00]\n",
      "   [0.00000000e+00 0.00000000e+00 0.00000000e+00]\n",
      "   [0.00000000e+00 0.00000000e+00 0.00000000e+00]]\n",
      "\n",
      "  [[2.00000000e+00 2.00000000e+00 2.00000000e+00]\n",
      "   [2.00000000e+00 2.00000000e+00 2.00000000e+00]\n",
      "   [2.00000000e+00 2.00000000e+00 2.00000000e+00]\n",
      "   ...\n",
      "   [0.00000000e+00 0.00000000e+00 0.00000000e+00]\n",
      "   [0.00000000e+00 0.00000000e+00 0.00000000e+00]\n",
      "   [0.00000000e+00 0.00000000e+00 0.00000000e+00]]\n",
      "\n",
      "  [[2.00000000e+00 2.00000000e+00 2.00000000e+00]\n",
      "   [2.00000000e+00 2.00000000e+00 2.00000000e+00]\n",
      "   [2.00000000e+00 2.00000000e+00 2.00000000e+00]\n",
      "   ...\n",
      "   [0.00000000e+00 0.00000000e+00 0.00000000e+00]\n",
      "   [0.00000000e+00 0.00000000e+00 0.00000000e+00]\n",
      "   [0.00000000e+00 0.00000000e+00 0.00000000e+00]]]], shape=(32, 128, 128, 3), dtype=float32)\n",
      "tf.Tensor(\n",
      "[[1. 0. 0. 0.]\n",
      " [0. 1. 0. 0.]\n",
      " [0. 0. 0. 1.]\n",
      " [0. 1. 0. 0.]\n",
      " [1. 0. 0. 0.]\n",
      " [0. 1. 0. 0.]\n",
      " [0. 0. 1. 0.]\n",
      " [0. 0. 0. 1.]\n",
      " [0. 0. 0. 1.]\n",
      " [0. 1. 0. 0.]\n",
      " [0. 0. 0. 1.]\n",
      " [0. 0. 1. 0.]\n",
      " [0. 1. 0. 0.]\n",
      " [0. 0. 1. 0.]\n",
      " [0. 0. 0. 1.]\n",
      " [1. 0. 0. 0.]\n",
      " [0. 0. 0. 1.]\n",
      " [0. 1. 0. 0.]\n",
      " [0. 0. 1. 0.]\n",
      " [0. 0. 1. 0.]\n",
      " [0. 1. 0. 0.]\n",
      " [0. 0. 0. 1.]\n",
      " [0. 1. 0. 0.]\n",
      " [1. 0. 0. 0.]\n",
      " [0. 0. 1. 0.]\n",
      " [0. 0. 1. 0.]\n",
      " [0. 1. 0. 0.]\n",
      " [0. 1. 0. 0.]\n",
      " [0. 1. 0. 0.]\n",
      " [0. 0. 1. 0.]\n",
      " [1. 0. 0. 0.]\n",
      " [1. 0. 0. 0.]], shape=(32, 4), dtype=float32)\n"
     ]
    }
   ],
   "source": [
    "for x,y in training_set:\n",
    " print(x)\n",
    " print(y)\n",
    " break"
   ]
  },
  {
   "cell_type": "markdown",
   "id": "0dd96a97-4919-40d6-9105-a9cc4a5becec",
   "metadata": {},
   "source": [
    "### To Avoid Overshooting\n",
    "1. Choose small learning rate default 0.001 we are taking 0.0001\n",
    "2. There maybe a chance of underfitting so increase the number of neurons\n",
    "3. Add more convolution layer to extract more feature from image "
   ]
  },
  {
   "cell_type": "markdown",
   "id": "04934755-2420-40ff-84d7-167cd21dd027",
   "metadata": {},
   "source": [
    "### Building Model"
   ]
  },
  {
   "cell_type": "code",
   "execution_count": 16,
   "id": "aa6db0f2-a79f-4b75-9cfb-8c63735c1010",
   "metadata": {},
   "outputs": [],
   "source": [
    "from tensorflow.keras.layers import Dense,Conv2D,MaxPool2D,Flatten,Dropout\n",
    "from tensorflow.keras.models import Sequential"
   ]
  },
  {
   "cell_type": "code",
   "execution_count": 18,
   "id": "22f22eac-d545-4d79-9fde-cdba8135064b",
   "metadata": {},
   "outputs": [],
   "source": [
    "model = Sequential()"
   ]
  },
  {
   "cell_type": "code",
   "execution_count": 20,
   "id": "4729e5e9-7f52-42c6-a69e-872bdae0dcd2",
   "metadata": {},
   "outputs": [],
   "source": [
    "## building Convolution Layer"
   ]
  },
  {
   "cell_type": "code",
   "execution_count": 22,
   "id": "1e404136-fae3-45be-a328-8e450cb21800",
   "metadata": {},
   "outputs": [
    {
     "name": "stderr",
     "output_type": "stream",
     "text": [
      "C:\\ProgramData\\anaconda3\\Lib\\site-packages\\keras\\src\\layers\\convolutional\\base_conv.py:107: UserWarning: Do not pass an `input_shape`/`input_dim` argument to a layer. When using Sequential models, prefer using an `Input(shape)` object as the first layer in the model instead.\n",
      "  super().__init__(activity_regularizer=activity_regularizer, **kwargs)\n"
     ]
    }
   ],
   "source": [
    "model.add(Conv2D(filters=32,kernel_size=3,padding='same',activation='relu',input_shape=[128, 128, 3]))\n",
    "model.add(Conv2D(filters=32,kernel_size=3,activation='relu')) \n",
    "model.add(MaxPool2D(pool_size=2,strides=2))"
   ]
  },
  {
   "cell_type": "code",
   "execution_count": 24,
   "id": "679d60b9-2560-43c4-afbc-72714b3069f3",
   "metadata": {},
   "outputs": [],
   "source": [
    "model.add(Conv2D(filters=64,kernel_size=3,padding='same',activation='relu'))\n",
    "model.add(Conv2D(filters=64,kernel_size=3,activation='relu')) \n",
    "model.add(MaxPool2D(pool_size=2,strides=2))"
   ]
  },
  {
   "cell_type": "code",
   "execution_count": 26,
   "id": "b965afe0-5871-4c52-8f27-52f470ffe64a",
   "metadata": {},
   "outputs": [],
   "source": [
    "model.add(Conv2D(filters=128,kernel_size=3,padding='same',activation='relu'))\n",
    "model.add(Conv2D(filters=128,kernel_size=3,activation='relu')) \n",
    "model.add(MaxPool2D(pool_size=2,strides=2))"
   ]
  },
  {
   "cell_type": "code",
   "execution_count": 28,
   "id": "3808ef78-51a7-4c34-9284-734e78042016",
   "metadata": {},
   "outputs": [],
   "source": [
    "model.add(Conv2D(filters=256,kernel_size=3,padding='same',activation='relu'))\n",
    "model.add(Conv2D(filters=256,kernel_size=3,activation='relu')) \n",
    "model.add(MaxPool2D(pool_size=2,strides=2))"
   ]
  },
  {
   "cell_type": "code",
   "execution_count": 30,
   "id": "77c57760-f675-4c92-94c5-42e2678aa1a1",
   "metadata": {},
   "outputs": [],
   "source": [
    "model.add(Conv2D(filters=512,kernel_size=3,padding='same',activation='relu'))\n",
    "model.add(Conv2D(filters=512,kernel_size=3,activation='relu')) \n",
    "model.add(MaxPool2D(pool_size=2,strides=2)) "
   ]
  },
  {
   "cell_type": "code",
   "execution_count": 32,
   "id": "89afb985-6059-4613-9590-ef7fed0c927c",
   "metadata": {},
   "outputs": [],
   "source": [
    "model.add(Dropout(0.25)) # to avoid overfitting"
   ]
  },
  {
   "cell_type": "code",
   "execution_count": 34,
   "id": "06712281-cfd3-4f8a-a13a-1f534d06a573",
   "metadata": {},
   "outputs": [],
   "source": [
    "model.add(Flatten())"
   ]
  },
  {
   "cell_type": "code",
   "execution_count": 36,
   "id": "8526e1ad-4375-44ef-b518-237979f7eb72",
   "metadata": {},
   "outputs": [],
   "source": [
    "model.add(Dense(units=1500,activation='relu'))"
   ]
  },
  {
   "cell_type": "code",
   "execution_count": 38,
   "id": "b1e8f6df-3ba7-49bc-bc62-600e95d89998",
   "metadata": {},
   "outputs": [],
   "source": [
    "model.add(Dropout(0.3)) "
   ]
  },
  {
   "cell_type": "markdown",
   "id": "6992c029-138e-48d9-8f83-4a9bff18d0ec",
   "metadata": {},
   "source": [
    "## output Layer\n"
   ]
  },
  {
   "cell_type": "code",
   "execution_count": 41,
   "id": "142f16ad-01cc-4edd-afb4-8ac075c62927",
   "metadata": {},
   "outputs": [],
   "source": [
    "model.add(Dense(units=4,activation='softmax'))"
   ]
  },
  {
   "cell_type": "markdown",
   "id": "8a7cb4e2-e421-4fca-9e8c-8d2f92258947",
   "metadata": {},
   "source": [
    "## compiling Model"
   ]
  },
  {
   "cell_type": "code",
   "execution_count": 44,
   "id": "a9068929-dd6a-40b0-ab94-5bd7f8a26ae4",
   "metadata": {},
   "outputs": [],
   "source": [
    "model.compile(optimizer=tf.keras.optimizers.Adam(\n",
    "    learning_rate=0.0001), loss='categorical_crossentropy',metrics=['accuracy'])"
   ]
  },
  {
   "cell_type": "code",
   "execution_count": 46,
   "id": "08d8dfce-540d-46d7-b212-ea9e8843e9ae",
   "metadata": {},
   "outputs": [
    {
     "data": {
      "text/html": [
       "<pre style=\"white-space:pre;overflow-x:auto;line-height:normal;font-family:Menlo,'DejaVu Sans Mono',consolas,'Courier New',monospace\"><span style=\"font-weight: bold\">Model: \"sequential\"</span>\n",
       "</pre>\n"
      ],
      "text/plain": [
       "\u001b[1mModel: \"sequential\"\u001b[0m\n"
      ]
     },
     "metadata": {},
     "output_type": "display_data"
    },
    {
     "data": {
      "text/html": [
       "<pre style=\"white-space:pre;overflow-x:auto;line-height:normal;font-family:Menlo,'DejaVu Sans Mono',consolas,'Courier New',monospace\">┏━━━━━━━━━━━━━━━━━━━━━━━━━━━━━━━━━━━━━━┳━━━━━━━━━━━━━━━━━━━━━━━━━━━━━┳━━━━━━━━━━━━━━━━━┓\n",
       "┃<span style=\"font-weight: bold\"> Layer (type)                         </span>┃<span style=\"font-weight: bold\"> Output Shape                </span>┃<span style=\"font-weight: bold\">         Param # </span>┃\n",
       "┡━━━━━━━━━━━━━━━━━━━━━━━━━━━━━━━━━━━━━━╇━━━━━━━━━━━━━━━━━━━━━━━━━━━━━╇━━━━━━━━━━━━━━━━━┩\n",
       "│ conv2d (<span style=\"color: #0087ff; text-decoration-color: #0087ff\">Conv2D</span>)                      │ (<span style=\"color: #00d7ff; text-decoration-color: #00d7ff\">None</span>, <span style=\"color: #00af00; text-decoration-color: #00af00\">128</span>, <span style=\"color: #00af00; text-decoration-color: #00af00\">128</span>, <span style=\"color: #00af00; text-decoration-color: #00af00\">32</span>)        │             <span style=\"color: #00af00; text-decoration-color: #00af00\">896</span> │\n",
       "├──────────────────────────────────────┼─────────────────────────────┼─────────────────┤\n",
       "│ conv2d_1 (<span style=\"color: #0087ff; text-decoration-color: #0087ff\">Conv2D</span>)                    │ (<span style=\"color: #00d7ff; text-decoration-color: #00d7ff\">None</span>, <span style=\"color: #00af00; text-decoration-color: #00af00\">126</span>, <span style=\"color: #00af00; text-decoration-color: #00af00\">126</span>, <span style=\"color: #00af00; text-decoration-color: #00af00\">32</span>)        │           <span style=\"color: #00af00; text-decoration-color: #00af00\">9,248</span> │\n",
       "├──────────────────────────────────────┼─────────────────────────────┼─────────────────┤\n",
       "│ max_pooling2d (<span style=\"color: #0087ff; text-decoration-color: #0087ff\">MaxPooling2D</span>)         │ (<span style=\"color: #00d7ff; text-decoration-color: #00d7ff\">None</span>, <span style=\"color: #00af00; text-decoration-color: #00af00\">63</span>, <span style=\"color: #00af00; text-decoration-color: #00af00\">63</span>, <span style=\"color: #00af00; text-decoration-color: #00af00\">32</span>)          │               <span style=\"color: #00af00; text-decoration-color: #00af00\">0</span> │\n",
       "├──────────────────────────────────────┼─────────────────────────────┼─────────────────┤\n",
       "│ conv2d_2 (<span style=\"color: #0087ff; text-decoration-color: #0087ff\">Conv2D</span>)                    │ (<span style=\"color: #00d7ff; text-decoration-color: #00d7ff\">None</span>, <span style=\"color: #00af00; text-decoration-color: #00af00\">63</span>, <span style=\"color: #00af00; text-decoration-color: #00af00\">63</span>, <span style=\"color: #00af00; text-decoration-color: #00af00\">64</span>)          │          <span style=\"color: #00af00; text-decoration-color: #00af00\">18,496</span> │\n",
       "├──────────────────────────────────────┼─────────────────────────────┼─────────────────┤\n",
       "│ conv2d_3 (<span style=\"color: #0087ff; text-decoration-color: #0087ff\">Conv2D</span>)                    │ (<span style=\"color: #00d7ff; text-decoration-color: #00d7ff\">None</span>, <span style=\"color: #00af00; text-decoration-color: #00af00\">61</span>, <span style=\"color: #00af00; text-decoration-color: #00af00\">61</span>, <span style=\"color: #00af00; text-decoration-color: #00af00\">64</span>)          │          <span style=\"color: #00af00; text-decoration-color: #00af00\">36,928</span> │\n",
       "├──────────────────────────────────────┼─────────────────────────────┼─────────────────┤\n",
       "│ max_pooling2d_1 (<span style=\"color: #0087ff; text-decoration-color: #0087ff\">MaxPooling2D</span>)       │ (<span style=\"color: #00d7ff; text-decoration-color: #00d7ff\">None</span>, <span style=\"color: #00af00; text-decoration-color: #00af00\">30</span>, <span style=\"color: #00af00; text-decoration-color: #00af00\">30</span>, <span style=\"color: #00af00; text-decoration-color: #00af00\">64</span>)          │               <span style=\"color: #00af00; text-decoration-color: #00af00\">0</span> │\n",
       "├──────────────────────────────────────┼─────────────────────────────┼─────────────────┤\n",
       "│ conv2d_4 (<span style=\"color: #0087ff; text-decoration-color: #0087ff\">Conv2D</span>)                    │ (<span style=\"color: #00d7ff; text-decoration-color: #00d7ff\">None</span>, <span style=\"color: #00af00; text-decoration-color: #00af00\">30</span>, <span style=\"color: #00af00; text-decoration-color: #00af00\">30</span>, <span style=\"color: #00af00; text-decoration-color: #00af00\">128</span>)         │          <span style=\"color: #00af00; text-decoration-color: #00af00\">73,856</span> │\n",
       "├──────────────────────────────────────┼─────────────────────────────┼─────────────────┤\n",
       "│ conv2d_5 (<span style=\"color: #0087ff; text-decoration-color: #0087ff\">Conv2D</span>)                    │ (<span style=\"color: #00d7ff; text-decoration-color: #00d7ff\">None</span>, <span style=\"color: #00af00; text-decoration-color: #00af00\">28</span>, <span style=\"color: #00af00; text-decoration-color: #00af00\">28</span>, <span style=\"color: #00af00; text-decoration-color: #00af00\">128</span>)         │         <span style=\"color: #00af00; text-decoration-color: #00af00\">147,584</span> │\n",
       "├──────────────────────────────────────┼─────────────────────────────┼─────────────────┤\n",
       "│ max_pooling2d_2 (<span style=\"color: #0087ff; text-decoration-color: #0087ff\">MaxPooling2D</span>)       │ (<span style=\"color: #00d7ff; text-decoration-color: #00d7ff\">None</span>, <span style=\"color: #00af00; text-decoration-color: #00af00\">14</span>, <span style=\"color: #00af00; text-decoration-color: #00af00\">14</span>, <span style=\"color: #00af00; text-decoration-color: #00af00\">128</span>)         │               <span style=\"color: #00af00; text-decoration-color: #00af00\">0</span> │\n",
       "├──────────────────────────────────────┼─────────────────────────────┼─────────────────┤\n",
       "│ conv2d_6 (<span style=\"color: #0087ff; text-decoration-color: #0087ff\">Conv2D</span>)                    │ (<span style=\"color: #00d7ff; text-decoration-color: #00d7ff\">None</span>, <span style=\"color: #00af00; text-decoration-color: #00af00\">14</span>, <span style=\"color: #00af00; text-decoration-color: #00af00\">14</span>, <span style=\"color: #00af00; text-decoration-color: #00af00\">256</span>)         │         <span style=\"color: #00af00; text-decoration-color: #00af00\">295,168</span> │\n",
       "├──────────────────────────────────────┼─────────────────────────────┼─────────────────┤\n",
       "│ conv2d_7 (<span style=\"color: #0087ff; text-decoration-color: #0087ff\">Conv2D</span>)                    │ (<span style=\"color: #00d7ff; text-decoration-color: #00d7ff\">None</span>, <span style=\"color: #00af00; text-decoration-color: #00af00\">12</span>, <span style=\"color: #00af00; text-decoration-color: #00af00\">12</span>, <span style=\"color: #00af00; text-decoration-color: #00af00\">256</span>)         │         <span style=\"color: #00af00; text-decoration-color: #00af00\">590,080</span> │\n",
       "├──────────────────────────────────────┼─────────────────────────────┼─────────────────┤\n",
       "│ max_pooling2d_3 (<span style=\"color: #0087ff; text-decoration-color: #0087ff\">MaxPooling2D</span>)       │ (<span style=\"color: #00d7ff; text-decoration-color: #00d7ff\">None</span>, <span style=\"color: #00af00; text-decoration-color: #00af00\">6</span>, <span style=\"color: #00af00; text-decoration-color: #00af00\">6</span>, <span style=\"color: #00af00; text-decoration-color: #00af00\">256</span>)           │               <span style=\"color: #00af00; text-decoration-color: #00af00\">0</span> │\n",
       "├──────────────────────────────────────┼─────────────────────────────┼─────────────────┤\n",
       "│ conv2d_8 (<span style=\"color: #0087ff; text-decoration-color: #0087ff\">Conv2D</span>)                    │ (<span style=\"color: #00d7ff; text-decoration-color: #00d7ff\">None</span>, <span style=\"color: #00af00; text-decoration-color: #00af00\">6</span>, <span style=\"color: #00af00; text-decoration-color: #00af00\">6</span>, <span style=\"color: #00af00; text-decoration-color: #00af00\">512</span>)           │       <span style=\"color: #00af00; text-decoration-color: #00af00\">1,180,160</span> │\n",
       "├──────────────────────────────────────┼─────────────────────────────┼─────────────────┤\n",
       "│ conv2d_9 (<span style=\"color: #0087ff; text-decoration-color: #0087ff\">Conv2D</span>)                    │ (<span style=\"color: #00d7ff; text-decoration-color: #00d7ff\">None</span>, <span style=\"color: #00af00; text-decoration-color: #00af00\">4</span>, <span style=\"color: #00af00; text-decoration-color: #00af00\">4</span>, <span style=\"color: #00af00; text-decoration-color: #00af00\">512</span>)           │       <span style=\"color: #00af00; text-decoration-color: #00af00\">2,359,808</span> │\n",
       "├──────────────────────────────────────┼─────────────────────────────┼─────────────────┤\n",
       "│ max_pooling2d_4 (<span style=\"color: #0087ff; text-decoration-color: #0087ff\">MaxPooling2D</span>)       │ (<span style=\"color: #00d7ff; text-decoration-color: #00d7ff\">None</span>, <span style=\"color: #00af00; text-decoration-color: #00af00\">2</span>, <span style=\"color: #00af00; text-decoration-color: #00af00\">2</span>, <span style=\"color: #00af00; text-decoration-color: #00af00\">512</span>)           │               <span style=\"color: #00af00; text-decoration-color: #00af00\">0</span> │\n",
       "├──────────────────────────────────────┼─────────────────────────────┼─────────────────┤\n",
       "│ dropout (<span style=\"color: #0087ff; text-decoration-color: #0087ff\">Dropout</span>)                    │ (<span style=\"color: #00d7ff; text-decoration-color: #00d7ff\">None</span>, <span style=\"color: #00af00; text-decoration-color: #00af00\">2</span>, <span style=\"color: #00af00; text-decoration-color: #00af00\">2</span>, <span style=\"color: #00af00; text-decoration-color: #00af00\">512</span>)           │               <span style=\"color: #00af00; text-decoration-color: #00af00\">0</span> │\n",
       "├──────────────────────────────────────┼─────────────────────────────┼─────────────────┤\n",
       "│ flatten (<span style=\"color: #0087ff; text-decoration-color: #0087ff\">Flatten</span>)                    │ (<span style=\"color: #00d7ff; text-decoration-color: #00d7ff\">None</span>, <span style=\"color: #00af00; text-decoration-color: #00af00\">2048</span>)                │               <span style=\"color: #00af00; text-decoration-color: #00af00\">0</span> │\n",
       "├──────────────────────────────────────┼─────────────────────────────┼─────────────────┤\n",
       "│ dense (<span style=\"color: #0087ff; text-decoration-color: #0087ff\">Dense</span>)                        │ (<span style=\"color: #00d7ff; text-decoration-color: #00d7ff\">None</span>, <span style=\"color: #00af00; text-decoration-color: #00af00\">1500</span>)                │       <span style=\"color: #00af00; text-decoration-color: #00af00\">3,073,500</span> │\n",
       "├──────────────────────────────────────┼─────────────────────────────┼─────────────────┤\n",
       "│ dropout_1 (<span style=\"color: #0087ff; text-decoration-color: #0087ff\">Dropout</span>)                  │ (<span style=\"color: #00d7ff; text-decoration-color: #00d7ff\">None</span>, <span style=\"color: #00af00; text-decoration-color: #00af00\">1500</span>)                │               <span style=\"color: #00af00; text-decoration-color: #00af00\">0</span> │\n",
       "├──────────────────────────────────────┼─────────────────────────────┼─────────────────┤\n",
       "│ dense_1 (<span style=\"color: #0087ff; text-decoration-color: #0087ff\">Dense</span>)                      │ (<span style=\"color: #00d7ff; text-decoration-color: #00d7ff\">None</span>, <span style=\"color: #00af00; text-decoration-color: #00af00\">4</span>)                   │           <span style=\"color: #00af00; text-decoration-color: #00af00\">6,004</span> │\n",
       "└──────────────────────────────────────┴─────────────────────────────┴─────────────────┘\n",
       "</pre>\n"
      ],
      "text/plain": [
       "┏━━━━━━━━━━━━━━━━━━━━━━━━━━━━━━━━━━━━━━┳━━━━━━━━━━━━━━━━━━━━━━━━━━━━━┳━━━━━━━━━━━━━━━━━┓\n",
       "┃\u001b[1m \u001b[0m\u001b[1mLayer (type)                        \u001b[0m\u001b[1m \u001b[0m┃\u001b[1m \u001b[0m\u001b[1mOutput Shape               \u001b[0m\u001b[1m \u001b[0m┃\u001b[1m \u001b[0m\u001b[1m        Param #\u001b[0m\u001b[1m \u001b[0m┃\n",
       "┡━━━━━━━━━━━━━━━━━━━━━━━━━━━━━━━━━━━━━━╇━━━━━━━━━━━━━━━━━━━━━━━━━━━━━╇━━━━━━━━━━━━━━━━━┩\n",
       "│ conv2d (\u001b[38;5;33mConv2D\u001b[0m)                      │ (\u001b[38;5;45mNone\u001b[0m, \u001b[38;5;34m128\u001b[0m, \u001b[38;5;34m128\u001b[0m, \u001b[38;5;34m32\u001b[0m)        │             \u001b[38;5;34m896\u001b[0m │\n",
       "├──────────────────────────────────────┼─────────────────────────────┼─────────────────┤\n",
       "│ conv2d_1 (\u001b[38;5;33mConv2D\u001b[0m)                    │ (\u001b[38;5;45mNone\u001b[0m, \u001b[38;5;34m126\u001b[0m, \u001b[38;5;34m126\u001b[0m, \u001b[38;5;34m32\u001b[0m)        │           \u001b[38;5;34m9,248\u001b[0m │\n",
       "├──────────────────────────────────────┼─────────────────────────────┼─────────────────┤\n",
       "│ max_pooling2d (\u001b[38;5;33mMaxPooling2D\u001b[0m)         │ (\u001b[38;5;45mNone\u001b[0m, \u001b[38;5;34m63\u001b[0m, \u001b[38;5;34m63\u001b[0m, \u001b[38;5;34m32\u001b[0m)          │               \u001b[38;5;34m0\u001b[0m │\n",
       "├──────────────────────────────────────┼─────────────────────────────┼─────────────────┤\n",
       "│ conv2d_2 (\u001b[38;5;33mConv2D\u001b[0m)                    │ (\u001b[38;5;45mNone\u001b[0m, \u001b[38;5;34m63\u001b[0m, \u001b[38;5;34m63\u001b[0m, \u001b[38;5;34m64\u001b[0m)          │          \u001b[38;5;34m18,496\u001b[0m │\n",
       "├──────────────────────────────────────┼─────────────────────────────┼─────────────────┤\n",
       "│ conv2d_3 (\u001b[38;5;33mConv2D\u001b[0m)                    │ (\u001b[38;5;45mNone\u001b[0m, \u001b[38;5;34m61\u001b[0m, \u001b[38;5;34m61\u001b[0m, \u001b[38;5;34m64\u001b[0m)          │          \u001b[38;5;34m36,928\u001b[0m │\n",
       "├──────────────────────────────────────┼─────────────────────────────┼─────────────────┤\n",
       "│ max_pooling2d_1 (\u001b[38;5;33mMaxPooling2D\u001b[0m)       │ (\u001b[38;5;45mNone\u001b[0m, \u001b[38;5;34m30\u001b[0m, \u001b[38;5;34m30\u001b[0m, \u001b[38;5;34m64\u001b[0m)          │               \u001b[38;5;34m0\u001b[0m │\n",
       "├──────────────────────────────────────┼─────────────────────────────┼─────────────────┤\n",
       "│ conv2d_4 (\u001b[38;5;33mConv2D\u001b[0m)                    │ (\u001b[38;5;45mNone\u001b[0m, \u001b[38;5;34m30\u001b[0m, \u001b[38;5;34m30\u001b[0m, \u001b[38;5;34m128\u001b[0m)         │          \u001b[38;5;34m73,856\u001b[0m │\n",
       "├──────────────────────────────────────┼─────────────────────────────┼─────────────────┤\n",
       "│ conv2d_5 (\u001b[38;5;33mConv2D\u001b[0m)                    │ (\u001b[38;5;45mNone\u001b[0m, \u001b[38;5;34m28\u001b[0m, \u001b[38;5;34m28\u001b[0m, \u001b[38;5;34m128\u001b[0m)         │         \u001b[38;5;34m147,584\u001b[0m │\n",
       "├──────────────────────────────────────┼─────────────────────────────┼─────────────────┤\n",
       "│ max_pooling2d_2 (\u001b[38;5;33mMaxPooling2D\u001b[0m)       │ (\u001b[38;5;45mNone\u001b[0m, \u001b[38;5;34m14\u001b[0m, \u001b[38;5;34m14\u001b[0m, \u001b[38;5;34m128\u001b[0m)         │               \u001b[38;5;34m0\u001b[0m │\n",
       "├──────────────────────────────────────┼─────────────────────────────┼─────────────────┤\n",
       "│ conv2d_6 (\u001b[38;5;33mConv2D\u001b[0m)                    │ (\u001b[38;5;45mNone\u001b[0m, \u001b[38;5;34m14\u001b[0m, \u001b[38;5;34m14\u001b[0m, \u001b[38;5;34m256\u001b[0m)         │         \u001b[38;5;34m295,168\u001b[0m │\n",
       "├──────────────────────────────────────┼─────────────────────────────┼─────────────────┤\n",
       "│ conv2d_7 (\u001b[38;5;33mConv2D\u001b[0m)                    │ (\u001b[38;5;45mNone\u001b[0m, \u001b[38;5;34m12\u001b[0m, \u001b[38;5;34m12\u001b[0m, \u001b[38;5;34m256\u001b[0m)         │         \u001b[38;5;34m590,080\u001b[0m │\n",
       "├──────────────────────────────────────┼─────────────────────────────┼─────────────────┤\n",
       "│ max_pooling2d_3 (\u001b[38;5;33mMaxPooling2D\u001b[0m)       │ (\u001b[38;5;45mNone\u001b[0m, \u001b[38;5;34m6\u001b[0m, \u001b[38;5;34m6\u001b[0m, \u001b[38;5;34m256\u001b[0m)           │               \u001b[38;5;34m0\u001b[0m │\n",
       "├──────────────────────────────────────┼─────────────────────────────┼─────────────────┤\n",
       "│ conv2d_8 (\u001b[38;5;33mConv2D\u001b[0m)                    │ (\u001b[38;5;45mNone\u001b[0m, \u001b[38;5;34m6\u001b[0m, \u001b[38;5;34m6\u001b[0m, \u001b[38;5;34m512\u001b[0m)           │       \u001b[38;5;34m1,180,160\u001b[0m │\n",
       "├──────────────────────────────────────┼─────────────────────────────┼─────────────────┤\n",
       "│ conv2d_9 (\u001b[38;5;33mConv2D\u001b[0m)                    │ (\u001b[38;5;45mNone\u001b[0m, \u001b[38;5;34m4\u001b[0m, \u001b[38;5;34m4\u001b[0m, \u001b[38;5;34m512\u001b[0m)           │       \u001b[38;5;34m2,359,808\u001b[0m │\n",
       "├──────────────────────────────────────┼─────────────────────────────┼─────────────────┤\n",
       "│ max_pooling2d_4 (\u001b[38;5;33mMaxPooling2D\u001b[0m)       │ (\u001b[38;5;45mNone\u001b[0m, \u001b[38;5;34m2\u001b[0m, \u001b[38;5;34m2\u001b[0m, \u001b[38;5;34m512\u001b[0m)           │               \u001b[38;5;34m0\u001b[0m │\n",
       "├──────────────────────────────────────┼─────────────────────────────┼─────────────────┤\n",
       "│ dropout (\u001b[38;5;33mDropout\u001b[0m)                    │ (\u001b[38;5;45mNone\u001b[0m, \u001b[38;5;34m2\u001b[0m, \u001b[38;5;34m2\u001b[0m, \u001b[38;5;34m512\u001b[0m)           │               \u001b[38;5;34m0\u001b[0m │\n",
       "├──────────────────────────────────────┼─────────────────────────────┼─────────────────┤\n",
       "│ flatten (\u001b[38;5;33mFlatten\u001b[0m)                    │ (\u001b[38;5;45mNone\u001b[0m, \u001b[38;5;34m2048\u001b[0m)                │               \u001b[38;5;34m0\u001b[0m │\n",
       "├──────────────────────────────────────┼─────────────────────────────┼─────────────────┤\n",
       "│ dense (\u001b[38;5;33mDense\u001b[0m)                        │ (\u001b[38;5;45mNone\u001b[0m, \u001b[38;5;34m1500\u001b[0m)                │       \u001b[38;5;34m3,073,500\u001b[0m │\n",
       "├──────────────────────────────────────┼─────────────────────────────┼─────────────────┤\n",
       "│ dropout_1 (\u001b[38;5;33mDropout\u001b[0m)                  │ (\u001b[38;5;45mNone\u001b[0m, \u001b[38;5;34m1500\u001b[0m)                │               \u001b[38;5;34m0\u001b[0m │\n",
       "├──────────────────────────────────────┼─────────────────────────────┼─────────────────┤\n",
       "│ dense_1 (\u001b[38;5;33mDense\u001b[0m)                      │ (\u001b[38;5;45mNone\u001b[0m, \u001b[38;5;34m4\u001b[0m)                   │           \u001b[38;5;34m6,004\u001b[0m │\n",
       "└──────────────────────────────────────┴─────────────────────────────┴─────────────────┘\n"
      ]
     },
     "metadata": {},
     "output_type": "display_data"
    },
    {
     "data": {
      "text/html": [
       "<pre style=\"white-space:pre;overflow-x:auto;line-height:normal;font-family:Menlo,'DejaVu Sans Mono',consolas,'Courier New',monospace\"><span style=\"font-weight: bold\"> Total params: </span><span style=\"color: #00af00; text-decoration-color: #00af00\">7,791,728</span> (29.72 MB)\n",
       "</pre>\n"
      ],
      "text/plain": [
       "\u001b[1m Total params: \u001b[0m\u001b[38;5;34m7,791,728\u001b[0m (29.72 MB)\n"
      ]
     },
     "metadata": {},
     "output_type": "display_data"
    },
    {
     "data": {
      "text/html": [
       "<pre style=\"white-space:pre;overflow-x:auto;line-height:normal;font-family:Menlo,'DejaVu Sans Mono',consolas,'Courier New',monospace\"><span style=\"font-weight: bold\"> Trainable params: </span><span style=\"color: #00af00; text-decoration-color: #00af00\">7,791,728</span> (29.72 MB)\n",
       "</pre>\n"
      ],
      "text/plain": [
       "\u001b[1m Trainable params: \u001b[0m\u001b[38;5;34m7,791,728\u001b[0m (29.72 MB)\n"
      ]
     },
     "metadata": {},
     "output_type": "display_data"
    },
    {
     "data": {
      "text/html": [
       "<pre style=\"white-space:pre;overflow-x:auto;line-height:normal;font-family:Menlo,'DejaVu Sans Mono',consolas,'Courier New',monospace\"><span style=\"font-weight: bold\"> Non-trainable params: </span><span style=\"color: #00af00; text-decoration-color: #00af00\">0</span> (0.00 B)\n",
       "</pre>\n"
      ],
      "text/plain": [
       "\u001b[1m Non-trainable params: \u001b[0m\u001b[38;5;34m0\u001b[0m (0.00 B)\n"
      ]
     },
     "metadata": {},
     "output_type": "display_data"
    }
   ],
   "source": [
    "model.summary()"
   ]
  },
  {
   "cell_type": "markdown",
   "id": "ee25ac9e-9169-4666-aacd-3a0ff6614ed4",
   "metadata": {},
   "source": [
    "## Model Training"
   ]
  },
  {
   "cell_type": "code",
   "execution_count": 49,
   "id": "fcb5f1ee-b998-4189-81f0-1e70c7d7297d",
   "metadata": {},
   "outputs": [
    {
     "name": "stdout",
     "output_type": "stream",
     "text": [
      "Epoch 1/10\n",
      "\u001b[1m3/3\u001b[0m \u001b[32m━━━━━━━━━━━━━━━━━━━━\u001b[0m\u001b[37m\u001b[0m \u001b[1m17s\u001b[0m 3s/step - accuracy: 0.2355 - loss: 1.8951 - val_accuracy: 0.4526 - val_loss: 1.2917\n",
      "Epoch 2/10\n",
      "\u001b[1m3/3\u001b[0m \u001b[32m━━━━━━━━━━━━━━━━━━━━\u001b[0m\u001b[37m\u001b[0m \u001b[1m7s\u001b[0m 3s/step - accuracy: 0.3444 - loss: 1.3457 - val_accuracy: 0.5368 - val_loss: 1.2205\n",
      "Epoch 3/10\n",
      "\u001b[1m3/3\u001b[0m \u001b[32m━━━━━━━━━━━━━━━━━━━━\u001b[0m\u001b[37m\u001b[0m \u001b[1m7s\u001b[0m 2s/step - accuracy: 0.4240 - loss: 1.2759 - val_accuracy: 0.5684 - val_loss: 1.1256\n",
      "Epoch 4/10\n",
      "\u001b[1m3/3\u001b[0m \u001b[32m━━━━━━━━━━━━━━━━━━━━\u001b[0m\u001b[37m\u001b[0m \u001b[1m8s\u001b[0m 3s/step - accuracy: 0.4620 - loss: 1.2037 - val_accuracy: 0.5263 - val_loss: 1.0740\n",
      "Epoch 5/10\n",
      "\u001b[1m3/3\u001b[0m \u001b[32m━━━━━━━━━━━━━━━━━━━━\u001b[0m\u001b[37m\u001b[0m \u001b[1m7s\u001b[0m 3s/step - accuracy: 0.4829 - loss: 1.0899 - val_accuracy: 0.5579 - val_loss: 1.0060\n",
      "Epoch 6/10\n",
      "\u001b[1m3/3\u001b[0m \u001b[32m━━━━━━━━━━━━━━━━━━━━\u001b[0m\u001b[37m\u001b[0m \u001b[1m7s\u001b[0m 3s/step - accuracy: 0.6150 - loss: 0.9780 - val_accuracy: 0.6737 - val_loss: 0.9128\n",
      "Epoch 7/10\n",
      "\u001b[1m3/3\u001b[0m \u001b[32m━━━━━━━━━━━━━━━━━━━━\u001b[0m\u001b[37m\u001b[0m \u001b[1m7s\u001b[0m 3s/step - accuracy: 0.6127 - loss: 1.0015 - val_accuracy: 0.6526 - val_loss: 0.8314\n",
      "Epoch 8/10\n",
      "\u001b[1m3/3\u001b[0m \u001b[32m━━━━━━━━━━━━━━━━━━━━\u001b[0m\u001b[37m\u001b[0m \u001b[1m9s\u001b[0m 3s/step - accuracy: 0.7538 - loss: 0.8551 - val_accuracy: 0.6947 - val_loss: 0.7717\n",
      "Epoch 9/10\n",
      "\u001b[1m3/3\u001b[0m \u001b[32m━━━━━━━━━━━━━━━━━━━━\u001b[0m\u001b[37m\u001b[0m \u001b[1m11s\u001b[0m 4s/step - accuracy: 0.6532 - loss: 0.7965 - val_accuracy: 0.7579 - val_loss: 0.7026\n",
      "Epoch 10/10\n",
      "\u001b[1m3/3\u001b[0m \u001b[32m━━━━━━━━━━━━━━━━━━━━\u001b[0m\u001b[37m\u001b[0m \u001b[1m8s\u001b[0m 3s/step - accuracy: 0.6964 - loss: 0.7615 - val_accuracy: 0.7474 - val_loss: 0.6327\n"
     ]
    }
   ],
   "source": [
    "training_history = model.fit(x=training_set,validation_data=validation_set,epochs=10)"
   ]
  },
  {
   "cell_type": "code",
   "execution_count": null,
   "id": "93c21662-a360-4832-94ab-d6a7010696c2",
   "metadata": {},
   "outputs": [],
   "source": []
  },
  {
   "cell_type": "markdown",
   "id": "34170976-8b86-4800-a706-8ef4beba4a8f",
   "metadata": {},
   "source": [
    "### Model Evaluation"
   ]
  },
  {
   "cell_type": "markdown",
   "id": "34a18a3d-fca1-4917-a7d5-ac189b601d0f",
   "metadata": {},
   "source": [
    "### Model Evaluation on training set"
   ]
  },
  {
   "cell_type": "code",
   "execution_count": 54,
   "id": "7e6d58e0-4b41-4222-9d44-3232d26a2c37",
   "metadata": {},
   "outputs": [
    {
     "name": "stdout",
     "output_type": "stream",
     "text": [
      "\u001b[1m3/3\u001b[0m \u001b[32m━━━━━━━━━━━━━━━━━━━━\u001b[0m\u001b[37m\u001b[0m \u001b[1m1s\u001b[0m 456ms/step - accuracy: 0.7526 - loss: 0.6383\n"
     ]
    }
   ],
   "source": [
    "train_loss,train_acc = model.evaluate(training_set)"
   ]
  },
  {
   "cell_type": "code",
   "execution_count": 56,
   "id": "1d040513-4e9c-42ba-a540-d28fba0044ce",
   "metadata": {},
   "outputs": [
    {
     "name": "stdout",
     "output_type": "stream",
     "text": [
      "0.632655918598175 0.7473683953285217\n"
     ]
    }
   ],
   "source": [
    "print(train_loss,train_acc)"
   ]
  },
  {
   "cell_type": "code",
   "execution_count": 58,
   "id": "1b07702b-d909-4ed9-80ab-2039a0731726",
   "metadata": {},
   "outputs": [
    {
     "name": "stdout",
     "output_type": "stream",
     "text": [
      "\u001b[1m3/3\u001b[0m \u001b[32m━━━━━━━━━━━━━━━━━━━━\u001b[0m\u001b[37m\u001b[0m \u001b[1m1s\u001b[0m 440ms/step - accuracy: 0.7643 - loss: 0.6374\n"
     ]
    }
   ],
   "source": [
    "val_loss,val_acc = model.evaluate(validation_set)"
   ]
  },
  {
   "cell_type": "code",
   "execution_count": 60,
   "id": "78c5a27d-9132-4095-9ade-4bacf74e9ef7",
   "metadata": {},
   "outputs": [
    {
     "name": "stdout",
     "output_type": "stream",
     "text": [
      "0.632655918598175 0.7473683953285217\n"
     ]
    }
   ],
   "source": [
    "print(val_loss,val_acc)"
   ]
  },
  {
   "cell_type": "code",
   "execution_count": null,
   "id": "fded5163-e41c-4970-85f7-a7611ef8e464",
   "metadata": {},
   "outputs": [],
   "source": []
  },
  {
   "cell_type": "markdown",
   "id": "a183b1cd-a161-4669-96b0-2a07b5e57dc2",
   "metadata": {},
   "source": [
    "### Saving Model"
   ]
  },
  {
   "cell_type": "code",
   "execution_count": 64,
   "id": "a3571487-2446-425b-bbef-baee06dab52b",
   "metadata": {},
   "outputs": [],
   "source": [
    "model.save(\"trained_model.keras\")"
   ]
  },
  {
   "cell_type": "code",
   "execution_count": 65,
   "id": "f91d1e32-5f33-4f54-9480-11be6448ec11",
   "metadata": {
    "scrolled": true
   },
   "outputs": [
    {
     "data": {
      "text/plain": [
       "[0.4526315927505493,\n",
       " 0.5368421077728271,\n",
       " 0.5684210658073425,\n",
       " 0.5263158082962036,\n",
       " 0.557894766330719,\n",
       " 0.6736842393875122,\n",
       " 0.6526315808296204,\n",
       " 0.6947368383407593,\n",
       " 0.75789475440979,\n",
       " 0.7473683953285217]"
      ]
     },
     "execution_count": 65,
     "metadata": {},
     "output_type": "execute_result"
    }
   ],
   "source": [
    "training_history.history['val_accuracy']"
   ]
  },
  {
   "cell_type": "code",
   "execution_count": 68,
   "id": "ca5d7974-44af-468e-bd93-1f98cf23d7d8",
   "metadata": {},
   "outputs": [],
   "source": [
    "### Recording History in json\n",
    "import json\n",
    "with open(\"training_hist.json\",\"w\") as f:\n",
    "     json.dump(training_history.history,f)"
   ]
  },
  {
   "cell_type": "code",
   "execution_count": null,
   "id": "d11470a1-379c-46f8-8a89-a6cdd7e3b293",
   "metadata": {},
   "outputs": [],
   "source": []
  },
  {
   "cell_type": "markdown",
   "id": "daf37d55-3185-48b6-925e-b740fc9af61c",
   "metadata": {},
   "source": [
    "### Accuracy Visualization"
   ]
  },
  {
   "cell_type": "code",
   "execution_count": 72,
   "id": "21059fdf-ad3a-4464-9b53-a4650833b9f7",
   "metadata": {},
   "outputs": [
    {
     "data": {
      "image/png": "[encoded data removed]",
      "text/plain": [
       "<Figure size 640x480 with 1 Axes>"
      ]
     },
     "metadata": {},
     "output_type": "display_data"
    }
   ],
   "source": [
    "epochs = [i for i in range(1,11)]\n",
    "plt.plot(epochs,training_history.history['accuracy'],color='red',label='training Accuracy')\n",
    "plt.plot(epochs,training_history.history['val_accuracy'],color='blue',label='validation Accuracy')\n",
    "plt.xlabel(\"No. of epochs\")\n",
    "plt.ylabel(\"Accuracy Result\")\n",
    "plt.title(\"Visualization of Accuracy Result\")\n",
    "plt.legend()\n",
    "plt.show()"
   ]
  },
  {
   "cell_type": "code",
   "execution_count": null,
   "id": "383f5bb0-ce6d-4450-a80a-d3068a800276",
   "metadata": {},
   "outputs": [],
   "source": []
  },
  {
   "cell_type": "markdown",
   "id": "62dc8182-5464-40c2-9e0b-f11a5b9a46ea",
   "metadata": {},
   "source": [
    "### Some other metric for model evaluation"
   ]
  },
  {
   "cell_type": "code",
   "execution_count": 76,
   "id": "280f3dc8-e33e-4f49-a972-14e3b26c47f5",
   "metadata": {},
   "outputs": [
    {
     "data": {
      "text/plain": [
       "['Egg_Class B', 'Egg_Fresh Class AA', 'Egg_Fresh Class B', 'Egg_stale']"
      ]
     },
     "execution_count": 76,
     "metadata": {},
     "output_type": "execute_result"
    }
   ],
   "source": [
    "class_name = validation_set.class_names\n",
    "class_name"
   ]
  },
  {
   "cell_type": "code",
   "execution_count": null,
   "id": "10cc2001-16c6-4b71-9fb7-930d07dd7176",
   "metadata": {},
   "outputs": [],
   "source": []
  },
  {
   "cell_type": "code",
   "execution_count": 79,
   "id": "65a2d179-f58c-463a-bfab-9132a34d1d70",
   "metadata": {},
   "outputs": [
    {
     "name": "stdout",
     "output_type": "stream",
     "text": [
      "Found 95 files belonging to 4 classes.\n"
     ]
    }
   ],
   "source": [
    "test_set = tf.keras.utils.image_dataset_from_directory(\n",
    "    'valid',\n",
    "    labels=\"inferred\",\n",
    "    label_mode=\"categorical\",\n",
    "    class_names=None,\n",
    "    color_mode=\"rgb\",\n",
    "    batch_size=32,\n",
    "    image_size=(128, 128),\n",
    "    shuffle=False,\n",
    "    seed=None,\n",
    "    validation_split=None,\n",
    "    subset=None,\n",
    "    interpolation=\"bilinear\",\n",
    "    follow_links=False,\n",
    "    crop_to_aspect_ratio=False, \n",
    ")"
   ]
  },
  {
   "cell_type": "code",
   "execution_count": 81,
   "id": "740b7f8f-062a-4d1b-9cc9-f354762a878c",
   "metadata": {
    "scrolled": true
   },
   "outputs": [
    {
     "name": "stdout",
     "output_type": "stream",
     "text": [
      "\u001b[1m3/3\u001b[0m \u001b[32m━━━━━━━━━━━━━━━━━━━━\u001b[0m\u001b[37m\u001b[0m \u001b[1m2s\u001b[0m 544ms/step\n"
     ]
    },
    {
     "data": {
      "text/plain": [
       "(array([[0.18532701, 0.3276895 , 0.46472752, 0.0222559 ],\n",
       "        [0.6230341 , 0.03391128, 0.1693237 , 0.17373091],\n",
       "        [0.2428139 , 0.4974802 , 0.15041645, 0.10928941],\n",
       "        [0.06583522, 0.8052451 , 0.01642825, 0.11249141],\n",
       "        [0.4055889 , 0.24961789, 0.20002526, 0.14476791],\n",
       "        [0.32614353, 0.56632787, 0.05247758, 0.05505103],\n",
       "        [0.32294428, 0.3378403 , 0.23558009, 0.10363533],\n",
       "        [0.59472275, 0.00293438, 0.39452252, 0.00782035],\n",
       "        [0.59472275, 0.00293438, 0.39452252, 0.00782035],\n",
       "        [0.72592515, 0.00819199, 0.26389024, 0.00199264],\n",
       "        [0.73026395, 0.09174612, 0.12699749, 0.05099238],\n",
       "        [0.19475847, 0.30820355, 0.19508177, 0.30195624],\n",
       "        [0.94105387, 0.00752999, 0.03916097, 0.01225514],\n",
       "        [0.59472275, 0.00293438, 0.39452252, 0.00782035],\n",
       "        [0.06616551, 0.8592535 , 0.06625637, 0.00832461],\n",
       "        [0.97992444, 0.00570371, 0.00937228, 0.00499953],\n",
       "        [0.32294428, 0.3378403 , 0.23558009, 0.10363533],\n",
       "        [0.72592515, 0.00819199, 0.26389024, 0.00199264],\n",
       "        [0.94105387, 0.00752999, 0.03916097, 0.01225514],\n",
       "        [0.16596197, 0.20037746, 0.10159075, 0.5320698 ],\n",
       "        [0.19870901, 0.48459965, 0.23694731, 0.07974409],\n",
       "        [0.07109419, 0.43188155, 0.07760183, 0.41942248],\n",
       "        [0.04608846, 0.4132835 , 0.35146418, 0.18916383],\n",
       "        [0.19456713, 0.3835018 , 0.13530582, 0.28662527],\n",
       "        [0.06777412, 0.85585934, 0.06804227, 0.00832419],\n",
       "        [0.30819082, 0.5899303 , 0.04838459, 0.05349424],\n",
       "        [0.16651839, 0.70516074, 0.11122964, 0.01709128],\n",
       "        [0.007572  , 0.9697873 , 0.00624655, 0.01639411],\n",
       "        [0.02035138, 0.87600434, 0.0249486 , 0.07869573],\n",
       "        [0.0063862 , 0.9769273 , 0.00519589, 0.01149069],\n",
       "        [0.02555301, 0.8900762 , 0.03818972, 0.04618108],\n",
       "        [0.01023916, 0.9647007 , 0.00835249, 0.01670767],\n",
       "        [0.009014  , 0.95706385, 0.0108065 , 0.02311559],\n",
       "        [0.01089967, 0.9511674 , 0.00942456, 0.02850835],\n",
       "        [0.02619906, 0.8915963 , 0.033603  , 0.04860171],\n",
       "        [0.00415128, 0.95380694, 0.02048165, 0.02156021],\n",
       "        [0.01891624, 0.90101147, 0.01174338, 0.06832889],\n",
       "        [0.01705788, 0.9302105 , 0.01446203, 0.03826972],\n",
       "        [0.00986889, 0.9453387 , 0.0105306 , 0.03426179],\n",
       "        [0.00568184, 0.95100904, 0.01975785, 0.02355135],\n",
       "        [0.00547107, 0.95049435, 0.02053655, 0.02349796],\n",
       "        [0.0547683 , 0.20526963, 0.48588544, 0.25407666],\n",
       "        [0.05879135, 0.8562532 , 0.06817594, 0.01677957],\n",
       "        [0.446583  , 0.30662832, 0.23719673, 0.00959199],\n",
       "        [0.01870213, 0.8873719 , 0.04403597, 0.04988999],\n",
       "        [0.01998899, 0.92979544, 0.02671712, 0.02349848],\n",
       "        [0.00983675, 0.9497602 , 0.02016872, 0.02023428],\n",
       "        [0.05879135, 0.8562532 , 0.06817594, 0.01677957],\n",
       "        [0.01500613, 0.92637557, 0.02283222, 0.03578604],\n",
       "        [0.00983675, 0.9497602 , 0.02016872, 0.02023428],\n",
       "        [0.07788174, 0.66090375, 0.2528316 , 0.00838295],\n",
       "        [0.0547683 , 0.20526963, 0.48588544, 0.25407666],\n",
       "        [0.01998899, 0.92979544, 0.02671712, 0.02349848],\n",
       "        [0.07109419, 0.43188155, 0.07760183, 0.41942248],\n",
       "        [0.2428139 , 0.4974802 , 0.15041645, 0.10928941],\n",
       "        [0.17138484, 0.28179452, 0.24166295, 0.30515766],\n",
       "        [0.03936565, 0.08066595, 0.861705  , 0.01826346],\n",
       "        [0.02500716, 0.08957164, 0.8823329 , 0.00308827],\n",
       "        [0.0547683 , 0.20526963, 0.48588544, 0.25407666],\n",
       "        [0.0547683 , 0.20526963, 0.48588544, 0.25407666],\n",
       "        [0.05365485, 0.2844863 , 0.47956005, 0.1822988 ],\n",
       "        [0.0859706 , 0.41379875, 0.15833624, 0.34189445],\n",
       "        [0.0547683 , 0.20526963, 0.48588544, 0.25407666],\n",
       "        [0.0547683 , 0.20526963, 0.48588544, 0.25407666],\n",
       "        [0.1529136 , 0.6044274 , 0.18934844, 0.05331057],\n",
       "        [0.00969666, 0.16198504, 0.8159495 , 0.01236886],\n",
       "        [0.72592515, 0.00819199, 0.26389024, 0.00199264],\n",
       "        [0.02500716, 0.08957164, 0.8823329 , 0.00308827],\n",
       "        [0.02536147, 0.03213928, 0.7630478 , 0.17945144],\n",
       "        [0.07199199, 0.04163643, 0.87745136, 0.00892015],\n",
       "        [0.59472275, 0.00293438, 0.39452252, 0.00782035],\n",
       "        [0.59472275, 0.00293438, 0.39452252, 0.00782035],\n",
       "        [0.19923453, 0.13712606, 0.6620822 , 0.00155714],\n",
       "        [0.3866725 , 0.17092855, 0.29682928, 0.14556958],\n",
       "        [0.01755683, 0.13742225, 0.828384  , 0.0166369 ],\n",
       "        [0.01755683, 0.13742225, 0.828384  , 0.0166369 ],\n",
       "        [0.11370485, 0.45954597, 0.08217487, 0.34457436],\n",
       "        [0.07666598, 0.20461905, 0.12373555, 0.59497947],\n",
       "        [0.11614727, 0.11926664, 0.03316077, 0.7314254 ],\n",
       "        [0.04151208, 0.14986828, 0.08390596, 0.7247137 ],\n",
       "        [0.06183808, 0.06158628, 0.1684841 , 0.70809156],\n",
       "        [0.13148364, 0.3225881 , 0.07448354, 0.47144476],\n",
       "        [0.03627726, 0.04728036, 0.03618565, 0.8802567 ],\n",
       "        [0.053498  , 0.10404643, 0.04095069, 0.8015049 ],\n",
       "        [0.0297219 , 0.11038276, 0.08235255, 0.77754277],\n",
       "        [0.18790638, 0.24029793, 0.09945736, 0.47233835],\n",
       "        [0.17135888, 0.28482303, 0.24305785, 0.30076024],\n",
       "        [0.06531622, 0.51108557, 0.08328252, 0.34031573],\n",
       "        [0.26455054, 0.19133799, 0.14021531, 0.40389618],\n",
       "        [0.17208825, 0.2850139 , 0.24542755, 0.29747036],\n",
       "        [0.04581555, 0.17630301, 0.1181489 , 0.6597325 ],\n",
       "        [0.17202334, 0.33678463, 0.20279174, 0.2884003 ],\n",
       "        [0.03627726, 0.04728036, 0.03618565, 0.8802567 ],\n",
       "        [0.17041233, 0.42432916, 0.1045098 , 0.3007488 ],\n",
       "        [0.12668724, 0.08712772, 0.04420621, 0.7419788 ]], dtype=float32),\n",
       " (95, 4))"
      ]
     },
     "execution_count": 81,
     "metadata": {},
     "output_type": "execute_result"
    }
   ],
   "source": [
    "y_pred = model.predict(test_set)\n",
    "y_pred,y_pred.shape"
   ]
  },
  {
   "cell_type": "code",
   "execution_count": 83,
   "id": "235bd7bb-9a0b-4bfa-b123-d8bb1fb50012",
   "metadata": {},
   "outputs": [],
   "source": [
    "predicted_categories = tf.argmax(y_pred,axis=1)"
   ]
  },
  {
   "cell_type": "code",
   "execution_count": 85,
   "id": "a4d6499e-d3be-4054-8e78-d5586954ae71",
   "metadata": {},
   "outputs": [
    {
     "data": {
      "text/plain": [
       "<tf.Tensor: shape=(95,), dtype=int64, numpy=\n",
       "array([2, 0, 1, 1, 0, 1, 1, 0, 0, 0, 0, 1, 0, 0, 1, 0, 1, 0, 0, 3, 1, 1,\n",
       "       1, 1, 1, 1, 1, 1, 1, 1, 1, 1, 1, 1, 1, 1, 1, 1, 1, 1, 1, 2, 1, 0,\n",
       "       1, 1, 1, 1, 1, 1, 1, 2, 1, 1, 1, 3, 2, 2, 2, 2, 2, 1, 2, 2, 1, 2,\n",
       "       0, 2, 2, 2, 0, 0, 2, 0, 2, 2, 1, 3, 3, 3, 3, 3, 3, 3, 3, 3, 3, 1,\n",
       "       3, 3, 3, 1, 3, 1, 3], dtype=int64)>"
      ]
     },
     "execution_count": 85,
     "metadata": {},
     "output_type": "execute_result"
    }
   ],
   "source": [
    "predicted_categories"
   ]
  },
  {
   "cell_type": "code",
   "execution_count": 87,
   "id": "85b16f41-dcfe-4cd5-b685-7002f147b62b",
   "metadata": {
    "scrolled": true
   },
   "outputs": [
    {
     "data": {
      "text/plain": [
       "<tf.Tensor: shape=(95, 4), dtype=float32, numpy=\n",
       "array([[1., 0., 0., 0.],\n",
       "       [1., 0., 0., 0.],\n",
       "       [1., 0., 0., 0.],\n",
       "       [1., 0., 0., 0.],\n",
       "       [1., 0., 0., 0.],\n",
       "       [1., 0., 0., 0.],\n",
       "       [1., 0., 0., 0.],\n",
       "       [1., 0., 0., 0.],\n",
       "       [1., 0., 0., 0.],\n",
       "       [1., 0., 0., 0.],\n",
       "       [1., 0., 0., 0.],\n",
       "       [1., 0., 0., 0.],\n",
       "       [1., 0., 0., 0.],\n",
       "       [1., 0., 0., 0.],\n",
       "       [1., 0., 0., 0.],\n",
       "       [1., 0., 0., 0.],\n",
       "       [1., 0., 0., 0.],\n",
       "       [1., 0., 0., 0.],\n",
       "       [1., 0., 0., 0.],\n",
       "       [1., 0., 0., 0.],\n",
       "       [0., 1., 0., 0.],\n",
       "       [0., 1., 0., 0.],\n",
       "       [0., 1., 0., 0.],\n",
       "       [0., 1., 0., 0.],\n",
       "       [0., 1., 0., 0.],\n",
       "       [0., 1., 0., 0.],\n",
       "       [0., 1., 0., 0.],\n",
       "       [0., 1., 0., 0.],\n",
       "       [0., 1., 0., 0.],\n",
       "       [0., 1., 0., 0.],\n",
       "       [0., 1., 0., 0.],\n",
       "       [0., 1., 0., 0.],\n",
       "       [0., 1., 0., 0.],\n",
       "       [0., 1., 0., 0.],\n",
       "       [0., 1., 0., 0.],\n",
       "       [0., 1., 0., 0.],\n",
       "       [0., 1., 0., 0.],\n",
       "       [0., 1., 0., 0.],\n",
       "       [0., 1., 0., 0.],\n",
       "       [0., 1., 0., 0.],\n",
       "       [0., 1., 0., 0.],\n",
       "       [0., 1., 0., 0.],\n",
       "       [0., 1., 0., 0.],\n",
       "       [0., 1., 0., 0.],\n",
       "       [0., 1., 0., 0.],\n",
       "       [0., 1., 0., 0.],\n",
       "       [0., 1., 0., 0.],\n",
       "       [0., 1., 0., 0.],\n",
       "       [0., 1., 0., 0.],\n",
       "       [0., 1., 0., 0.],\n",
       "       [0., 1., 0., 0.],\n",
       "       [0., 1., 0., 0.],\n",
       "       [0., 1., 0., 0.],\n",
       "       [0., 1., 0., 0.],\n",
       "       [0., 0., 1., 0.],\n",
       "       [0., 0., 1., 0.],\n",
       "       [0., 0., 1., 0.],\n",
       "       [0., 0., 1., 0.],\n",
       "       [0., 0., 1., 0.],\n",
       "       [0., 0., 1., 0.],\n",
       "       [0., 0., 1., 0.],\n",
       "       [0., 0., 1., 0.],\n",
       "       [0., 0., 1., 0.],\n",
       "       [0., 0., 1., 0.],\n",
       "       [0., 0., 1., 0.],\n",
       "       [0., 0., 1., 0.],\n",
       "       [0., 0., 1., 0.],\n",
       "       [0., 0., 1., 0.],\n",
       "       [0., 0., 1., 0.],\n",
       "       [0., 0., 1., 0.],\n",
       "       [0., 0., 1., 0.],\n",
       "       [0., 0., 1., 0.],\n",
       "       [0., 0., 1., 0.],\n",
       "       [0., 0., 1., 0.],\n",
       "       [0., 0., 1., 0.],\n",
       "       [0., 0., 1., 0.],\n",
       "       [0., 0., 0., 1.],\n",
       "       [0., 0., 0., 1.],\n",
       "       [0., 0., 0., 1.],\n",
       "       [0., 0., 0., 1.],\n",
       "       [0., 0., 0., 1.],\n",
       "       [0., 0., 0., 1.],\n",
       "       [0., 0., 0., 1.],\n",
       "       [0., 0., 0., 1.],\n",
       "       [0., 0., 0., 1.],\n",
       "       [0., 0., 0., 1.],\n",
       "       [0., 0., 0., 1.],\n",
       "       [0., 0., 0., 1.],\n",
       "       [0., 0., 0., 1.],\n",
       "       [0., 0., 0., 1.],\n",
       "       [0., 0., 0., 1.],\n",
       "       [0., 0., 0., 1.],\n",
       "       [0., 0., 0., 1.],\n",
       "       [0., 0., 0., 1.],\n",
       "       [0., 0., 0., 1.]], dtype=float32)>"
      ]
     },
     "execution_count": 87,
     "metadata": {},
     "output_type": "execute_result"
    }
   ],
   "source": [
    "true_categories = tf.concat([y for x,y in test_set],axis=0)\n",
    "true_categories"
   ]
  },
  {
   "cell_type": "code",
   "execution_count": 89,
   "id": "1ea1a314-cba8-4b55-8da5-46a7e71f39ff",
   "metadata": {},
   "outputs": [
    {
     "data": {
      "text/plain": [
       "<tf.Tensor: shape=(95,), dtype=int64, numpy=\n",
       "array([0, 0, 0, 0, 0, 0, 0, 0, 0, 0, 0, 0, 0, 0, 0, 0, 0, 0, 0, 0, 1, 1,\n",
       "       1, 1, 1, 1, 1, 1, 1, 1, 1, 1, 1, 1, 1, 1, 1, 1, 1, 1, 1, 1, 1, 1,\n",
       "       1, 1, 1, 1, 1, 1, 1, 1, 1, 1, 2, 2, 2, 2, 2, 2, 2, 2, 2, 2, 2, 2,\n",
       "       2, 2, 2, 2, 2, 2, 2, 2, 2, 2, 3, 3, 3, 3, 3, 3, 3, 3, 3, 3, 3, 3,\n",
       "       3, 3, 3, 3, 3, 3, 3], dtype=int64)>"
      ]
     },
     "execution_count": 89,
     "metadata": {},
     "output_type": "execute_result"
    }
   ],
   "source": [
    "Y_true = tf.argmax(true_categories,axis=1)\n",
    "Y_true"
   ]
  },
  {
   "cell_type": "code",
   "execution_count": null,
   "id": "48b85dab-2529-457e-9606-832ab4e4fc2f",
   "metadata": {},
   "outputs": [],
   "source": []
  },
  {
   "cell_type": "code",
   "execution_count": 92,
   "id": "1bfb2275-6791-48e5-80f3-68b3bafd958b",
   "metadata": {},
   "outputs": [],
   "source": [
    "from sklearn.metrics import classification_report,confusion_matrix"
   ]
  },
  {
   "cell_type": "code",
   "execution_count": 93,
   "id": "593117b0-142d-4d67-80d2-34a97f5df182",
   "metadata": {},
   "outputs": [
    {
     "name": "stdout",
     "output_type": "stream",
     "text": [
      "                    precision    recall  f1-score   support\n",
      "\n",
      "       Egg_Class B       0.69      0.55      0.61        20\n",
      "Egg_Fresh Class AA       0.69      0.91      0.78        34\n",
      " Egg_Fresh Class B       0.82      0.64      0.72        22\n",
      "         Egg_stale       0.88      0.79      0.83        19\n",
      "\n",
      "          accuracy                           0.75        95\n",
      "         macro avg       0.77      0.72      0.74        95\n",
      "      weighted avg       0.76      0.75      0.74        95\n",
      "\n"
     ]
    }
   ],
   "source": [
    "print(classification_report(Y_true,predicted_categories,target_names=class_name))"
   ]
  },
  {
   "cell_type": "code",
   "execution_count": 94,
   "id": "5b023d13-a2bb-486d-b37a-8b31b8b33594",
   "metadata": {},
   "outputs": [
    {
     "data": {
      "text/plain": [
       "(4, 4)"
      ]
     },
     "execution_count": 94,
     "metadata": {},
     "output_type": "execute_result"
    }
   ],
   "source": [
    "cm = confusion_matrix(Y_true,predicted_categories)\n",
    "cm.shape"
   ]
  },
  {
   "cell_type": "markdown",
   "id": "9568c7e3-dd31-4587-a73a-d7c12038da46",
   "metadata": {},
   "source": [
    "### Confusion Matrix Visualization"
   ]
  },
  {
   "cell_type": "code",
   "execution_count": 99,
   "id": "3742c79a-62d9-4fdb-9511-70d3d94a1011",
   "metadata": {},
   "outputs": [
    {
     "data": {
      "image/png": "[encoded data removed]",
      "text/plain": [
       "<Figure size 640x480 with 2 Axes>"
      ]
     },
     "metadata": {},
     "output_type": "display_data"
    }
   ],
   "source": [
    "sns.heatmap(cm,annot=True)\n",
    "plt.xlabel(\"Predicted Class\")\n",
    "plt.ylabel(\"Actual Class\") \n",
    "plt.title(\"Egg Class Prediction Confusion Matrix\")\n",
    "plt.show()"
   ]
  },
  {
   "cell_type": "code",
   "execution_count": null,
   "id": "5cef3ba1-1433-4954-849c-50e04a3cf404",
   "metadata": {},
   "outputs": [],
   "source": []
  },
  {
   "cell_type": "code",
   "execution_count": null,
   "id": "2b4407d7-1669-479f-802a-bc5c960b6110",
   "metadata": {},
   "outputs": [],
   "source": []
  },
  {
   "cell_type": "code",
   "execution_count": null,
   "id": "a0768a5d-9adb-423d-b279-edd24dcdbb0b",
   "metadata": {},
   "outputs": [],
   "source": []
  }
 ],
 "metadata": {
  "kernelspec": {
   "display_name": "Python 3 (ipykernel)",
   "language": "python",
   "name": "python3"
  },
  "language_info": {
   "codemirror_mode": {
    "name": "ipython",
    "version": 3
   },
   "file_extension": ".py",
   "mimetype": "text/x-python",
   "name": "python",
   "nbconvert_exporter": "python",
   "pygments_lexer": "ipython3",
   "version": "3.12.4"
  }
 },
 "nbformat": 4,
 "nbformat_minor": 5
}
